{
 "cells": [
  {
   "cell_type": "markdown",
   "metadata": {},
   "source": [
    "# Dynamics of the system\n"
   ]
  },
  {
   "cell_type": "code",
   "execution_count": 3,
   "metadata": {},
   "outputs": [],
   "source": [
    "import sympy as sp\n",
    "from sympy.physics.mechanics import dynamicsymbols, vlatex\n",
    "import numpy as np\n",
    "from IPython.display import display, Math\n",
    "from phaseportrait import PhasePortrait2D"
   ]
  },
  {
   "cell_type": "markdown",
   "metadata": {},
   "source": [
    "# The equations\n"
   ]
  },
  {
   "cell_type": "markdown",
   "metadata": {},
   "source": [
    "![alt text](assets/system_image.jpg)\n"
   ]
  },
  {
   "cell_type": "markdown",
   "metadata": {},
   "source": [
    "# Variables & symbolic constants\n"
   ]
  },
  {
   "cell_type": "markdown",
   "metadata": {},
   "source": [
    "Constants:\n",
    "\n",
    "- $m_d, m_B, m_E, m_{BE}, m_{AD}$ -- masses of disk, connector, end-effector and rods $BE$ and $AD$ respectively\n",
    "- $R, l_{BE}, l_{AD}$ -- radius of the disk, length of $BE$ and $AD$ respectively\n",
    "- $I_e$ -- inertia of end-effector around center of mass\n",
    "- Coordinates of point $A$\n",
    "- Angle of rotation of gravity force $\\theta_g$\n"
   ]
  },
  {
   "cell_type": "code",
   "execution_count": 41,
   "metadata": {},
   "outputs": [],
   "source": [
    "m_d, m_B, m_E, m_BE, m_AD = sp.symbols(\"m_d, m_B, m_E, m_{BE}, m_{AD}\")\n",
    "m_rod = m_B + m_E + m_BE + m_AD\n",
    "R, l_BE, l_AD = sp.symbols(\"R, l_{BE}, l_{AD}\")\n",
    "I_e = sp.symbols(\"I_e\")\n",
    "x_A, y_A = sp.symbols(\"x_A, y_A\")\n",
    "r_A = sp.Matrix([x_A, y_A])\n",
    "theta_g = sp.symbols(\"theta_g\")\n",
    "g = sp.symbols(\"g\")\n",
    "\n",
    "I_d = m_d * R**2 / 2"
   ]
  },
  {
   "cell_type": "markdown",
   "metadata": {},
   "source": [
    "Variables:\n",
    "\n",
    "- $\\theta(t)$ -- generalized coordinate, angle of rotations of the disk\n",
    "- $\\tau_{ext}$ -- external torque, applied to the disk\n"
   ]
  },
  {
   "cell_type": "code",
   "execution_count": 42,
   "metadata": {},
   "outputs": [],
   "source": [
    "t = sp.symbols(\"t\")\n",
    "theta, tau_ext = dynamicsymbols(\"theta, tau_{ext}\")\n",
    "dtheta = theta.diff(t)"
   ]
  },
  {
   "cell_type": "markdown",
   "metadata": {},
   "source": [
    "# System's points as function of coordinate\n"
   ]
  },
  {
   "cell_type": "markdown",
   "metadata": {},
   "source": [
    "There are many points & parameters in the system, which is important to derive from the system coordinates. These are:\n",
    "\n",
    "- $r_B, r_M, r_F, r_E$ -- coordinates of points $B, M, F, E$ respectively\n",
    "- Angle $\\alpha$ between rod and horizon\n",
    "- $l_{com}$ is a specific parameter, representing distance between point B and the center of mass of the inner rod\n",
    "- $\\frac{r_B - r_a}{||r_B - r_A||}$, represented as `r_AB_norm` is a normal vector, collinear with the rod\n"
   ]
  },
  {
   "cell_type": "code",
   "execution_count": 47,
   "metadata": {},
   "outputs": [],
   "source": [
    "x_B, y_B = R * sp.cos(theta), R * sp.sin(theta)\n",
    "r_B = sp.Matrix([x_B, y_B])\n",
    "\n",
    "alpha = sp.atan2(y_B - y_A, x_B - x_A)\n",
    "r_AB_norm = sp.Matrix([sp.cos(alpha), sp.sin(alpha)])\n",
    "\n",
    "r_M = r_A + r_AB_norm * l_AD / 2\n",
    "r_F = r_B + r_AB_norm * l_BE / 2\n",
    "r_E = r_B + r_AB_norm * l_BE\n",
    "\n",
    "l_com = (r_B - r_A).norm() - l_AD / 2"
   ]
  },
  {
   "cell_type": "code",
   "execution_count": 48,
   "metadata": {},
   "outputs": [
    {
     "data": {
      "text/latex": [
       "$\\displaystyle \\frac{\\frac{\\left(\\left(- \\operatorname{re}{\\left(x_{A}\\right)} + \\operatorname{re}{\\left(R \\cos{\\left(\\theta{\\left(t \\right)} \\right)}\\right)}\\right) \\frac{\\partial}{\\partial t} \\operatorname{re}{\\left(R \\cos{\\left(\\theta{\\left(t \\right)} \\right)}\\right)} + \\left(- \\operatorname{im}{\\left(x_{A}\\right)} + \\operatorname{im}{\\left(R \\cos{\\left(\\theta{\\left(t \\right)} \\right)}\\right)}\\right) \\frac{\\partial}{\\partial t} \\operatorname{im}{\\left(R \\cos{\\left(\\theta{\\left(t \\right)} \\right)}\\right)}\\right) \\left|{R \\cos{\\left(\\theta{\\left(t \\right)} \\right)} - x_{A}}\\right| \\operatorname{sign}{\\left(R \\cos{\\left(\\theta{\\left(t \\right)} \\right)} - x_{A} \\right)}}{R \\cos{\\left(\\theta{\\left(t \\right)} \\right)} - x_{A}} + \\frac{\\left(\\left(- \\operatorname{re}{\\left(y_{A}\\right)} + \\operatorname{re}{\\left(R \\sin{\\left(\\theta{\\left(t \\right)} \\right)}\\right)}\\right) \\frac{\\partial}{\\partial t} \\operatorname{re}{\\left(R \\sin{\\left(\\theta{\\left(t \\right)} \\right)}\\right)} + \\left(- \\operatorname{im}{\\left(y_{A}\\right)} + \\operatorname{im}{\\left(R \\sin{\\left(\\theta{\\left(t \\right)} \\right)}\\right)}\\right) \\frac{\\partial}{\\partial t} \\operatorname{im}{\\left(R \\sin{\\left(\\theta{\\left(t \\right)} \\right)}\\right)}\\right) \\left|{R \\sin{\\left(\\theta{\\left(t \\right)} \\right)} - y_{A}}\\right| \\operatorname{sign}{\\left(R \\sin{\\left(\\theta{\\left(t \\right)} \\right)} - y_{A} \\right)}}{R \\sin{\\left(\\theta{\\left(t \\right)} \\right)} - y_{A}}}{\\sqrt{\\left|{R \\sin{\\left(\\theta{\\left(t \\right)} \\right)} - y_{A}}\\right|^{2} + \\left|{R \\cos{\\left(\\theta{\\left(t \\right)} \\right)} - x_{A}}\\right|^{2}}}$"
      ],
      "text/plain": [
       "(((-re(x_A) + re(R*cos(theta(t))))*Derivative(re(R*cos(theta(t))), t) + (-im(x_A) + im(R*cos(theta(t))))*Derivative(im(R*cos(theta(t))), t))*Abs(R*cos(theta(t)) - x_A)*sign(R*cos(theta(t)) - x_A)/(R*cos(theta(t)) - x_A) + ((-re(y_A) + re(R*sin(theta(t))))*Derivative(re(R*sin(theta(t))), t) + (-im(y_A) + im(R*sin(theta(t))))*Derivative(im(R*sin(theta(t))), t))*Abs(R*sin(theta(t)) - y_A)*sign(R*sin(theta(t)) - y_A)/(R*sin(theta(t)) - y_A))/sqrt(Abs(R*sin(theta(t)) - y_A)**2 + Abs(R*cos(theta(t)) - x_A)**2)"
      ]
     },
     "execution_count": 48,
     "metadata": {},
     "output_type": "execute_result"
    }
   ],
   "source": [
    "l_com.diff(t)"
   ]
  },
  {
   "cell_type": "markdown",
   "metadata": {},
   "source": [
    "It is also quite handy to have an angular velocity $\\dot{\\alpha}$ to calculate kinetic energy of the system. Moreover, the variable $K$ is introduced, such that: $$\\dot{\\alpha} = K_\\alpha \\dot{\\theta}$$\n"
   ]
  },
  {
   "cell_type": "code",
   "execution_count": 5,
   "metadata": {},
   "outputs": [
    {
     "data": {
      "text/latex": [
       "$\\displaystyle \\dot{\\alpha} = - \\frac{R \\left(- R \\sin{\\left(\\theta \\right)} + y_{A}\\right) \\sin{\\left(\\theta \\right)} \\dot{\\theta}}{\\left(R \\sin{\\left(\\theta \\right)} - y_{A}\\right)^{2} + \\left(R \\cos{\\left(\\theta \\right)} - x_{A}\\right)^{2}} + \\frac{R \\left(R \\cos{\\left(\\theta \\right)} - x_{A}\\right) \\cos{\\left(\\theta \\right)} \\dot{\\theta}}{\\left(R \\sin{\\left(\\theta \\right)} - y_{A}\\right)^{2} + \\left(R \\cos{\\left(\\theta \\right)} - x_{A}\\right)^{2}} = K \\dot{\\theta}$"
      ],
      "text/plain": [
       "<IPython.core.display.Math object>"
      ]
     },
     "metadata": {},
     "output_type": "display_data"
    }
   ],
   "source": [
    "dalpha = sp.diff(alpha, t)\n",
    "K_alpha = sp.diff(alpha, theta)\n",
    "\n",
    "display(Math(f\"$\\dot{{\\\\alpha}} = {vlatex(dalpha)} = K \\dot{{\\\\theta}}$\"))"
   ]
  },
  {
   "cell_type": "markdown",
   "metadata": {},
   "source": [
    "# Energy of the system\n"
   ]
  },
  {
   "cell_type": "markdown",
   "metadata": {},
   "source": [
    "# Velocity of rod's center of mass\n"
   ]
  },
  {
   "cell_type": "markdown",
   "metadata": {},
   "source": [
    "One of the key component of the kinetic energy of the system is the velocity of center of mass.\n"
   ]
  },
  {
   "cell_type": "markdown",
   "metadata": {},
   "source": [
    "The position itself could be expressed as follows: $$r_{com} = \\frac{1}{m_{rod}} (m_{AD} r_M + m_B r_B + m_{BE} r_F + m_E r_E)$$\n"
   ]
  },
  {
   "cell_type": "markdown",
   "metadata": {},
   "source": [
    "Despite the `sympy` is cabable of differentiating the velocity symbolically, it is useful to derive these equations manually: $$v_{com} = \\frac{1}{m_{rod}}\\left( (m_{AD} \\frac{l_{AD}}{2} + m_{BE} \\frac{l_{BE}}{2} + m_E l_{BE}) \\begin{bmatrix} -\\sin \\alpha \\ \\cos \\alpha \\end{bmatrix} K_\\alpha + (m_B + m_{BE} + m_E) \\begin{bmatrix} -\\sin \\theta \\ \\cos \\theta \\end{bmatrix}\\right) \\dot{\\theta} = D \\dot{\\theta}$$\n"
   ]
  },
  {
   "cell_type": "code",
   "execution_count": 6,
   "metadata": {},
   "outputs": [],
   "source": [
    "r_com = (m_AD * r_M + m_B * r_B + m_BE * r_F + m_E * r_E) / m_rod\n",
    "D = (\n",
    "    (m_AD * l_AD / 2 + m_BE * l_BE / 2 + m_E * l_BE)\n",
    "    * sp.Matrix([-sp.sin(alpha), sp.cos(alpha)])\n",
    "    * K_alpha\n",
    "    + (m_B + m_BE + m_E) * r_AB_norm.diff(theta)\n",
    ") / m_rod"
   ]
  },
  {
   "cell_type": "markdown",
   "metadata": {},
   "source": [
    "# Inertia of the rod\n"
   ]
  },
  {
   "cell_type": "markdown",
   "metadata": {},
   "source": [
    "The intertia of the rod around rotational point $B$ is as follows: $$I_r = \\frac{m_{AD}}{3} (\\frac{l_{AD}^2}{4} + 3 l_{com}^2) + \\frac{1}{3} m_{BE} l_{BE}^2 + I_E + m_E l_{BE}^2$$\n"
   ]
  },
  {
   "cell_type": "code",
   "execution_count": 7,
   "metadata": {},
   "outputs": [],
   "source": [
    "I_r = (\n",
    "    m_AD / 3 * (l_AD**2 / 4 + 3 * l_com**2)\n",
    "    + m_BE * l_BE**2 / 3\n",
    "    + I_e\n",
    "    + m_E * l_BE**2\n",
    ")"
   ]
  },
  {
   "cell_type": "markdown",
   "metadata": {},
   "source": [
    "# Kinetic Energy\n"
   ]
  },
  {
   "cell_type": "markdown",
   "metadata": {},
   "source": [
    "Using all calculations above, the kinetic energy could be formulated as follows: $$K = \\frac{1}{2} m_{rod} v_{com}^T v_{com} + \\frac{1}{2} I_d \\dot{\\theta}^2 + \\frac{1}{2} I_r \\dot{\\alpha}^2 = \\frac{1}{2} M \\dot{\\theta}^2,$$ where: $$M = m_{rod} D^T D + I_d + I_r K^2_\\alpha$$\n"
   ]
  },
  {
   "cell_type": "code",
   "execution_count": 8,
   "metadata": {},
   "outputs": [
    {
     "data": {
      "text/latex": [
       "$\\displaystyle \\frac{R^{2} m_{d}}{2} + \\left(- \\frac{R \\left(- R \\sin{\\left(\\theta{\\left(t \\right)} \\right)} + y_{A}\\right) \\sin{\\left(\\theta{\\left(t \\right)} \\right)}}{\\left(R \\sin{\\left(\\theta{\\left(t \\right)} \\right)} - y_{A}\\right)^{2} + \\left(R \\cos{\\left(\\theta{\\left(t \\right)} \\right)} - x_{A}\\right)^{2}} + \\frac{R \\left(R \\cos{\\left(\\theta{\\left(t \\right)} \\right)} - x_{A}\\right) \\cos{\\left(\\theta{\\left(t \\right)} \\right)}}{\\left(R \\sin{\\left(\\theta{\\left(t \\right)} \\right)} - y_{A}\\right)^{2} + \\left(R \\cos{\\left(\\theta{\\left(t \\right)} \\right)} - x_{A}\\right)^{2}}\\right)^{2} \\left(I_{e} + l_{BE}^{2} m_{E} + \\frac{l_{BE}^{2} m_{BE}}{3} + \\frac{m_{AD} \\left(\\frac{l_{AD}^{2}}{4} + 3 \\left(- \\frac{l_{AD}}{2} + \\sqrt{\\left|{R \\sin{\\left(\\theta{\\left(t \\right)} \\right)} - y_{A}}\\right|^{2} + \\left|{R \\cos{\\left(\\theta{\\left(t \\right)} \\right)} - x_{A}}\\right|^{2}}\\right)^{2}\\right)}{3}\\right) + \\left(\\left|{\\frac{- \\frac{\\left(R \\sin{\\left(\\theta{\\left(t \\right)} \\right)} - y_{A}\\right) \\left(\\frac{R \\left(- R \\sin{\\left(\\theta{\\left(t \\right)} \\right)} + y_{A}\\right) \\sin{\\left(\\theta{\\left(t \\right)} \\right)}}{\\left(R \\sin{\\left(\\theta{\\left(t \\right)} \\right)} - y_{A}\\right)^{2} + \\left(R \\cos{\\left(\\theta{\\left(t \\right)} \\right)} - x_{A}\\right)^{2}} - \\frac{R \\left(R \\cos{\\left(\\theta{\\left(t \\right)} \\right)} - x_{A}\\right) \\cos{\\left(\\theta{\\left(t \\right)} \\right)}}{\\left(R \\sin{\\left(\\theta{\\left(t \\right)} \\right)} - y_{A}\\right)^{2} + \\left(R \\cos{\\left(\\theta{\\left(t \\right)} \\right)} - x_{A}\\right)^{2}}\\right) \\left(\\frac{l_{AD} m_{AD}}{2} + l_{BE} m_{E} + \\frac{l_{BE} m_{BE}}{2}\\right)}{\\sqrt{\\left(R \\sin{\\left(\\theta{\\left(t \\right)} \\right)} - y_{A}\\right)^{2} + \\left(R \\cos{\\left(\\theta{\\left(t \\right)} \\right)} - x_{A}\\right)^{2}}} + \\left(\\frac{R \\sin{\\left(\\theta{\\left(t \\right)} \\right)}}{\\sqrt{\\left(R \\sin{\\left(\\theta{\\left(t \\right)} \\right)} - y_{A}\\right)^{2} + \\left(R \\cos{\\left(\\theta{\\left(t \\right)} \\right)} - x_{A}\\right)^{2}}} - \\frac{\\left(R \\cos{\\left(\\theta{\\left(t \\right)} \\right)} - x_{A}\\right) \\left(- R \\left(R \\sin{\\left(\\theta{\\left(t \\right)} \\right)} - y_{A}\\right) \\cos{\\left(\\theta{\\left(t \\right)} \\right)} + R \\left(R \\cos{\\left(\\theta{\\left(t \\right)} \\right)} - x_{A}\\right) \\sin{\\left(\\theta{\\left(t \\right)} \\right)}\\right)}{\\left(\\left(R \\sin{\\left(\\theta{\\left(t \\right)} \\right)} - y_{A}\\right)^{2} + \\left(R \\cos{\\left(\\theta{\\left(t \\right)} \\right)} - x_{A}\\right)^{2}\\right)^{\\frac{3}{2}}}\\right) \\left(m_{B} + m_{E} + m_{BE}\\right)}{m_{B} + m_{E} + m_{AD} + m_{BE}}}\\right|^{2} + \\left|{\\frac{\\frac{\\left(R \\cos{\\left(\\theta{\\left(t \\right)} \\right)} - x_{A}\\right) \\left(\\frac{R \\left(- R \\sin{\\left(\\theta{\\left(t \\right)} \\right)} + y_{A}\\right) \\sin{\\left(\\theta{\\left(t \\right)} \\right)}}{\\left(R \\sin{\\left(\\theta{\\left(t \\right)} \\right)} - y_{A}\\right)^{2} + \\left(R \\cos{\\left(\\theta{\\left(t \\right)} \\right)} - x_{A}\\right)^{2}} - \\frac{R \\left(R \\cos{\\left(\\theta{\\left(t \\right)} \\right)} - x_{A}\\right) \\cos{\\left(\\theta{\\left(t \\right)} \\right)}}{\\left(R \\sin{\\left(\\theta{\\left(t \\right)} \\right)} - y_{A}\\right)^{2} + \\left(R \\cos{\\left(\\theta{\\left(t \\right)} \\right)} - x_{A}\\right)^{2}}\\right) \\left(\\frac{l_{AD} m_{AD}}{2} + l_{BE} m_{E} + \\frac{l_{BE} m_{BE}}{2}\\right)}{\\sqrt{\\left(R \\sin{\\left(\\theta{\\left(t \\right)} \\right)} - y_{A}\\right)^{2} + \\left(R \\cos{\\left(\\theta{\\left(t \\right)} \\right)} - x_{A}\\right)^{2}}} - \\left(\\frac{R \\cos{\\left(\\theta{\\left(t \\right)} \\right)}}{\\sqrt{\\left(R \\sin{\\left(\\theta{\\left(t \\right)} \\right)} - y_{A}\\right)^{2} + \\left(R \\cos{\\left(\\theta{\\left(t \\right)} \\right)} - x_{A}\\right)^{2}}} - \\frac{\\left(R \\sin{\\left(\\theta{\\left(t \\right)} \\right)} - y_{A}\\right) \\left(R \\left(R \\sin{\\left(\\theta{\\left(t \\right)} \\right)} - y_{A}\\right) \\cos{\\left(\\theta{\\left(t \\right)} \\right)} - R \\left(R \\cos{\\left(\\theta{\\left(t \\right)} \\right)} - x_{A}\\right) \\sin{\\left(\\theta{\\left(t \\right)} \\right)}\\right)}{\\left(\\left(R \\sin{\\left(\\theta{\\left(t \\right)} \\right)} - y_{A}\\right)^{2} + \\left(R \\cos{\\left(\\theta{\\left(t \\right)} \\right)} - x_{A}\\right)^{2}\\right)^{\\frac{3}{2}}}\\right) \\left(m_{B} + m_{E} + m_{BE}\\right)}{m_{B} + m_{E} + m_{AD} + m_{BE}}}\\right|^{2}\\right) \\left(m_{B} + m_{E} + m_{AD} + m_{BE}\\right)$"
      ],
      "text/plain": [
       "R**2*m_d/2 + (-R*(-R*sin(theta(t)) + y_A)*sin(theta(t))/((R*sin(theta(t)) - y_A)**2 + (R*cos(theta(t)) - x_A)**2) + R*(R*cos(theta(t)) - x_A)*cos(theta(t))/((R*sin(theta(t)) - y_A)**2 + (R*cos(theta(t)) - x_A)**2))**2*(I_e + l_{BE}**2*m_E + l_{BE}**2*m_{BE}/3 + m_{AD}*(l_{AD}**2/4 + 3*(-l_{AD}/2 + sqrt(Abs(R*sin(theta(t)) - y_A)**2 + Abs(R*cos(theta(t)) - x_A)**2))**2)/3) + (Abs((-(R*sin(theta(t)) - y_A)*(R*(-R*sin(theta(t)) + y_A)*sin(theta(t))/((R*sin(theta(t)) - y_A)**2 + (R*cos(theta(t)) - x_A)**2) - R*(R*cos(theta(t)) - x_A)*cos(theta(t))/((R*sin(theta(t)) - y_A)**2 + (R*cos(theta(t)) - x_A)**2))*(l_{AD}*m_{AD}/2 + l_{BE}*m_E + l_{BE}*m_{BE}/2)/sqrt((R*sin(theta(t)) - y_A)**2 + (R*cos(theta(t)) - x_A)**2) + (R*sin(theta(t))/sqrt((R*sin(theta(t)) - y_A)**2 + (R*cos(theta(t)) - x_A)**2) - (R*cos(theta(t)) - x_A)*(-R*(R*sin(theta(t)) - y_A)*cos(theta(t)) + R*(R*cos(theta(t)) - x_A)*sin(theta(t)))/((R*sin(theta(t)) - y_A)**2 + (R*cos(theta(t)) - x_A)**2)**(3/2))*(m_B + m_E + m_{BE}))/(m_B + m_E + m_{AD} + m_{BE}))**2 + Abs(((R*cos(theta(t)) - x_A)*(R*(-R*sin(theta(t)) + y_A)*sin(theta(t))/((R*sin(theta(t)) - y_A)**2 + (R*cos(theta(t)) - x_A)**2) - R*(R*cos(theta(t)) - x_A)*cos(theta(t))/((R*sin(theta(t)) - y_A)**2 + (R*cos(theta(t)) - x_A)**2))*(l_{AD}*m_{AD}/2 + l_{BE}*m_E + l_{BE}*m_{BE}/2)/sqrt((R*sin(theta(t)) - y_A)**2 + (R*cos(theta(t)) - x_A)**2) - (R*cos(theta(t))/sqrt((R*sin(theta(t)) - y_A)**2 + (R*cos(theta(t)) - x_A)**2) - (R*sin(theta(t)) - y_A)*(R*(R*sin(theta(t)) - y_A)*cos(theta(t)) - R*(R*cos(theta(t)) - x_A)*sin(theta(t)))/((R*sin(theta(t)) - y_A)**2 + (R*cos(theta(t)) - x_A)**2)**(3/2))*(m_B + m_E + m_{BE}))/(m_B + m_E + m_{AD} + m_{BE}))**2)*(m_B + m_E + m_{AD} + m_{BE})"
      ]
     },
     "execution_count": 8,
     "metadata": {},
     "output_type": "execute_result"
    }
   ],
   "source": [
    "M = m_rod * D.norm() ** 2 + I_d + I_r * K_alpha**2\n",
    "M"
   ]
  },
  {
   "cell_type": "markdown",
   "metadata": {},
   "source": [
    "# Potential energy\n"
   ]
  },
  {
   "cell_type": "markdown",
   "metadata": {},
   "source": [
    "The only source of potential energy in the system is a gravitational force, affecting . Hence, the equation for a potential energy is: $$P = m_{rod} g y_{com} \\cos \\theta_g$$\n"
   ]
  },
  {
   "cell_type": "code",
   "execution_count": 9,
   "metadata": {},
   "outputs": [
    {
     "data": {
      "text/latex": [
       "$\\displaystyle g \\left(R m_{B} \\sin{\\left(\\theta{\\left(t \\right)} \\right)} + m_{E} \\left(R \\sin{\\left(\\theta{\\left(t \\right)} \\right)} + \\frac{l_{BE} \\left(R \\sin{\\left(\\theta{\\left(t \\right)} \\right)} - y_{A}\\right)}{\\sqrt{\\left(R \\sin{\\left(\\theta{\\left(t \\right)} \\right)} - y_{A}\\right)^{2} + \\left(R \\cos{\\left(\\theta{\\left(t \\right)} \\right)} - x_{A}\\right)^{2}}}\\right) + m_{AD} \\left(\\frac{l_{AD} \\left(R \\sin{\\left(\\theta{\\left(t \\right)} \\right)} - y_{A}\\right)}{2 \\sqrt{\\left(R \\sin{\\left(\\theta{\\left(t \\right)} \\right)} - y_{A}\\right)^{2} + \\left(R \\cos{\\left(\\theta{\\left(t \\right)} \\right)} - x_{A}\\right)^{2}}} + y_{A}\\right) + m_{BE} \\left(R \\sin{\\left(\\theta{\\left(t \\right)} \\right)} + \\frac{l_{BE} \\left(R \\sin{\\left(\\theta{\\left(t \\right)} \\right)} - y_{A}\\right)}{2 \\sqrt{\\left(R \\sin{\\left(\\theta{\\left(t \\right)} \\right)} - y_{A}\\right)^{2} + \\left(R \\cos{\\left(\\theta{\\left(t \\right)} \\right)} - x_{A}\\right)^{2}}}\\right)\\right) \\cos{\\left(\\theta_{g} \\right)}$"
      ],
      "text/plain": [
       "g*(R*m_B*sin(theta(t)) + m_E*(R*sin(theta(t)) + l_{BE}*(R*sin(theta(t)) - y_A)/sqrt((R*sin(theta(t)) - y_A)**2 + (R*cos(theta(t)) - x_A)**2)) + m_{AD}*(l_{AD}*(R*sin(theta(t)) - y_A)/(2*sqrt((R*sin(theta(t)) - y_A)**2 + (R*cos(theta(t)) - x_A)**2)) + y_A) + m_{BE}*(R*sin(theta(t)) + l_{BE}*(R*sin(theta(t)) - y_A)/(2*sqrt((R*sin(theta(t)) - y_A)**2 + (R*cos(theta(t)) - x_A)**2))))*cos(theta_g)"
      ]
     },
     "execution_count": 9,
     "metadata": {},
     "output_type": "execute_result"
    }
   ],
   "source": [
    "P = m_rod * g * r_com[1] * sp.cos(theta_g)\n",
    "P"
   ]
  },
  {
   "cell_type": "markdown",
   "metadata": {},
   "source": [
    "# Resulting equation\n"
   ]
  },
  {
   "cell_type": "markdown",
   "metadata": {},
   "source": [
    "Given values of $M$, $P$, and external torque law $\\tau_{ext}$, one might formulate an equation: $$M \\ddot{\\theta} + \\dot{M} \\dot{\\theta} - \\frac{1}{2} \\frac{d}{d\\theta} (M\\dot{\\theta}^2) + \\frac{dP}{d\\theta} = \\tau_{ext}$$\n",
    "\n",
    "By expanding the term $\\frac{1}{2} \\frac{d}{d\\theta} (M\\dot{\\theta}^2) = \\frac{1}{2}\\dot{M}\\dot{\\theta}$, obtain: $$M \\ddot{\\theta} + \\frac{1}{2} \\dot{M} \\dot{\\theta} + \\frac{dP}{d\\theta} = \\tau_{ext}$$\n"
   ]
  },
  {
   "cell_type": "code",
   "execution_count": 10,
   "metadata": {},
   "outputs": [],
   "source": [
    "M_dot = sp.diff(M, t)\n",
    "dP_dtheta = sp.diff(P, theta)"
   ]
  },
  {
   "cell_type": "code",
   "execution_count": 11,
   "metadata": {},
   "outputs": [],
   "source": [
    "ddtheta = (-M_dot * dtheta / 2 + dP_dtheta - tau_ext) / M"
   ]
  }
 ],
 "metadata": {
  "interpreter": {
   "hash": "297106f2e3c81013d26de461bed8940a29f10039963820eb6901595add81bfe2"
  },
  "kernelspec": {
   "display_name": "Python 3.10.10 ('mam')",
   "language": "python",
   "name": "python3"
  },
  "language_info": {
   "codemirror_mode": {
    "name": "ipython",
    "version": 3
   },
   "file_extension": ".py",
   "mimetype": "text/x-python",
   "name": "python",
   "nbconvert_exporter": "python",
   "pygments_lexer": "ipython3",
   "version": "3.10.10"
  },
  "orig_nbformat": 4
 },
 "nbformat": 4,
 "nbformat_minor": 2
}
