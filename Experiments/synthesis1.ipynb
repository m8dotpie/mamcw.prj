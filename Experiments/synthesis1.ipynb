{
 "cells": [
  {
   "attachments": {},
   "cell_type": "markdown",
   "metadata": {},
   "source": [
    "# Synthesis Experiments"
   ]
  },
  {
   "cell_type": "code",
   "execution_count": 63,
   "metadata": {},
   "outputs": [],
   "source": [
    "import numpy as np\n",
    "import matplotlib.pyplot as plt\n",
    "import numpy as np\n",
    "import sympy as sp\n",
    "import matplotlib.pyplot as plt\n",
    "import matplotlib.patches as pltp\n",
    "from matplotlib.animation import FuncAnimation, PillowWriter\n",
    "from numpy import exp, pi, array, asarray\n",
    "from sympy.solvers import solve\n",
    "from sympy import Symbol, Ellipse, Point, Line, Matrix, diff\n"
   ]
  },
  {
   "cell_type": "code",
   "execution_count": 73,
   "metadata": {},
   "outputs": [],
   "source": [
    "w = 1\n",
    "t_begin = 0\n",
    "steps = 100\n",
    "t_end = np.abs(4 * np.pi / w)\n",
    "\n",
    "center1 = Point(0, 0)\n",
    "center2 = Point(0.75, 1.2)\n",
    "R1 = 1\n",
    "R2 = 1.5\n",
    "\n",
    "d1 = 0.5\n",
    "phi1 = 0\n",
    "d2 = 0.75\n",
    "phi2 = np.pi\n",
    "act_len = 2"
   ]
  },
  {
   "cell_type": "code",
   "execution_count": 74,
   "metadata": {},
   "outputs": [],
   "source": [
    "fig, ax = plt.subplots()\n",
    "ax.set_aspect(\"equal\")\n",
    "xdata, ydata = [], []\n",
    "ln, = plt.plot([], [], 'g--')\n",
    "\n",
    "trace = []\n",
    "points = []\n",
    "\n",
    "actuator_bar = plt.plot([], [], 'r-')\n",
    "\n",
    "def init_frame():\n",
    "    ax.set_xlim(-2, 5)\n",
    "    ax.set_ylim(-2, 5)\n",
    "\n",
    "    circle1 = pltp.Circle((center1.x, center1.y), R1, linestyle='--', color='b',fill=False)\n",
    "    circle2 = pltp.Circle((center2.x, center2.y), R2, linestyle='--', color='b', fill=False)\n",
    "    ax.add_patch(circle1)\n",
    "    ax.add_patch(circle2)\n",
    "\n",
    "    plt.plot(center1.x, center1.y, 'bo')\n",
    "    plt.plot(center2.x, center2.y, 'bo')\n",
    "\n",
    "    return ln,\n",
    "\n",
    "# animation update on every frame\n",
    "def update_frame(frame):\n",
    "    for i in range(len(points)):\n",
    "        points[i][0].remove()\n",
    "    points.clear()\n",
    "\n",
    "    t = frame\n",
    "    p1 = Point(center1.x + d1 * np.cos(w * t + phi1), center1.y + d1 * np.sin(w * t + phi1))\n",
    "    p2 = Point(center2.x + d2 * np.cos(w * t + phi2), center2.y + d2 * np.sin(w * t + phi2))\n",
    "    dist = np.sqrt((float(p1.x) - float(p2.x)) ** 2 + (float(p1.y) - float(p2.y)) ** 2)\n",
    "    new_len = dist + act_len\n",
    "    p3 = Point(new_len / dist * (p2 - p1) + p1)\n",
    "\n",
    "    points.append(plt.plot(p1.x, p1.y, 'ro'))\n",
    "    points.append(plt.plot(p2.x, p2.y, 'ro'))\n",
    "    points.append(plt.plot(p3.x, p3.y, 'go'))\n",
    "\n",
    "    actuator_bar[0].set_data([p1.x, p3.x], [p1.y, p3.y])\n",
    "\n",
    "    trace.append([p3.x, p3.y])\n",
    "    ln.set_data([x[0] for x in trace], [x[1] for x in trace])\n",
    "    return ln,\n",
    "\n",
    "# create animation\n",
    "anim = FuncAnimation(fig, update_frame, init_func=init_frame, frames=np.linspace(t_begin, t_end, steps), blit=True)\n",
    "\n",
    "# save animation to the file\n",
    "anim.save('assets/exp1.gif', dpi=100, writer=PillowWriter(fps=60))\n",
    "plt.close('all')\n",
    "# prevent unclosed plots"
   ]
  },
  {
   "cell_type": "code",
   "execution_count": null,
   "metadata": {},
   "outputs": [],
   "source": []
  }
 ],
 "metadata": {
  "kernelspec": {
   "display_name": "base",
   "language": "python",
   "name": "python3"
  },
  "language_info": {
   "codemirror_mode": {
    "name": "ipython",
    "version": 3
   },
   "file_extension": ".py",
   "mimetype": "text/x-python",
   "name": "python",
   "nbconvert_exporter": "python",
   "pygments_lexer": "ipython3",
   "version": "3.9.13"
  },
  "orig_nbformat": 4,
  "vscode": {
   "interpreter": {
    "hash": "1f7231cd321bc73172e23d3fd2b7413e5063c7e51a3c02201c1a1feb0b5bad5f"
   }
  }
 },
 "nbformat": 4,
 "nbformat_minor": 2
}
