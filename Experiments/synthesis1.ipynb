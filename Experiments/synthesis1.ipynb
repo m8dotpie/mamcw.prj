{
 "cells": [
  {
   "cell_type": "markdown",
   "metadata": {},
   "source": [
    "# Synthesis Experiments"
   ]
  },
  {
   "cell_type": "code",
   "execution_count": 34,
   "metadata": {},
   "outputs": [],
   "source": [
    "%matplotlib inline"
   ]
  },
  {
   "cell_type": "code",
   "execution_count": 35,
   "metadata": {},
   "outputs": [],
   "source": [
    "import numpy as np\n",
    "import matplotlib.pyplot as plt\n",
    "import numpy as np\n",
    "import sympy as sp\n",
    "import matplotlib.pyplot as plt\n",
    "import matplotlib.patches as pltp\n",
    "from matplotlib.animation import FuncAnimation, PillowWriter\n",
    "from numpy import exp, pi, array, asarray\n",
    "from sympy.solvers import solve\n",
    "from sympy import Symbol, Ellipse, Point, Line, Matrix, diff\n"
   ]
  },
  {
   "attachments": {},
   "cell_type": "markdown",
   "metadata": {},
   "source": [
    "## Example of the system"
   ]
  },
  {
   "cell_type": "markdown",
   "metadata": {},
   "source": [
    "Initial parameters of the model"
   ]
  },
  {
   "cell_type": "code",
   "execution_count": 36,
   "metadata": {},
   "outputs": [],
   "source": [
    "w = 1                                       # Angular velocity\n",
    "t_begin = 0                                 # Time constants\n",
    "steps = 100\n",
    "t_end = np.abs(4 * np.pi / w)\n",
    "\n",
    "\n",
    "alpha = np.pi/4                                  # Angle between centers of circles\n",
    "l = .1                                      # Distance between nearest points of circles\n",
    "R1, R2 = 1, 1.5\n",
    "\n",
    "center1 = Point(0, 0)                            \n",
    "center2 = Point(\n",
    "    center1[0] + (R1 + R2 + l)*np.cos(alpha), \n",
    "    center1[1] + (R1 + R2 + l)*np.sin(alpha)\n",
    ")\n",
    "                                             \n",
    "\n",
    "d1, d2 = 0.8, 1.4                                  # Distances from center to joints\n",
    "phi1, phi2 = 0, np.pi                              # Angle of initial position\n",
    "act_len = 2                                        # Length of actuator"
   ]
  },
  {
   "attachments": {},
   "cell_type": "markdown",
   "metadata": {},
   "source": [
    "Simulation"
   ]
  },
  {
   "cell_type": "code",
   "execution_count": 37,
   "metadata": {
    "slideshow": {
     "slide_type": "slide"
    }
   },
   "outputs": [],
   "source": [
    "fig, ax = plt.subplots()\n",
    "ax.set_aspect(\"equal\")\n",
    "xdata, ydata = [], []\n",
    "ln, = plt.plot([], [], 'g--')\n",
    "\n",
    "trace = []\n",
    "points = []\n",
    "\n",
    "prismatic_bar = plt.plot([], [], 'r-')\n",
    "actuator_bar = plt.plot([], [], 'black')\n",
    "\n",
    "def init_frame():\n",
    "    x_min = float(min(center1.x - R1, center2.x - R2) - act_len - 0.5)\n",
    "    x_max = float(max(center1.x + R1, center2.x + R2) + act_len + 0.5)\n",
    "    y_min = float(min(center1.y - R1, center2.y - R2) - act_len - 0.5)\n",
    "    y_max = float(max(center1.y + R1, center2.y + R2) + act_len + 0.5)\n",
    "    \n",
    "    ax.set_xlim(x_min,x_max)\n",
    "    ax.set_ylim(y_min,y_max)\n",
    "\n",
    "    circle1 = pltp.Circle((center1.x, center1.y), R1, linestyle='--', color='b',fill=False)\n",
    "    circle2 = pltp.Circle((center2.x, center2.y), R2, linestyle='--', color='b', fill=False)\n",
    "    ax.add_patch(circle1)\n",
    "    ax.add_patch(circle2)\n",
    "\n",
    "    plt.plot(center1.x, center1.y, 'bo')\n",
    "    plt.plot(center2.x, center2.y, 'bo')\n",
    "\n",
    "    return ln,\n",
    "\n",
    "# animation update on every frame\n",
    "def update_frame(frame):\n",
    "    for i in range(len(points)):\n",
    "        points[i][0].remove()\n",
    "    points.clear()\n",
    "\n",
    "    t = frame\n",
    "    p1 = Point(center1.x + d1 * np.cos(w * t + phi1), center1.y + d1 * np.sin(w * t + phi1))\n",
    "    p2 = Point(center2.x + d2 * np.cos(w * t + phi2), center2.y + d2 * np.sin(w * t + phi2))\n",
    "    dist = np.sqrt((float(p1.x) - float(p2.x)) ** 2 + (float(p1.y) - float(p2.y)) ** 2)\n",
    "    new_len = dist + act_len\n",
    "    p3 = Point(new_len / dist * (p2 - p1) + p1)\n",
    "\n",
    "    points.append(plt.plot(p1.x, p1.y, 'ro'))\n",
    "    points.append(plt.plot(p2.x, p2.y, 'ro'))\n",
    "    points.append(plt.plot(p3.x, p3.y, 'go'))\n",
    "\n",
    "    prismatic_bar[0].set_data([p1.x, p2.x], [p1.y, p2.y])\n",
    "    actuator_bar[0].set_data([p2.x, p3.x], [p2.y, p3.y])\n",
    "\n",
    "    trace.append([p3.x, p3.y])\n",
    "    ln.set_data([x[0] for x in trace], [x[1] for x in trace])\n",
    "    return ln,\n",
    "\n",
    "# create animation\n",
    "anim = FuncAnimation(fig, update_frame, init_func=init_frame, frames=np.linspace(t_begin, t_end, steps), blit=True)\n",
    "\n",
    "# save animation to the file\n",
    "anim.save('assets/exp1.gif', dpi=100, writer=PillowWriter(fps=60))\n",
    "plt.close('all')\n",
    "# plt.show()\n",
    "# prevent unclosed plots"
   ]
  },
  {
   "cell_type": "markdown",
   "metadata": {},
   "source": [
    "# Analytical solution"
   ]
  },
  {
   "cell_type": "code",
   "execution_count": 38,
   "metadata": {},
   "outputs": [],
   "source": [
    "def get_act(p1, p2, act_len):\n",
    "    '''Get coordinates of the actuator based on two joints' positions'''\n",
    "    dist = sp.sqrt((p1.x - p2.x) ** 2 + (p1.y - p2.y) ** 2)\n",
    "    new_len = dist + act_len\n",
    "    p12 = Point(new_len / dist * (p2 - p1) + p1)\n",
    "    return p12"
   ]
  },
  {
   "cell_type": "code",
   "execution_count": 39,
   "metadata": {},
   "outputs": [],
   "source": [
    "t_begin = 0\n",
    "steps = 100\n",
    "t_end = np.abs(4 * np.pi / w)\n",
    "dt = (t_end - t_begin) / steps\n",
    "ts = np.linspace(t_begin, t_end, steps)\n",
    "t = sp.Symbol('t')\n",
    "\n",
    "delta12 = (12, 0,)               # Distance between two mechanisms\n",
    "\n",
    "w1 = np.pi\n",
    "a1 = 5*np.pi/6                                  \n",
    "l1 = .1                                      \n",
    "R11, R12 = 1, 1.5\n",
    "center11 = Point(0, 0)                            \n",
    "center12 = Point(\n",
    "    center11[0] + (R11 + R12 + l1)*np.cos(a1), \n",
    "    center11[1] + (R11 + R12 + l1)*np.sin(a1)\n",
    ")\n",
    "d11, d12 = 0.8, 1.4                                  \n",
    "phi11, phi12 = 0, np.pi                              \n",
    "act_len1 = 2\n",
    "\n",
    "\n",
    "w2 = -1\n",
    "a2 = 2*np.pi/3                                  \n",
    "l2 = 0                                      \n",
    "R21, R22 = 1, 1.5\n",
    "center21 = Point(delta12[0], delta12[1])                            \n",
    "center22 = Point(\n",
    "    center21[0] + (R21 + R22 + l2)*np.cos(a2), \n",
    "    center21[1] + (R21 + R22 + l2)*np.sin(a2)\n",
    ")\n",
    "d21, d22 = 0.8, 1.4                                  \n",
    "phi21, phi22 = np.pi, 0                              \n",
    "act_len2 = 2\n",
    "\n",
    "# center1 = Point(0, 0)\n",
    "# center2 = Point(0, 2.5)\n",
    "# R1 = 1\n",
    "# R2 = 1.5\n",
    "\n",
    "# d1 = 0.8\n",
    "# phi1 = 0\n",
    "# d2 = 1.4\n",
    "# phi2 = 3 * np.pi / 4\n",
    "# act_len1 = 2\n",
    "\n",
    "\n",
    "\n",
    "# center3 = Point(11, 0)\n",
    "# center4 = Point(11, 2.5)\n",
    "# R3 = 1\n",
    "# R4 = 1.5\n",
    "\n",
    "# d3 = 0.8\n",
    "# phi3 = np.pi\n",
    "# d4 = 1.4\n",
    "# phi4 = 0\n",
    "# act_len2 = 2\n"
   ]
  },
  {
   "cell_type": "code",
   "execution_count": 40,
   "metadata": {},
   "outputs": [],
   "source": [
    "# Position of revolute joints and end effectors\n",
    "rev1 = Point(center11.x + d11 * sp.cos(w1 * t + phi11), center11.y + d11 * sp.sin(w1 * t + phi11))\n",
    "rev2 = Point(center12.x + d12 * sp.cos(w1 * t + phi12), center12.y + d12 * sp.sin(w1 * t + phi12))\n",
    "ee1 = get_act(rev1, rev2, act_len1)\n",
    "\n",
    "rev3 = Point(center21.x + d21 * sp.cos(w2 * t + phi21), center21.y + d21 * sp.sin(w2 * t + phi21))\n",
    "rev4 = Point(center22.x + d22 * sp.cos(w2 * t + phi22), center22.y + d22 * sp.sin(w2 * t + phi22))\n",
    "ee2 = get_act(rev3, rev4, act_len2)"
   ]
  },
  {
   "cell_type": "code",
   "execution_count": 41,
   "metadata": {},
   "outputs": [],
   "source": [
    "# Calculating angles of rods\n",
    "rod_angle1 = sp.atan2(rev2.y - rev1.y, rev2.x - rev1.x)\n",
    "rod_angle2 = sp.atan2(rev4.y - rev3.y, rev4.x - rev3.x)"
   ]
  },
  {
   "cell_type": "code",
   "execution_count": 42,
   "metadata": {},
   "outputs": [],
   "source": [
    "# Precalculate all trajectories via substitution\n",
    "rev1s = []\n",
    "rev2s = []\n",
    "ee1s = []\n",
    "rev3s = []\n",
    "rev4s = []\n",
    "ee2s = []\n",
    "ra1s = []\n",
    "ra2s = []\n",
    "\n",
    "for frame in ts:\n",
    "    rev1s.append(rev1.subs(t, frame))\n",
    "    rev2s.append(rev2.subs(t, frame))\n",
    "    ee1s.append(ee1.subs(t, frame))\n",
    "    rev3s.append(rev3.subs(t, frame))\n",
    "    rev4s.append(rev4.subs(t, frame))\n",
    "    ee2s.append(ee2.subs(t, frame))\n",
    "    ra1s.append(rod_angle1.subs(t, frame))\n",
    "    ra2s.append(rod_angle2.subs(t, frame))\n",
    "\n",
    "rev1s = np.array(rev1s, dtype=np.float64)\n",
    "rev2s = np.array(rev2s, dtype=np.float64)\n",
    "ee1s = np.array(ee1s, dtype=np.float64)\n",
    "rev3s = np.array(rev3s, dtype=np.float64)\n",
    "rev4s = np.array(rev4s, dtype=np.float64)\n",
    "ee2s = np.array(ee2s, dtype=np.float64)\n",
    "ra1s = np.array(ra1s, dtype=np.float64)\n",
    "ra2s = np.array(ra2s, dtype=np.float64)"
   ]
  },
  {
   "cell_type": "code",
   "execution_count": 43,
   "metadata": {},
   "outputs": [],
   "source": [
    "# Precisely calculate end-effector trajectory\n",
    "# For better velocity calculation\n",
    "# Not necessary\n",
    "\n",
    "ee1s_precise = []\n",
    "ee2s_precise = []\n",
    "precision_dt = 0.07\n",
    "precision_steps = int((t_end - t_begin) / precision_dt)\n",
    "\n",
    "cur_time = 0\n",
    "for _ in range(precision_steps):\n",
    "    ee1s_precise.append(ee1.subs(t, cur_time))\n",
    "    if len(ee1s_precise) > 1 and ee1s_precise[-1] == ee1s_precise[0]:\n",
    "        break\n",
    "    cur_time += precision_dt\n",
    "for _ in range(precision_steps):\n",
    "    ee2s_precise.append(ee2.subs(t, cur_time))\n",
    "    if len(ee2s_precise) > 1 and ee2s_precise[-1] == ee2s_precise[0]:\n",
    "        break\n",
    "    cur_time += precision_dt\n",
    "\n",
    "ee1s_precise = np.array(ee1s_precise, dtype=np.float64)\n",
    "ee2s_precise = np.array(ee2s_precise, dtype=np.float64)"
   ]
  },
  {
   "cell_type": "code",
   "execution_count": 44,
   "metadata": {},
   "outputs": [],
   "source": [
    "# Find positions for throw as a point where derivative changes its sign\n",
    "\n",
    "throw1 = []\n",
    "throw2 = []\n",
    "\n",
    "maxv1 = 0.0\n",
    "maxv2 = 0.0\n",
    "\n",
    "throw_time1 = 0.0\n",
    "throw_time2 = 0.0\n",
    "\n",
    "idx1 = 0\n",
    "idx2 = 0\n",
    "\n",
    "for i in range(len(ts)):\n",
    "    maxv1 = max(maxv1, np.linalg.norm(ee1s[i] - ee1s[i-1]))\n",
    "    maxv2 = max(maxv2, np.linalg.norm(ee2s[i] - ee2s[i-1]))\n",
    "\n",
    "for i in range(len(ts)):\n",
    "    if np.linalg.norm(ee1s[i] - ee1s[i - 1]) == maxv1:\n",
    "        idx1 = i\n",
    "        throw_time1 = ts[i]\n",
    "        throw1 = ee1s[i]\n",
    "        break\n",
    "\n",
    "for i in range(len(ts)):\n",
    "    if np.linalg.norm(ee2s[i] - ee2s[i - 1]) == maxv2:\n",
    "        idx2 = i\n",
    "        throw_time2 = ts[i]\n",
    "        throw2 = ee2s[i]\n",
    "        break"
   ]
  },
  {
   "cell_type": "code",
   "execution_count": 45,
   "metadata": {},
   "outputs": [],
   "source": [
    "maxv1 = 4"
   ]
  },
  {
   "cell_type": "code",
   "execution_count": 46,
   "metadata": {},
   "outputs": [
    {
     "name": "stdout",
     "output_type": "stream",
     "text": [
      "Throw angles are: 0.10422276745370855*pi and 0.23917515187370308*pi\n"
     ]
    }
   ],
   "source": [
    "throw_angle1 = ra1s[idx1] - np.pi/2\n",
    "throw_angle2 = ra2s[idx2] - np.pi/2\n",
    "\n",
    "print(f\"Throw angles are: {throw_angle1 / np.pi}*pi and {throw_angle2 / np.pi}*pi\")"
   ]
  },
  {
   "cell_type": "code",
   "execution_count": 47,
   "metadata": {},
   "outputs": [],
   "source": [
    "def ballistics(v0, alpha, r0):\n",
    "    g = 6\n",
    "    v_x, v_y = v0*np.cos(alpha), v0*np.sin(alpha)\n",
    "    t_flight = (-v_y - np.sqrt(v_y**2 + 2*g*r0[1])) / (-g)\n",
    "    S = v_x * t_flight\n",
    "    \n",
    "    return (\n",
    "        lambda t: r0[0] + v_x*t,                     # r_x\n",
    "        lambda t: r0[1] + v_y*t-g*t**2/2,            # r_y\n",
    "        lambda t: v_x*t,                             # v_x      \n",
    "        lambda t: v_y-g*t,                           # v_y        \n",
    "        t_flight, \n",
    "        S\n",
    "    )"
   ]
  },
  {
   "cell_type": "code",
   "execution_count": 48,
   "metadata": {},
   "outputs": [],
   "source": [
    "def draw_vector(ax, X, Y, U, V, color):\n",
    "  \"\"\"Wrapper for drawing the proportional vectors\"\"\"\n",
    "  return ax.quiver(X, Y, U, V, \n",
    "                   color = color, angles='xy', scale_units='xy',scale=1)"
   ]
  },
  {
   "cell_type": "code",
   "execution_count": 49,
   "metadata": {},
   "outputs": [],
   "source": [
    "x_launch, y_launch, vx_launch, vy_launch, _, _ = ballistics(maxv1, throw_angle1, throw1)"
   ]
  },
  {
   "attachments": {},
   "cell_type": "markdown",
   "metadata": {},
   "source": [
    "## Constructing the trajectory"
   ]
  },
  {
   "attachments": {},
   "cell_type": "markdown",
   "metadata": {},
   "source": [
    "Choosing points"
   ]
  },
  {
   "cell_type": "code",
   "execution_count": 50,
   "metadata": {},
   "outputs": [
    {
     "data": {
      "image/png": "[encoded data removed]",
      "text/plain": [
       "<Figure size 500x500 with 1 Axes>"
      ]
     },
     "metadata": {},
     "output_type": "display_data"
    }
   ],
   "source": [
    "parabola_points = (ee1s[25], ee1s[26])\n",
    "fig, ax = plt.subplots(figsize = (5, 5))\n",
    "ax.plot(ee1s_precise[:, 0], ee1s_precise[:, 1], 'g--')\n",
    "for point in parabola_points:\n",
    "    ax.plot(point[0], point[1], 'ro')"
   ]
  },
  {
   "attachments": {},
   "cell_type": "markdown",
   "metadata": {},
   "source": [
    "Evaluating the coefficients"
   ]
  },
  {
   "cell_type": "code",
   "execution_count": 51,
   "metadata": {},
   "outputs": [
    {
     "name": "stdout",
     "output_type": "stream",
     "text": [
      "4.002616960678578 4.00261696067854\n"
     ]
    }
   ],
   "source": [
    "g = 9.81\n",
    "b,c = sp.symbols('b,c')\n",
    "\n",
    "res = sp.solve([\n",
    "    - (g*parabola_points[0][0]**2)/2 + b*parabola_points[0][0] + c - parabola_points[0][1],\n",
    "    -(g*parabola_points[1][0]**2)/2 + b*parabola_points[1][0] + c - parabola_points[1][1]  \n",
    "])\n",
    "\n",
    "\n",
    "parabola = lambda x: -g/2 * x**2 + float(res[b])*x + float(res[c])\n",
    "print(parabola(parabola_points[0][0]), parabola_points[0][1])"
   ]
  },
  {
   "cell_type": "code",
   "execution_count": 52,
   "metadata": {},
   "outputs": [
    {
     "data": {
      "image/png": "[encoded data removed]",
      "text/plain": [
       "<Figure size 500x500 with 1 Axes>"
      ]
     },
     "metadata": {},
     "output_type": "display_data"
    }
   ],
   "source": [
    "fig, ax = plt.subplots(figsize = (5, 5))\n",
    "ax.set_ylim(-1, 5)\n",
    "dx = np.linspace((parabola_points[0][0]-1), parabola_points[1][0]+1, 100)\n",
    "\n",
    "ax.plot(dx, parabola(dx), '--')\n",
    "ax.plot(ee1s_precise[:, 0], ee1s_precise[:, 1], 'g--')\n",
    "for point in parabola_points:\n",
    "    ax.plot(point[0], point[1], 'ro')"
   ]
  },
  {
   "cell_type": "code",
   "execution_count": 53,
   "metadata": {},
   "outputs": [
    {
     "data": {
      "text/latex": [
       "$\\displaystyle \\operatorname{Point2D}\\left(10.75, 2.1650635094611\\right)$"
      ],
      "text/plain": [
       "Point2D(10.7500000000000, 2.16506350946110)"
      ]
     },
     "execution_count": 53,
     "metadata": {},
     "output_type": "execute_result"
    }
   ],
   "source": [
    "center22.evalf()"
   ]
  },
  {
   "cell_type": "code",
   "execution_count": 54,
   "metadata": {},
   "outputs": [],
   "source": [
    "fig, ax = plt.subplots(2, 2, figsize=(10, 10))\n",
    "ax = np.array(ax)\n",
    "ax = ax.flatten()\n",
    "ax[0].set_aspect('equal')\n",
    "xdata, ydata = [], []\n",
    "ln, = plt.plot([], [], 'g--')\n",
    "\n",
    "points = []\n",
    "\n",
    "draw_launch = False\n",
    "t_launch = 0\n",
    "launch_points_x = []\n",
    "launch_points_y = []\n",
    "\n",
    "prismatic_bar1 = ax[0].plot([], [], 'r-')\n",
    "actuator_bar1 = ax[0].plot([], [], 'black')\n",
    "\n",
    "prismatic_bar2 = ax[0].plot([], [], 'r-')\n",
    "actuator_bar2 = ax[0].plot([], [], 'black')\n",
    "\n",
    "prismatic_bar3 = ax[3].plot([], [], 'r-')\n",
    "actuator_bar3 = ax[3].plot([], [], 'black')\n",
    "\n",
    "trace1, = ax[0].plot(ee1s_precise[:, 0], ee1s_precise[:, 1], 'g--')\n",
    "trace2, = ax[0].plot(ee2s_precise[:, 0], ee2s_precise[:, 1], 'g--')\n",
    "trace3, = ax[3].plot(ee1s_precise[:, 0], ee1s_precise[:, 1], 'g--')\n",
    "v1_points = [0.0]\n",
    "v2_points = [0.0]\n",
    "vs1, = ax[1].plot([], [], label='Velocity (left)')\n",
    "vs2, = ax[1].plot([], [], label='Velocity (right)')\n",
    "\n",
    "for i in range(1, len(ts)):\n",
    "    v1_points.append(np.linalg.norm(ee1s[i] - ee1s[i - 1]))\n",
    "    v2_points.append(np.linalg.norm(ee2s[i] - ee2s[i - 1]))\n",
    "\n",
    "frames = []\n",
    "\n",
    "alpha1_points = []\n",
    "alpha2_points = []\n",
    "\n",
    "alpha1, = ax[2].plot([], [], label='End-Effector Angle (left)')\n",
    "alpha2, = ax[2].plot([], [], label='End-Effector Angle (right)')\n",
    "launch_traj, = ax[3].plot([], [], '--', color='yellow')\n",
    "def init_frame():\n",
    "    x1_min = float(min(center11.x - R11, center12.x - R12, center21.x - R21, center22.x - R22) - act_len - 0.5)\n",
    "    x1_max = float(max(center11.x + R11, center12.x + R12, center21.x + R21, center22.x + R22) + act_len + 0.5)\n",
    "    y1_min = float(min(center11.y - R11, center12.y - R12, center21.x - R21, center22.x - R22) - act_len - 0.5)\n",
    "    y1_max = float(max(center11.y + R11, center12.y + R12, center21.y + R21, center22.y + R22) + act_len + 0.5)\n",
    "\n",
    "    ax[0].set_xlim(x1_min, x1_max)\n",
    "    ax[0].set_ylim(y1_min, y1_max)\n",
    "\n",
    "    circle11 = pltp.Circle((center11.x, center11.y), R11, linestyle='--', color='b',fill=False)\n",
    "    circle12 = pltp.Circle((center12.x, center12.y), R12, linestyle='--', color='b', fill=False)\n",
    "\n",
    "    circle21 = pltp.Circle((center21.x, center21.y), R21, linestyle='--', color='b',fill=False)\n",
    "    circle22 = pltp.Circle((center22.x, center22.y), R22, linestyle='--', color='b', fill=False)\n",
    "    \n",
    "    ax[0].add_patch(circle11)\n",
    "    ax[0].add_patch(circle12)\n",
    "    \n",
    "    p12 = ee1s[len(frames) - 1]\n",
    "\n",
    "    ax[0].add_patch(circle21)\n",
    "    ax[0].add_patch(circle22)\n",
    "\n",
    "    ax[0].plot(center11.x, center11.y, 'bo')\n",
    "    ax[0].plot(center12.x, center12.y, 'bo')\n",
    "\n",
    "    ax[0].plot(center21.x, center21.y, 'bo')\n",
    "    ax[0].plot(center22.x, center22.y, 'bo')\n",
    "\n",
    "    ax[0].plot(throw1[0], throw1[1], 'go')\n",
    "    ax[0].plot(throw2[0], throw2[1], 'go')\n",
    "\n",
    "    ax[0].set_axis_off()\n",
    "\n",
    "    ax[1].set_xlim(t_begin, t_end)\n",
    "    ax[1].set_ylim(0, 2)\n",
    "\n",
    "    ax[1].set_xlabel('t (s)')\n",
    "    ax[1].set_ylabel('v(t) (m/s)')\n",
    "    ax[1].grid(True)\n",
    "\n",
    "    ax[2].set_xlim(t_begin, t_end)\n",
    "    ax[2].set_ylim(-1, 2 * np.pi + 1)\n",
    "    ax[2].set_xlabel('t')\n",
    "    ax[2].set_ylabel('$\\phi({t})$')\n",
    "    ax[2].grid(True)\n",
    "\n",
    "    x3_min = float(min(center11.x - R11, center12.x - R12) - act_len - 0.5)\n",
    "    x3_max = float(max(center11.x + R11, center12.x + R12) + act_len + 0.5)\n",
    "    y3_min = float(min(center11.y - R11, center12.y - R12) - act_len - 0.5)\n",
    "    y3_max = float(max(center11.y + R11, center12.y + R12) + act_len + 0.5)\n",
    "\n",
    "    ax[3].set_xlim(x3_min, x3_max)\n",
    "    ax[3].set_ylim(y3_min, y3_max)\n",
    "\n",
    "    circle11 = pltp.Circle((center11.x, center11.y), R11, linestyle='--', color='b',fill=False)\n",
    "    circle12 = pltp.Circle((center12.x, center12.y), R12, linestyle='--', color='b', fill=False)\n",
    "    ax[3].add_patch(circle11)\n",
    "    ax[3].add_patch(circle12)\n",
    "    ax[3].plot(center11.x, center11.y, 'bo')\n",
    "    ax[3].plot(center12.x, center12.y, 'bo')\n",
    "    ax[3].plot(throw1[0], throw1[1], 'go')\n",
    "    ax[3].set_axis_off()\n",
    "\n",
    "\n",
    "\n",
    "    return ln,\n",
    "\n",
    "def belong_to_axes(ax, p):\n",
    "    return ax.get_xlim()[0] < p[0] < ax.get_xlim()[1] and ax.get_ylim()[0] < p[1] < ax.get_ylim()[1]\n",
    "\n",
    "# animation update on every frame\n",
    "def update_frame(frame):\n",
    "    global draw_launch, t_launch, launch_points_x, launch_points_y\n",
    "    for i in range(len(points)):\n",
    "        points[i][0].remove()\n",
    "    points.clear()\n",
    "\n",
    "    frames.append(frame)\n",
    "\n",
    "    # Plot first mechanism\n",
    "\n",
    "    p1 = rev1s[len(frames) - 1]\n",
    "    p2 = rev2s[len(frames) - 1]\n",
    "    p12 = ee1s[len(frames) - 1]\n",
    "\n",
    "    points.append(ax[0].plot(p1[0], p1[1], 'ro'))\n",
    "    points.append(ax[0].plot(p2[0], p2[1], 'ro'))\n",
    "    points.append(ax[0].plot(p12[0], p12[1], 'go'))\n",
    "\n",
    "    prismatic_bar1[0].set_data([p1[0], p2[0]], [p1[1], p2[1]])\n",
    "    actuator_bar1[0].set_data([p2[0], p12[0]], [p2[1], p12[1]])\n",
    "\n",
    "    vs1.set_data([x for x in frames], [x for x in v1_points[:len(frames)]])\n",
    "    vs2.set_data([x for x in frames], [x for x in v2_points[:len(frames)]])\n",
    "\n",
    "    # Calculate angles\n",
    "\n",
    "    # alpha1_points.append(((w1 * frame + phi1) % (2 * np.pi)) * np.sign(w1))\n",
    "    alpha1_points.append(ra1s[len(frames) - 1])\n",
    "    alpha1.set_data(frames, alpha1_points)\n",
    "\n",
    "    p3 = rev3s[len(frames) - 1]\n",
    "    p4 = rev4s[len(frames) - 1]\n",
    "    p34 = ee2s[len(frames) - 1]\n",
    "\n",
    "    points.append(ax[0].plot(p3[0], p3[1], 'ro'))\n",
    "    points.append(ax[0].plot(p4[0], p4[1], 'ro'))\n",
    "    points.append(ax[0].plot(p34[0], p34[1], 'go'))\n",
    "\n",
    "    prismatic_bar2[0].set_data([p3[0], p4[0]], [p3[1], p4[1]])\n",
    "    actuator_bar2[0].set_data([p4[0], p34[0]], [p4[1], p34[1]])\n",
    "\n",
    "\n",
    "    # Calculate angles\n",
    "\n",
    "    # alpha2_points.append(((w2 * frame + phi3) % (2 * np.pi)))\n",
    "    alpha2_points.append(ra2s[len(frames) - 1])\n",
    "    alpha2.set_data(frames, alpha2_points)\n",
    "\n",
    "    # Plotting thrower/catcher \n",
    "\n",
    "    # Plot the mechanism\n",
    "    p1 = rev1s[len(frames) - 1]\n",
    "    p2 = rev2s[len(frames) - 1]\n",
    "    p12 = ee1s[len(frames) - 1]\n",
    "\n",
    "    points.append(ax[3].plot(p1[0], p1[1], 'ro'))\n",
    "    points.append(ax[3].plot(p2[0], p2[1], 'ro'))\n",
    "    points.append(ax[3].plot(p12[0], p12[1], 'go'))\n",
    "\n",
    "    prismatic_bar3[0].set_data([p1[0], p2[0]], [p1[1], p2[1]])\n",
    "    actuator_bar3[0].set_data([p2[0], p12[0]], [p2[1], p12[1]])\n",
    "\n",
    "    vs1.set_data([x for x in frames], [x for x in v1_points[:len(frames)]])\n",
    "    \n",
    "    # Plot throw trajectory\n",
    "    eps = 1e-2\n",
    "    if (throw1[0] - p12[0])**2 + (throw1[1] - p12[1])**2 < eps:\n",
    "        draw_launch = True\n",
    "        t_launch = frame\n",
    "        \n",
    "    if draw_launch:\n",
    "        dt = frame-t_launch\n",
    "        cur_pos = np.array([x_launch(dt), y_launch(dt)])\n",
    "        launch_points_x.append(cur_pos[0])\n",
    "        launch_points_y.append(cur_pos[1])\n",
    "        launch_traj.set_data(launch_points_x, launch_points_y)\n",
    "\n",
    "        points.append(ax[3].plot(cur_pos[0], cur_pos[1], 'bo'))\n",
    "        \n",
    "        if not belong_to_axes(ax[3], cur_pos):\n",
    "            launch_traj.set_data([], [])\n",
    "            draw_launch = False\n",
    "            t_launch = 0\n",
    "            launch_points_x = []\n",
    "            launch_points_y = []\n",
    "\n",
    "    return ln,\n",
    "\n",
    "\n",
    "ax[1].legend()\n",
    "ax[2].legend()\n",
    "# create animation\n",
    "anim = FuncAnimation(fig, update_frame, init_func=init_frame, frames=ts, blit=True)\n",
    "\n",
    "# save animation to the file\n",
    "anim.save('assets/exp2.gif', dpi=100, writer=PillowWriter(fps=60))\n",
    "plt.close('all')\n",
    "# plt.show()\n",
    "# prevent unclosed plots"
   ]
  },
  {
   "attachments": {},
   "cell_type": "markdown",
   "metadata": {},
   "source": [
    "# Ballistic"
   ]
  },
  {
   "cell_type": "code",
   "execution_count": 55,
   "metadata": {},
   "outputs": [],
   "source": [
    "v0 = 0.7153677469167853\n",
    "alpha = np.pi/6\n",
    "d = 10"
   ]
  },
  {
   "cell_type": "code",
   "execution_count": 56,
   "metadata": {},
   "outputs": [],
   "source": [
    "def ballistics(v0, alpha, d):\n",
    "    g = 9.81\n",
    "    v_x, v_y = v0*np.cos(alpha), v0*np.sin(alpha)\n",
    "    t_flight = (-v_y - np.sqrt(v_y**2 + 2*g*d)) / (-g)\n",
    "    S = v_x * t_flight\n",
    "    return (\n",
    "        lambda t: v_x*t,                         # r_x\n",
    "        lambda t: d + v_y*t-g*t**2/2,            # r_y\n",
    "        lambda t: v_x*t,                      # v_x      \n",
    "        lambda t: v_y-g*t,                      # v_y        \n",
    "        t_flight, \n",
    "        S\n",
    "    )"
   ]
  },
  {
   "cell_type": "code",
   "execution_count": 57,
   "metadata": {},
   "outputs": [],
   "source": [
    "def draw_vector(ax, X, Y, U, V, color):\n",
    "  \"\"\"Wrapper for drawing the proportional vectors\"\"\"\n",
    "  return ax.quiver(X, Y, U, V, \n",
    "                   color = color, angles='xy', scale_units='xy',scale=1)"
   ]
  },
  {
   "cell_type": "code",
   "execution_count": 58,
   "metadata": {},
   "outputs": [
    {
     "name": "stdout",
     "output_type": "stream",
     "text": [
      "(100,) (100,)\n"
     ]
    }
   ],
   "source": [
    "fig, ax = plt.subplots()\n",
    "ax.set_aspect(\"equal\")\n",
    "\n",
    "x, y, v_x, v_y, t_flight, S = ballistics(v0, alpha, d)\n",
    "t = np.linspace(0, t_flight, 100)\n",
    "xdata, ydata = x(t), y(t)\n",
    "vxdata, vydata = np.ones_like(t)*v_x(0), v_y(t)\n",
    "print(vxdata.shape, vydata.shape)\n",
    "ln, = plt.plot([], [], 'g--') \n",
    "velocities = []\n",
    "\n",
    "prismatic_bar = plt.plot([], [], 'r-')\n",
    "actuator_bar = plt.plot([], [], 'black')\n",
    "\n",
    "def init_frame():\n",
    "    ax.set_xlim(-1, xdata[-1]+1)\n",
    "    ax.set_ylim(0, ydata.max()+1)\n",
    "    plt.plot(xdata, ydata, linestyle='--', linewidth='1')\n",
    "    \n",
    "    return ln,\n",
    "\n",
    "# animation update on every frame\n",
    "def update_frame(frame):\n",
    "    for i in range(len(points)):\n",
    "        points[i][0].remove()\n",
    "    \n",
    "    # for i in range(len(velocities)):\n",
    "    #     velocities[i].remove()\n",
    "    \n",
    "    points.clear()\n",
    "    # velocities.clear()\n",
    "\n",
    "    cur_t = t[frame]\n",
    "    p1 = Point(xdata[frame], ydata[frame])\n",
    "    points.append(plt.plot(p1.x, p1.y, 'ro'))\n",
    "    # velocities.append(draw_vector(p1.x, p1.y, vxdata[frame], vydata[frame]))\n",
    "\n",
    "    return ln,\n",
    "\n",
    "# create animation\n",
    "anim = FuncAnimation(fig, update_frame, init_func=init_frame, frames=np.arange(0, len(t)), blit=True)\n",
    "\n",
    "# save animation to the file\n",
    "anim.save('assets/exp3.gif', dpi=100, writer=PillowWriter(fps=60))\n",
    "plt.close('all')\n",
    "# plt.show()\n",
    "# prevent unclosed plots"
   ]
  },
  {
   "cell_type": "code",
   "execution_count": null,
   "metadata": {},
   "outputs": [],
   "source": []
  }
 ],
 "metadata": {
  "kernelspec": {
   "display_name": "science_python",
   "language": "python",
   "name": "python3"
  },
  "language_info": {
   "codemirror_mode": {
    "name": "ipython",
    "version": 3
   },
   "file_extension": ".py",
   "mimetype": "text/x-python",
   "name": "python",
   "nbconvert_exporter": "python",
   "pygments_lexer": "ipython3",
   "version": "3.9.13"
  },
  "vscode": {
   "interpreter": {
    "hash": "82c8ef2186b903f87cd21584a2e7f1311dabc7f49995620e79bfb0bf1f8bf540"
   }
  }
 },
 "nbformat": 4,
 "nbformat_minor": 2
}
