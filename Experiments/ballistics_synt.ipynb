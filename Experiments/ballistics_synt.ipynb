{
 "cells": [
  {
   "cell_type": "code",
   "execution_count": 1,
   "metadata": {},
   "outputs": [],
   "source": [
    "import numpy as np\n",
    "import matplotlib.pyplot as plt\n",
    "import numpy as np\n",
    "import sympy as sp\n",
    "import matplotlib.pyplot as plt\n",
    "import matplotlib.patches as pltp\n",
    "from matplotlib.animation import FuncAnimation, PillowWriter\n",
    "from numpy import exp, pi, array, asarray\n",
    "from sympy.solvers import solve\n",
    "from sympy import Symbol, Ellipse, Point, Line, Matrix, diff\n"
   ]
  },
  {
   "cell_type": "code",
   "execution_count": 53,
   "metadata": {},
   "outputs": [],
   "source": [
    "vs = [[10, 10]]\n",
    "xs = [0]\n",
    "ys = [0]\n",
    "g = -10\n",
    "t_begin = 0\n",
    "t_end = 2\n",
    "dt = 0.05\n",
    "ts = np.arange(t_begin, t_end, dt)\n",
    "for t in ts:\n",
    "    xs.append(xs[-1] + vs[-1][0] * dt)\n",
    "    ys.append(ys[-1] + vs[-1][1] * dt)\n",
    "    vs.append([vs[-1][0], vs[-1][1] + dt * g])\n",
    "    if ys[-1] <= 0:\n",
    "        break\n",
    "    "
   ]
  },
  {
   "cell_type": "code",
   "execution_count": 54,
   "metadata": {},
   "outputs": [],
   "source": [
    "fig, ax = plt.subplots()\n",
    "ax.set_aspect(\"equal\")\n",
    "xdata, ydata = [], []\n",
    "ln, = plt.plot([], [], 'g--')\n",
    "\n",
    "trace = []\n",
    "frames = []\n",
    "velocity = plt.quiver(xs[0], ys[0], vs[0][0], vs[0][1])\n",
    "point, = plt.plot([], [], 'go')\n",
    "\n",
    "prismatic_bar = plt.plot([], [], 'r-')\n",
    "actuator_bar = plt.plot([], [], 'black')\n",
    "\n",
    "def init_frame():\n",
    "    ax.set_xlim(-1, 21)\n",
    "    ax.set_ylim(-1, 7)\n",
    "    ax.set_xlabel('x')\n",
    "    ax.set_ylabel('y')\n",
    "\n",
    "    plt.plot(xs, ys, 'g--', label='trajectory')\n",
    "\n",
    "    return ln,\n",
    "\n",
    "# animation update on every frame\n",
    "def update_frame(frame):\n",
    "    if len(frames) < len(xs):\n",
    "        point.set_data(xs[len(frames)], ys[len(frames)])\n",
    "        velocity.set_offsets([\n",
    "            [xs[len(frames)], ys[len(frames)]]\n",
    "        ])\n",
    "        velocity.set_UVC(vs[len(frames)][0], vs[len(frames)][1])\n",
    "    frames.append(frame)\n",
    "    return ln,\n",
    "\n",
    "# create animation\n",
    "anim = FuncAnimation(fig, update_frame, init_func=init_frame, frames=ts, blit=True)\n",
    "\n",
    "# save animation to the file\n",
    "anim.save('assets/ballistics.gif', dpi=100, writer=PillowWriter(fps=60))\n",
    "plt.close('all')\n",
    "# plt.show()\n",
    "# prevent unclosed plots"
   ]
  },
  {
   "cell_type": "code",
   "execution_count": null,
   "metadata": {},
   "outputs": [],
   "source": []
  }
 ],
 "metadata": {
  "kernelspec": {
   "display_name": "base",
   "language": "python",
   "name": "python3"
  },
  "language_info": {
   "codemirror_mode": {
    "name": "ipython",
    "version": 3
   },
   "file_extension": ".py",
   "mimetype": "text/x-python",
   "name": "python",
   "nbconvert_exporter": "python",
   "pygments_lexer": "ipython3",
   "version": "3.9.13"
  },
  "orig_nbformat": 4,
  "vscode": {
   "interpreter": {
    "hash": "1f7231cd321bc73172e23d3fd2b7413e5063c7e51a3c02201c1a1feb0b5bad5f"
   }
  }
 },
 "nbformat": 4,
 "nbformat_minor": 2
}
