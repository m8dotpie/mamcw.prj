{
 "cells": [
  {
   "cell_type": "markdown",
   "metadata": {},
   "source": [
    "# Dynamics of the system"
   ]
  },
  {
   "cell_type": "code",
   "execution_count": 3,
   "metadata": {},
   "outputs": [],
   "source": [
    "import sympy as sp\n",
    "from sympy.physics.mechanics import dynamicsymbols, vlatex\n",
    "import numpy as np\n",
    "from IPython.display import display, Math\n",
    "from phaseportrait import PhasePortrait2D"
   ]
  },
  {
   "cell_type": "markdown",
   "metadata": {},
   "source": [
    "# The equations"
   ]
  },
  {
   "cell_type": "markdown",
   "metadata": {},
   "source": [
    "<img src=\"assets/system_image.jpg\" alt=\"alt text\" width=\"600\"/>"
   ]
  },
  {
   "cell_type": "markdown",
   "metadata": {},
   "source": [
    "## Variables & symbolic constants  "
   ]
  },
  {
   "cell_type": "markdown",
   "metadata": {},
   "source": [
    "Constants:\n",
    "* $m_d, m_B, m_E, m_{BE}, m_{AD}$ -- masses of disk, connector, end-effector and rods $BE$ and $AD$ respectively\n",
    "* $R, l_{BE}, l_{AD}$ -- radius of the disk, length of $BE$ and $AD$ respectively\n",
    "* $I_e$ -- inertia of end-effector around center of mass\n",
    "* Coordinates of point $A$\n",
    "* Angle of rotation of gravity force $\\theta_g$ "
   ]
  },
  {
   "cell_type": "code",
   "execution_count": 41,
   "metadata": {},
   "outputs": [],
   "source": [
    "m_d, m_B, m_E, m_BE, m_AD = sp.symbols('m_d, m_B, m_E, m_{BE}, m_{AD}')\n",
    "m_rod = m_B + m_E + m_BE + m_AD\n",
    "R, l_BE, l_AD = sp.symbols('R, l_{BE}, l_{AD}')\n",
    "I_e = sp.symbols('I_e')\n",
    "x_A, y_A = sp.symbols('x_A, y_A')\n",
    "r_A = sp.Matrix([x_A, y_A])\n",
    "theta_g = sp.symbols('theta_g')\n",
    "g = sp.symbols('g')\n",
    "\n",
    "I_d = m_d * R**2 / 2"
   ]
  },
  {
   "cell_type": "markdown",
   "metadata": {},
   "source": [
    "Variables:\n",
    "* $\\theta(t)$ -- generalized coordinate, angle of rotations of the disk\n",
    "* $\\tau_{ext}$ -- external torque, applied to the disk"
   ]
  },
  {
   "cell_type": "code",
   "execution_count": 42,
   "metadata": {},
   "outputs": [],
   "source": [
    "t = sp.symbols('t')\n",
    "theta, tau_ext = dynamicsymbols('theta, tau_{ext}') \n",
    "dtheta = theta.diff(t)"
   ]
  },
  {
   "cell_type": "markdown",
   "metadata": {},
   "source": [
    "## System's points as function of coordinate"
   ]
  },
  {
   "cell_type": "markdown",
   "metadata": {},
   "source": [
    "There are many points & parameters in the system, which is important to derive from the system coordinates. These are:\n",
    "* $r_B, r_M, r_F, r_E$ -- coordinates of points $B, M, F, E$ respectively\n",
    "* Angle $\\alpha$ between rod and horizon\n",
    "* $l_{com}$ is a specific parameter, representing distance between point B and the center of mass of the inner rod\n",
    "* $\\frac{r_B - r_a}{||r_B - r_A||}$, represented as `r_AB_norm` is a normal vector, collinear with the rod"
   ]
  },
  {
   "cell_type": "code",
   "execution_count": 47,
   "metadata": {},
   "outputs": [],
   "source": [
    "x_B, y_B = R * sp.cos(theta), R * sp.sin(theta)\n",
    "r_B = sp.Matrix([x_B, y_B])\n",
    "\n",
    "alpha = sp.atan2(y_B - y_A, x_B - x_A)\n",
    "r_AB_norm = sp.Matrix([sp.cos(alpha), sp.sin(alpha)])\n",
    "\n",
    "r_M = r_A + r_AB_norm * l_AD / 2\n",
    "r_F = r_B + r_AB_norm * l_BE / 2\n",
    "r_E = r_B + r_AB_norm * l_BE\n",
    "\n",
    "l_com = (r_B - r_A).norm() - l_AD / 2"
   ]
  },
  {
   "cell_type": "code",
   "execution_count": 48,
   "metadata": {},
   "outputs": [
    {
     "data": {
      "text/latex": [
       "$\\displaystyle \\frac{\\frac{\\left(\\left(- \\operatorname{re}{\\left(x_{A}\\right)} + \\operatorname{re}{\\left(R \\cos{\\left(\\theta{\\left(t \\right)} \\right)}\\right)}\\right) \\frac{\\partial}{\\partial t} \\operatorname{re}{\\left(R \\cos{\\left(\\theta{\\left(t \\right)} \\right)}\\right)} + \\left(- \\operatorname{im}{\\left(x_{A}\\right)} + \\operatorname{im}{\\left(R \\cos{\\left(\\theta{\\left(t \\right)} \\right)}\\right)}\\right) \\frac{\\partial}{\\partial t} \\operatorname{im}{\\left(R \\cos{\\left(\\theta{\\left(t \\right)} \\right)}\\right)}\\right) \\left|{R \\cos{\\left(\\theta{\\left(t \\right)} \\right)} - x_{A}}\\right| \\operatorname{sign}{\\left(R \\cos{\\left(\\theta{\\left(t \\right)} \\right)} - x_{A} \\right)}}{R \\cos{\\left(\\theta{\\left(t \\right)} \\right)} - x_{A}} + \\frac{\\left(\\left(- \\operatorname{re}{\\left(y_{A}\\right)} + \\operatorname{re}{\\left(R \\sin{\\left(\\theta{\\left(t \\right)} \\right)}\\right)}\\right) \\frac{\\partial}{\\partial t} \\operatorname{re}{\\left(R \\sin{\\left(\\theta{\\left(t \\right)} \\right)}\\right)} + \\left(- \\operatorname{im}{\\left(y_{A}\\right)} + \\operatorname{im}{\\left(R \\sin{\\left(\\theta{\\left(t \\right)} \\right)}\\right)}\\right) \\frac{\\partial}{\\partial t} \\operatorname{im}{\\left(R \\sin{\\left(\\theta{\\left(t \\right)} \\right)}\\right)}\\right) \\left|{R \\sin{\\left(\\theta{\\left(t \\right)} \\right)} - y_{A}}\\right| \\operatorname{sign}{\\left(R \\sin{\\left(\\theta{\\left(t \\right)} \\right)} - y_{A} \\right)}}{R \\sin{\\left(\\theta{\\left(t \\right)} \\right)} - y_{A}}}{\\sqrt{\\left|{R \\sin{\\left(\\theta{\\left(t \\right)} \\right)} - y_{A}}\\right|^{2} + \\left|{R \\cos{\\left(\\theta{\\left(t \\right)} \\right)} - x_{A}}\\right|^{2}}}$"
      ],
      "text/plain": [
       "(((-re(x_A) + re(R*cos(theta(t))))*Derivative(re(R*cos(theta(t))), t) + (-im(x_A) + im(R*cos(theta(t))))*Derivative(im(R*cos(theta(t))), t))*Abs(R*cos(theta(t)) - x_A)*sign(R*cos(theta(t)) - x_A)/(R*cos(theta(t)) - x_A) + ((-re(y_A) + re(R*sin(theta(t))))*Derivative(re(R*sin(theta(t))), t) + (-im(y_A) + im(R*sin(theta(t))))*Derivative(im(R*sin(theta(t))), t))*Abs(R*sin(theta(t)) - y_A)*sign(R*sin(theta(t)) - y_A)/(R*sin(theta(t)) - y_A))/sqrt(Abs(R*sin(theta(t)) - y_A)**2 + Abs(R*cos(theta(t)) - x_A)**2)"
      ]
     },
     "execution_count": 48,
     "metadata": {},
     "output_type": "execute_result"
    }
   ],
   "source": [
    "l_com.diff(t)"
   ]
  },
  {
   "cell_type": "markdown",
   "metadata": {},
   "source": [
    "It is also quite handy to have an angular velocity $\\dot{\\alpha}$ to calculate kinetic energy of the system. Moreover, the variable $K$ is introduced, such that:\n",
    "$$\\dot{\\alpha} = K_\\alpha \\dot{\\theta}$$"
   ]
  },
  {
   "cell_type": "code",
   "execution_count": 5,
   "metadata": {},
   "outputs": [
    {
     "data": {
      "text/latex": [
       "$\\displaystyle \\dot{\\alpha} = - \\frac{R \\left(- R \\sin{\\left(\\theta \\right)} + y_{A}\\right) \\sin{\\left(\\theta \\right)} \\dot{\\theta}}{\\left(R \\sin{\\left(\\theta \\right)} - y_{A}\\right)^{2} + \\left(R \\cos{\\left(\\theta \\right)} - x_{A}\\right)^{2}} + \\frac{R \\left(R \\cos{\\left(\\theta \\right)} - x_{A}\\right) \\cos{\\left(\\theta \\right)} \\dot{\\theta}}{\\left(R \\sin{\\left(\\theta \\right)} - y_{A}\\right)^{2} + \\left(R \\cos{\\left(\\theta \\right)} - x_{A}\\right)^{2}} = K \\dot{\\theta}$"
      ],
      "text/plain": [
       "<IPython.core.display.Math object>"
      ]
     },
     "metadata": {},
     "output_type": "display_data"
    }
   ],
   "source": [
    "dalpha = sp.diff(alpha, t)\n",
    "K_alpha = sp.diff(alpha, theta)\n",
    "\n",
    "display(Math(f'$\\dot{{\\\\alpha}} = {vlatex(dalpha)} = K \\dot{{\\\\theta}}$'))"
   ]
  },
  {
   "cell_type": "markdown",
   "metadata": {},
   "source": [
    "## Energy of the system"
   ]
  },
  {
   "cell_type": "markdown",
   "metadata": {},
   "source": [
    "### Velocity of rod's center of mass"
   ]
  },
  {
   "cell_type": "markdown",
   "metadata": {},
   "source": [
    "One of the key component of the kinetic energy of the system is the velocity of center of mass. "
   ]
  },
  {
   "cell_type": "markdown",
   "metadata": {},
   "source": [
    "The position itself could be expressed as follows:\n",
    "$$r_{com} = \\frac{1}{m_{rod}} (m_{AD} r_M + m_B r_B + m_{BE} r_F + m_E r_E)$$"
   ]
  },
  {
   "cell_type": "markdown",
   "metadata": {},
   "source": [
    "Despite the `sympy` is cabable of differentiating the velocity symbolically, it is useful to derive these equations manually:\n",
    "$$v_{com} = \\frac{1}{m_{rod}}\\left( (m_{AD} \\frac{l_{AD}}{2} + m_{BE} \\frac{l_{BE}}{2} + m_E l_{BE}) \\begin{bmatrix} -\\sin \\alpha \\\\ \\cos \\alpha \\end{bmatrix} K_\\alpha +  (m_B + m_{BE} + m_E) \\begin{bmatrix} -\\sin \\theta \\\\ \\cos \\theta \\end{bmatrix}\\right) \\dot{\\theta} = D \\dot{\\theta}$$"
   ]
  },
  {
   "cell_type": "code",
   "execution_count": 6,
   "metadata": {},
   "outputs": [],
   "source": [
    "r_com = (m_AD * r_M + m_B * r_B + m_BE * r_F + m_E * r_E) / m_rod\n",
    "D = ((m_AD * l_AD / 2 + m_BE * l_BE / 2 + m_E * l_BE) * sp.Matrix([-sp.sin(alpha), sp.cos(alpha)]) * K_alpha + (m_B + m_BE + m_E) * r_AB_norm.diff(theta)) / m_rod"
   ]
  },
  {
   "cell_type": "markdown",
   "metadata": {},
   "source": [
    "### Inertia of the rod"
   ]
  },
  {
   "cell_type": "markdown",
   "metadata": {},
   "source": [
    "The intertia of the rod around rotational point $B$ is as follows:\n",
    "$$I_r = \\frac{m_{AD}}{3} (\\frac{l_{AD}^2}{4} + 3 l_{com}^2) + \\frac{1}{3} m_{BE} l_{BE}^2 + I_E + m_E l_{BE}^2$$"
   ]
  },
  {
   "cell_type": "code",
   "execution_count": 7,
   "metadata": {},
   "outputs": [],
   "source": [
    "I_r = m_AD / 3 * (l_AD ** 2 / 4 + 3 * l_com**2) + m_BE * l_BE**2 / 3 + I_e + m_E * l_BE ** 2"
   ]
  },
  {
   "cell_type": "markdown",
   "metadata": {},
   "source": [
    "### Kinetic Energy"
   ]
  },
  {
   "cell_type": "markdown",
   "metadata": {},
   "source": [
    "Using all calculations above, the kinetic energy could be formulated as follows:\n",
    "$$K = \\frac{1}{2} m_{rod} v_{com}^T v_{com} + \\frac{1}{2} I_d \\dot{\\theta}^2 + \\frac{1}{2} I_r \\dot{\\alpha}^2 = \\frac{1}{2} M \\dot{\\theta}^2,$$\n",
    "where:\n",
    "$$M = m_{rod} D^T D  + I_d + I_r K^2_\\alpha$$"
   ]
  },
  {
   "cell_type": "code",
   "execution_count": 8,
   "metadata": {},
   "outputs": [
    {
     "data": {
      "text/latex": [
       "$\\displaystyle \\frac{R^{2} m_{d}}{2} + \\left(- \\frac{R \\left(- R \\sin{\\left(\\theta{\\left(t \\right)} \\right)} + y_{A}\\right) \\sin{\\left(\\theta{\\left(t \\right)} \\right)}}{\\left(R \\sin{\\left(\\theta{\\left(t \\right)} \\right)} - y_{A}\\right)^{2} + \\left(R \\cos{\\left(\\theta{\\left(t \\right)} \\right)} - x_{A}\\right)^{2}} + \\frac{R \\left(R \\cos{\\left(\\theta{\\left(t \\right)} \\right)} - x_{A}\\right) \\cos{\\left(\\theta{\\left(t \\right)} \\right)}}{\\left(R \\sin{\\left(\\theta{\\left(t \\right)} \\right)} - y_{A}\\right)^{2} + \\left(R \\cos{\\left(\\theta{\\left(t \\right)} \\right)} - x_{A}\\right)^{2}}\\right)^{2} \\left(I_{e} + l_{BE}^{2} m_{E} + \\frac{l_{BE}^{2} m_{BE}}{3} + \\frac{m_{AD} \\left(\\frac{l_{AD}^{2}}{4} + 3 \\left(- \\frac{l_{AD}}{2} + \\sqrt{\\left|{R \\sin{\\left(\\theta{\\left(t \\right)} \\right)} - y_{A}}\\right|^{2} + \\left|{R \\cos{\\left(\\theta{\\left(t \\right)} \\right)} - x_{A}}\\right|^{2}}\\right)^{2}\\right)}{3}\\right) + \\left(\\left|{\\frac{- \\frac{\\left(R \\sin{\\left(\\theta{\\left(t \\right)} \\right)} - y_{A}\\right) \\left(\\frac{R \\left(- R \\sin{\\left(\\theta{\\left(t \\right)} \\right)} + y_{A}\\right) \\sin{\\left(\\theta{\\left(t \\right)} \\right)}}{\\left(R \\sin{\\left(\\theta{\\left(t \\right)} \\right)} - y_{A}\\right)^{2} + \\left(R \\cos{\\left(\\theta{\\left(t \\right)} \\right)} - x_{A}\\right)^{2}} - \\frac{R \\left(R \\cos{\\left(\\theta{\\left(t \\right)} \\right)} - x_{A}\\right) \\cos{\\left(\\theta{\\left(t \\right)} \\right)}}{\\left(R \\sin{\\left(\\theta{\\left(t \\right)} \\right)} - y_{A}\\right)^{2} + \\left(R \\cos{\\left(\\theta{\\left(t \\right)} \\right)} - x_{A}\\right)^{2}}\\right) \\left(\\frac{l_{AD} m_{AD}}{2} + l_{BE} m_{E} + \\frac{l_{BE} m_{BE}}{2}\\right)}{\\sqrt{\\left(R \\sin{\\left(\\theta{\\left(t \\right)} \\right)} - y_{A}\\right)^{2} + \\left(R \\cos{\\left(\\theta{\\left(t \\right)} \\right)} - x_{A}\\right)^{2}}} + \\left(\\frac{R \\sin{\\left(\\theta{\\left(t \\right)} \\right)}}{\\sqrt{\\left(R \\sin{\\left(\\theta{\\left(t \\right)} \\right)} - y_{A}\\right)^{2} + \\left(R \\cos{\\left(\\theta{\\left(t \\right)} \\right)} - x_{A}\\right)^{2}}} - \\frac{\\left(R \\cos{\\left(\\theta{\\left(t \\right)} \\right)} - x_{A}\\right) \\left(- R \\left(R \\sin{\\left(\\theta{\\left(t \\right)} \\right)} - y_{A}\\right) \\cos{\\left(\\theta{\\left(t \\right)} \\right)} + R \\left(R \\cos{\\left(\\theta{\\left(t \\right)} \\right)} - x_{A}\\right) \\sin{\\left(\\theta{\\left(t \\right)} \\right)}\\right)}{\\left(\\left(R \\sin{\\left(\\theta{\\left(t \\right)} \\right)} - y_{A}\\right)^{2} + \\left(R \\cos{\\left(\\theta{\\left(t \\right)} \\right)} - x_{A}\\right)^{2}\\right)^{\\frac{3}{2}}}\\right) \\left(m_{B} + m_{E} + m_{BE}\\right)}{m_{B} + m_{E} + m_{AD} + m_{BE}}}\\right|^{2} + \\left|{\\frac{\\frac{\\left(R \\cos{\\left(\\theta{\\left(t \\right)} \\right)} - x_{A}\\right) \\left(\\frac{R \\left(- R \\sin{\\left(\\theta{\\left(t \\right)} \\right)} + y_{A}\\right) \\sin{\\left(\\theta{\\left(t \\right)} \\right)}}{\\left(R \\sin{\\left(\\theta{\\left(t \\right)} \\right)} - y_{A}\\right)^{2} + \\left(R \\cos{\\left(\\theta{\\left(t \\right)} \\right)} - x_{A}\\right)^{2}} - \\frac{R \\left(R \\cos{\\left(\\theta{\\left(t \\right)} \\right)} - x_{A}\\right) \\cos{\\left(\\theta{\\left(t \\right)} \\right)}}{\\left(R \\sin{\\left(\\theta{\\left(t \\right)} \\right)} - y_{A}\\right)^{2} + \\left(R \\cos{\\left(\\theta{\\left(t \\right)} \\right)} - x_{A}\\right)^{2}}\\right) \\left(\\frac{l_{AD} m_{AD}}{2} + l_{BE} m_{E} + \\frac{l_{BE} m_{BE}}{2}\\right)}{\\sqrt{\\left(R \\sin{\\left(\\theta{\\left(t \\right)} \\right)} - y_{A}\\right)^{2} + \\left(R \\cos{\\left(\\theta{\\left(t \\right)} \\right)} - x_{A}\\right)^{2}}} - \\left(\\frac{R \\cos{\\left(\\theta{\\left(t \\right)} \\right)}}{\\sqrt{\\left(R \\sin{\\left(\\theta{\\left(t \\right)} \\right)} - y_{A}\\right)^{2} + \\left(R \\cos{\\left(\\theta{\\left(t \\right)} \\right)} - x_{A}\\right)^{2}}} - \\frac{\\left(R \\sin{\\left(\\theta{\\left(t \\right)} \\right)} - y_{A}\\right) \\left(R \\left(R \\sin{\\left(\\theta{\\left(t \\right)} \\right)} - y_{A}\\right) \\cos{\\left(\\theta{\\left(t \\right)} \\right)} - R \\left(R \\cos{\\left(\\theta{\\left(t \\right)} \\right)} - x_{A}\\right) \\sin{\\left(\\theta{\\left(t \\right)} \\right)}\\right)}{\\left(\\left(R \\sin{\\left(\\theta{\\left(t \\right)} \\right)} - y_{A}\\right)^{2} + \\left(R \\cos{\\left(\\theta{\\left(t \\right)} \\right)} - x_{A}\\right)^{2}\\right)^{\\frac{3}{2}}}\\right) \\left(m_{B} + m_{E} + m_{BE}\\right)}{m_{B} + m_{E} + m_{AD} + m_{BE}}}\\right|^{2}\\right) \\left(m_{B} + m_{E} + m_{AD} + m_{BE}\\right)$"
      ],
      "text/plain": [
       "R**2*m_d/2 + (-R*(-R*sin(theta(t)) + y_A)*sin(theta(t))/((R*sin(theta(t)) - y_A)**2 + (R*cos(theta(t)) - x_A)**2) + R*(R*cos(theta(t)) - x_A)*cos(theta(t))/((R*sin(theta(t)) - y_A)**2 + (R*cos(theta(t)) - x_A)**2))**2*(I_e + l_{BE}**2*m_E + l_{BE}**2*m_{BE}/3 + m_{AD}*(l_{AD}**2/4 + 3*(-l_{AD}/2 + sqrt(Abs(R*sin(theta(t)) - y_A)**2 + Abs(R*cos(theta(t)) - x_A)**2))**2)/3) + (Abs((-(R*sin(theta(t)) - y_A)*(R*(-R*sin(theta(t)) + y_A)*sin(theta(t))/((R*sin(theta(t)) - y_A)**2 + (R*cos(theta(t)) - x_A)**2) - R*(R*cos(theta(t)) - x_A)*cos(theta(t))/((R*sin(theta(t)) - y_A)**2 + (R*cos(theta(t)) - x_A)**2))*(l_{AD}*m_{AD}/2 + l_{BE}*m_E + l_{BE}*m_{BE}/2)/sqrt((R*sin(theta(t)) - y_A)**2 + (R*cos(theta(t)) - x_A)**2) + (R*sin(theta(t))/sqrt((R*sin(theta(t)) - y_A)**2 + (R*cos(theta(t)) - x_A)**2) - (R*cos(theta(t)) - x_A)*(-R*(R*sin(theta(t)) - y_A)*cos(theta(t)) + R*(R*cos(theta(t)) - x_A)*sin(theta(t)))/((R*sin(theta(t)) - y_A)**2 + (R*cos(theta(t)) - x_A)**2)**(3/2))*(m_B + m_E + m_{BE}))/(m_B + m_E + m_{AD} + m_{BE}))**2 + Abs(((R*cos(theta(t)) - x_A)*(R*(-R*sin(theta(t)) + y_A)*sin(theta(t))/((R*sin(theta(t)) - y_A)**2 + (R*cos(theta(t)) - x_A)**2) - R*(R*cos(theta(t)) - x_A)*cos(theta(t))/((R*sin(theta(t)) - y_A)**2 + (R*cos(theta(t)) - x_A)**2))*(l_{AD}*m_{AD}/2 + l_{BE}*m_E + l_{BE}*m_{BE}/2)/sqrt((R*sin(theta(t)) - y_A)**2 + (R*cos(theta(t)) - x_A)**2) - (R*cos(theta(t))/sqrt((R*sin(theta(t)) - y_A)**2 + (R*cos(theta(t)) - x_A)**2) - (R*sin(theta(t)) - y_A)*(R*(R*sin(theta(t)) - y_A)*cos(theta(t)) - R*(R*cos(theta(t)) - x_A)*sin(theta(t)))/((R*sin(theta(t)) - y_A)**2 + (R*cos(theta(t)) - x_A)**2)**(3/2))*(m_B + m_E + m_{BE}))/(m_B + m_E + m_{AD} + m_{BE}))**2)*(m_B + m_E + m_{AD} + m_{BE})"
      ]
     },
     "execution_count": 8,
     "metadata": {},
     "output_type": "execute_result"
    }
   ],
   "source": [
    "M = m_rod * D.norm()**2 + I_d + I_r * K_alpha**2\n",
    "M"
   ]
  },
  {
   "cell_type": "markdown",
   "metadata": {},
   "source": [
    "### Potential energy"
   ]
  },
  {
   "cell_type": "markdown",
   "metadata": {},
   "source": [
    "The only source of potential energy in the system is a gravitational force, affecting . Hence, the equation for a potential energy is:\n",
    "$$P = m_{rod} g y_{com} \\cos \\theta_g$$"
   ]
  },
  {
   "cell_type": "code",
   "execution_count": 9,
   "metadata": {},
   "outputs": [
    {
     "data": {
      "text/latex": [
       "$\\displaystyle g \\left(R m_{B} \\sin{\\left(\\theta{\\left(t \\right)} \\right)} + m_{E} \\left(R \\sin{\\left(\\theta{\\left(t \\right)} \\right)} + \\frac{l_{BE} \\left(R \\sin{\\left(\\theta{\\left(t \\right)} \\right)} - y_{A}\\right)}{\\sqrt{\\left(R \\sin{\\left(\\theta{\\left(t \\right)} \\right)} - y_{A}\\right)^{2} + \\left(R \\cos{\\left(\\theta{\\left(t \\right)} \\right)} - x_{A}\\right)^{2}}}\\right) + m_{AD} \\left(\\frac{l_{AD} \\left(R \\sin{\\left(\\theta{\\left(t \\right)} \\right)} - y_{A}\\right)}{2 \\sqrt{\\left(R \\sin{\\left(\\theta{\\left(t \\right)} \\right)} - y_{A}\\right)^{2} + \\left(R \\cos{\\left(\\theta{\\left(t \\right)} \\right)} - x_{A}\\right)^{2}}} + y_{A}\\right) + m_{BE} \\left(R \\sin{\\left(\\theta{\\left(t \\right)} \\right)} + \\frac{l_{BE} \\left(R \\sin{\\left(\\theta{\\left(t \\right)} \\right)} - y_{A}\\right)}{2 \\sqrt{\\left(R \\sin{\\left(\\theta{\\left(t \\right)} \\right)} - y_{A}\\right)^{2} + \\left(R \\cos{\\left(\\theta{\\left(t \\right)} \\right)} - x_{A}\\right)^{2}}}\\right)\\right) \\cos{\\left(\\theta_{g} \\right)}$"
      ],
      "text/plain": [
       "g*(R*m_B*sin(theta(t)) + m_E*(R*sin(theta(t)) + l_{BE}*(R*sin(theta(t)) - y_A)/sqrt((R*sin(theta(t)) - y_A)**2 + (R*cos(theta(t)) - x_A)**2)) + m_{AD}*(l_{AD}*(R*sin(theta(t)) - y_A)/(2*sqrt((R*sin(theta(t)) - y_A)**2 + (R*cos(theta(t)) - x_A)**2)) + y_A) + m_{BE}*(R*sin(theta(t)) + l_{BE}*(R*sin(theta(t)) - y_A)/(2*sqrt((R*sin(theta(t)) - y_A)**2 + (R*cos(theta(t)) - x_A)**2))))*cos(theta_g)"
      ]
     },
     "execution_count": 9,
     "metadata": {},
     "output_type": "execute_result"
    }
   ],
   "source": [
    "P = m_rod * g * r_com[1] * sp.cos(theta_g)\n",
    "P"
   ]
  },
  {
   "cell_type": "markdown",
   "metadata": {},
   "source": [
    "## Resulting equation"
   ]
  },
  {
   "cell_type": "markdown",
   "metadata": {},
   "source": [
    "Given values of $M$, $P$, and external torque law $\\tau_{ext}$, one might formulate an equation:\n",
    "$$M \\ddot{\\theta} + \\dot{M} \\dot{\\theta} - \\frac{1}{2} \\frac{d}{d\\theta} (M\\dot{\\theta}^2) + \\frac{dP}{d\\theta} = \\tau_{ext}$$ \n",
    "\n",
    "By expanding the term $\\frac{1}{2} \\frac{d}{d\\theta} (M\\dot{\\theta}^2) = \\frac{1}{2}\\dot{M}\\dot{\\theta}$, obtain:\n",
    "$$M \\ddot{\\theta} + \\frac{1}{2} \\dot{M} \\dot{\\theta} + \\frac{dP}{d\\theta} = \\tau_{ext}$$"
   ]
  },
  {
   "cell_type": "code",
   "execution_count": 10,
   "metadata": {},
   "outputs": [],
   "source": [
    "M_dot = sp.diff(M, t)\n",
    "dP_dtheta = sp.diff(P, theta)"
   ]
  },
  {
   "cell_type": "code",
   "execution_count": 11,
   "metadata": {},
   "outputs": [],
   "source": [
    "ddtheta = (-M_dot * dtheta/2 + dP_dtheta - tau_ext) / M"
   ]
  },
  {
   "cell_type": "markdown",
   "metadata": {},
   "source": [
    "# Numerical computing"
   ]
  },
  {
   "cell_type": "markdown",
   "metadata": {},
   "source": [
    "Unfortunately, due to high complexity of the resulting dynamics, `sp.lambdify()` fails to treat them in reasonable time. Hence, the function for $\\ddot{\\theta}$ has to be written manually."
   ]
  },
  {
   "cell_type": "markdown",
   "metadata": {},
   "source": [
    "## Constant initialization"
   ]
  },
  {
   "cell_type": "code",
   "execution_count": 3,
   "metadata": {},
   "outputs": [],
   "source": [
    "m_d, m_B, m_E, m_BE, m_AD = 0.1, 0.4, 0.6, 0.08, 0.05\n",
    "m_rod = m_B + m_E + m_BE + m_AD\n",
    "R, l_BE, l_AD = .12, .2, .3\n",
    "I_e = 0.5\n",
    "x_A, y_A = -0.09, -0.11\n",
    "r_A = sp.Matrix([x_A, y_A])\n",
    "theta_g = 0\n",
    "g = 9.81\n",
    "\n",
    "I_d = m_d * R**2 / 2"
   ]
  },
  {
   "cell_type": "code",
   "execution_count": 21,
   "metadata": {},
   "outputs": [],
   "source": [
    "class ModelDynamics():\n",
    "    def __init__(\n",
    "            self, \n",
    "            m_d=.1,         # Mass of the disk\n",
    "            R=.12,          # Radius of the disk\n",
    "            m_B=.4,         # Mass of connector B\n",
    "            m_E=.6,         # Mass of end-effector E\n",
    "            I_e=.5,         # Moment of inertia for end-effector E aroud CoM\n",
    "            m_BE=.08,       # Mass of outer rod BE\n",
    "            l_BE=.2,        # Length of outer rod BE\n",
    "            m_AD=.05,       # Mass of inner rod AD\n",
    "            l_AD=.3,        # length of inner rod AD\n",
    "            x_A=-0.09,      # x coordinate of point A\n",
    "            y_A=-0.11,      # y coordinate of point A\n",
    "            theta_g=0       # Angle of gravitational force\n",
    "        ):\n",
    "        # Constant terms\n",
    "        self.m_d, self.m_B, self.m_E, self.m_BE, self.m_AD = m_d, m_B, m_E, m_BE, m_AD\n",
    "        self.R, self.l_BE, self.l_AD = R, l_BE, l_AD\n",
    "        self.I_e = I_e\n",
    "        self.r_A = np.array([x_A, y_A])\n",
    "        self.theta_g = theta_g\n",
    "        self.g = 9.81\n",
    "\n",
    "        # Error message to print when the system state is not provided\n",
    "        self.no_input_error_text = \"The system state is not provided\"\n",
    "\n",
    "        # System state\n",
    "        self.theta = None\n",
    "        self.theta_dot = None\n",
    "        self.tau = None\n",
    "\n",
    "        self.update_constant_terms()\n",
    "        self.reset_internal_params()\n",
    "\n",
    "\n",
    "    def reset_internal_params(self):\n",
    "        # Reset all the internal parameters to indefined state.\n",
    "        # It should be called each time constant value or system\n",
    "        # state is reassigned \n",
    "         \n",
    "        self.r_B = None\n",
    "        self.r_B_dot = None\n",
    "        self.alpha = None\n",
    "        self.rod_norm = None\n",
    "        self.l_AB = None\n",
    "        self.r_M = None\n",
    "        self.l_com = None\n",
    "        self.l_com_dot = None\n",
    "        self.r_F = None\n",
    "        self.r_E = None\n",
    "        self.r_com = None\n",
    "        \n",
    "        self.K_alpha = None\n",
    "        self.K_alpha_dot = None\n",
    "        self.D = None\n",
    "        self.D_dot = None\n",
    "        self.I_r = None\n",
    "        self.I_r_dot = None\n",
    "        self.M = None\n",
    "        self.M_dot = None\n",
    "        self.P = None\n",
    "        self.dP_dtheta = None\n",
    "        self.energy = None\n",
    "        self.theta_ddot = None\n",
    "\n",
    "\n",
    "    def update_constant_terms(self):\n",
    "        # Update constant terms, which are based on the initial \n",
    "        # system parameters. It should be called each time a \n",
    "        # constant is reassigned.\n",
    "\n",
    "        self.m_rod = self.m_B + self.m_E + self.m_BE + self.m_AD\n",
    "        \n",
    "        self.I_d = self.m_d * self.R**2 / 2\n",
    "        \n",
    "        self.D_norm = (self.m_AD * self.l_AD / 2 + self.m_BE * self.l_BE / 2 + self.m_E * self.l_BE) / self.m_rod\n",
    "        self.D_theta = (self.m_B + self.m_BE + self.m_E) / self.m_rod\n",
    "\n",
    "    # TODO: write setter for r_A, g_theta, theta, theta_dot, and tau \n",
    "    #       they should call methods update_constant_terms (for first two) \n",
    "    #       and reset_internal_params\n",
    "\n",
    "    def set_system_state(self, theta, theta_dot, tau=0):\n",
    "        # Sets the system state with a given values\n",
    "\n",
    "        self.theta = theta\n",
    "        self.theta_dot = theta_dot\n",
    "        self.tau = tau\n",
    "\n",
    "        # After the values are changes, the internal\n",
    "        # parameters need to be resetted\n",
    "        self.reset_internal_params()\n",
    "    \n",
    "\n",
    "    def _eval_r_B(self):\n",
    "        # Evaluates point's B coordinates\n",
    "        #\n",
    "        #       ┌ R * cos(theta) ┐\n",
    "        # r_B = |                |   \n",
    "        #       └ R * sin(theta) ┘\n",
    "         \n",
    "        if self.theta is None:\n",
    "            raise RuntimeError(self.no_input_error_text)\n",
    "\n",
    "        x_B = self.R * np.cos(self.theta)\n",
    "        y_B = self.R * np.sin(self.theta)\n",
    "\n",
    "        self.r_B = np.array([x_B, y_B])\n",
    "\n",
    "\n",
    "    def _eval_r_B_dot(self):\n",
    "        # Evaluates time derivative of r_B\n",
    "        #\n",
    "        #           ┌ -R * sin(theta) ┐ \n",
    "        # r_B_dot = |                 | theta_dot\n",
    "        #           └  R * cos(theta) ┘ \n",
    "\n",
    "        if self.theta is None or self.theta_dot is None:\n",
    "            raise RuntimeError(self.no_input_error_text)\n",
    "\n",
    "        x_B_dot = -self.R * np.sin(self.theta) * self.theta_dot\n",
    "        y_B_dot = self.R * np.cos(self.theta) * self.theta_dot\n",
    "\n",
    "        self.r_B_dot = np.array([x_B_dot, y_B_dot])\n",
    "\n",
    "\n",
    "    def _eval_alpha(self):\n",
    "        # Evaluates alpha -- angle between the ground and \n",
    "        # the rod\n",
    "        #\n",
    "        # alpha = atan2(y_B - y_A, x_B - x_A)\n",
    "\n",
    "        if self.r_B is None:\n",
    "            self._eval_r_B()\n",
    "\n",
    "        self.alpha = np.arctan2(self.r_B[1] - self.r_A[1], self.r_B[0] - self.r_A[0])\n",
    "\n",
    "\n",
    "    def _eval_rod_norm(self):\n",
    "        # Evaluates unit vector, pointing in the direction\n",
    "        # of the rod\n",
    "        #\n",
    "        #             ┌ cos(alpha) ┐\n",
    "        # rod_norm  = |            |   \n",
    "        #             └ sin(alpha) ┘\n",
    "\n",
    "        if self.alpha is None:\n",
    "            self._eval_alpha()\n",
    "        self.rod_norm = np.array([np.cos(self.alpha), np.sin(self.alpha)])\n",
    "\n",
    "\n",
    "    def _eval_l_AB(self):\n",
    "        # Evaluates distance between points A and B\n",
    "        #\n",
    "        # l_AB = ||r_B - r_A||_2\n",
    "    \n",
    "        if self.r_B is None:\n",
    "            self._eval_r_B()\n",
    "\n",
    "        self.l_AB = np.linalg.norm(self.r_B - self.r_A)\n",
    "\n",
    "    \n",
    "    def _eval_r_M(self):\n",
    "        # Evaluates coordinate of poitn M\n",
    "        #                      l_AD\n",
    "        # r_M = r_A + rod_norm ----\n",
    "        #                       2\n",
    "\n",
    "        if self.alpha is None:\n",
    "            self._eval_alpha()\n",
    "        if self.rod_norm is None:\n",
    "            self._eval_rod_norm()\n",
    "        \n",
    "        self.r_M = self.r_A + self.rod_norm * self.l_AD / 2\n",
    "\n",
    "    \n",
    "    def _eval_l_com(self):\n",
    "        # Evaluates l_com -- distance betwee CoM of the rod\n",
    "        # and the point B\n",
    "        #                 1\n",
    "        # l_com = l_AB - --- l_AD\n",
    "        #                 2\n",
    "\n",
    "        if self.l_AB is None:\n",
    "            self._eval_l_AB()\n",
    "        if self.r_B is None:\n",
    "            self._eval_r_B()\n",
    "        \n",
    "        self.l_com = self.l_AB - self.l_AD / 2\n",
    "    \n",
    "\n",
    "    def _eval_l_com_dot(self):\n",
    "        # Evaluates time derivative of l_com\n",
    "        #              (x_B - x_A + y_B - y_A)(x_B_dot + y_B_dot)\n",
    "        # l_com_dot = --------------------------------------------  \n",
    "        #                                l_AB\n",
    "\n",
    "        if self.l_AB is None:\n",
    "            self._eval_l_AB()\n",
    "        if self.r_B is None:\n",
    "            self._eval_r_B()\n",
    "        if self.r_B_dot is None:\n",
    "            self._eval_r_B_dot()\n",
    "        \n",
    "        self.l_com_dot = (self.r_B[0] - self.r_A[0] + self.r_B[1] - self.r_A[1]) * (self.r_B_dot[0] + self.r_B_dot[1]) / self.l_AB\n",
    "    \n",
    "\n",
    "    def _eval_r_F(self):\n",
    "        # Evaluates coordinate of point F -- CoM of the outher rod\n",
    "        #                       l_BE\n",
    "        # r_F = r_B + rod_norm  ----\n",
    "        #                        2\n",
    "\n",
    "        if self.r_B is None:\n",
    "            self._eval_r_B()\n",
    "        if self.rod_norm is None:\n",
    "            self._eval_rod_norm()\n",
    "        \n",
    "        self.r_F = self.r_B + self.rod_norm * self.l_BE/2\n",
    "    \n",
    "\n",
    "    def _eval_r_E(self):\n",
    "        # Evaluates coordinate of point E -- CoM of end-effector\n",
    "        # \n",
    "        # r_E = r_B + rod_norm * l_BE\n",
    "        \n",
    "        if self.r_B is None:\n",
    "            self._eval_r_B()\n",
    "        if self.rod_norm is None:\n",
    "            self._eval_rod_norm()\n",
    "        \n",
    "        self.r_E = self.r_B + self.rod_norm * self.l_BE\n",
    "    \n",
    "\n",
    "    def _eval_r_com(self):\n",
    "        # Evaluates coordinate of CoM of the rod\n",
    "        #          m_AD * r_A          \n",
    "        # r_com = ------------ + D_norm * rod_norm + D_theta * r_B \n",
    "        #            m_rod          \n",
    "\n",
    "        if self.rod_norm is None:\n",
    "            self._eval_rod_norm()\n",
    "        if self.r_B is None:\n",
    "            self._eval_r_B()\n",
    "\n",
    "        self.r_com = self.m_AD * self.r_A / self.m_rod + \\\n",
    "            self.D_norm * self.rod_norm + \\\n",
    "                self.D_theta * self.r_B\n",
    "\n",
    "\n",
    "    def _eval_K_alpha(self):\n",
    "        # Evaluate K_alpha, which is defined as alpha_dot = K_alpha theta_dot\n",
    "        #            R^2 - x_A * R cos(theta) - y_a * R sin(theta)\n",
    "        # K_alpha = -----------------------------------------------\n",
    "        #                                l_AB^2\n",
    "\n",
    "        if self.theta is None:\n",
    "            raise RuntimeError(self.no_input_error_text)\n",
    "        if self.l_AB is None:\n",
    "            self._eval_l_AB()\n",
    "        if self.r_B is None:\n",
    "            self._eval_r_B()\n",
    "\n",
    "        Rcos = self.R * np.cos(self.theta)\n",
    "        Rsin = self.R * np.sin(self.theta)\n",
    "\n",
    "        self.K_alpha = (self.R**2 - self.r_B[0]*Rcos - self.r_B[1]*Rsin) / self.l_AB**2\n",
    "\n",
    "\n",
    "    def _eval_K_alpha_dot(self):\n",
    "        # TODO: check this derivative\n",
    "        #\n",
    "        # Evaluate time derivative of K_alpha\n",
    "        #                -R^2 * x_A * sin(theta) + R^2 * y_A * cos(theta) + x_A^3 * sin(theta) -\n",
    "        # K_alpha_dot = -----------------------------------------------------------------------------\n",
    "        #                                                        l_AB**4\n",
    "        #\n",
    "        #     - x_A^2 * y_A * cos(theta) + x_A * y_A^2 * sin(theta) - y_A^3 * cos(theta)\n",
    "        #   ------------------------------------------------------------------------------ R * theta_dot\n",
    "        #                                           l_AB**4\n",
    "\n",
    "        if self.theta is None or self.theta_dot is None:\n",
    "            raise RuntimeError(self.no_input_error_text)\n",
    "        if self.r_B is None:\n",
    "            self._eval_r_B()\n",
    "\n",
    "        sin_theta = np.sin(self.theta)\n",
    "        cos_theta = np.cos(self.theta)\n",
    "\n",
    "        x_A, y_A = self.r_A\n",
    "\n",
    "        self.K_alpha_dot = self.R * (-self.R**2 * x_A * sin_theta + \\\n",
    "            self.R**2 * y_A * cos_theta + \\\n",
    "                x_A**3 * sin_theta - \\\n",
    "                    x_A**2 * y_A * cos_theta + \\\n",
    "                        x_A * y_A**2 * sin_theta - \\\n",
    "                            y_A**3 * cos_theta) / self.l_AB**4 * self.theta_dot\n",
    "\n",
    "\n",
    "    def _eval_D(self):\n",
    "        # Evaluate D, which is defined as v_com = D * theta_dot\n",
    "        #            ┌ -sin(alpha) ┐                   ┌ -sin(theta) ┐\n",
    "        # D = D_norm |             | K_alpha + D_theta |             |\n",
    "        #            └  cos(alpha) ┘                   └  cos(theta) ┘\n",
    "\n",
    "        if self.theta is None:\n",
    "            raise RuntimeError(self.no_input_error_text)\n",
    "        if self.alpha is None:\n",
    "            self._eval_alpha()\n",
    "        if self.K_alpha is None:\n",
    "            self._eval_K_alpha()\n",
    "\n",
    "        self.D = self.D_norm * np.array([-np.sin(self.alpha), np.cos(self.theta)]) * self.K_alpha + \\\n",
    "            self.D_theta * np.array([-np.sin(self.theta), np.cos(self.theta)]) \n",
    "    \n",
    "\n",
    "    def _eval_D_dot(self):\n",
    "        # Evaluate time derivative of D\n",
    "        #            ┌ -sin(alpha) ┐               ┌ -cos(alpha) ┐                      \n",
    "        # D = D_norm |             | K_alpha_dot + |             | K_alpha^2 theta_dot +\n",
    "        #            └  cos(alpha) ┘               └ -sin(alpha) ┘                      \n",
    "        #\n",
    "        #            ┌ -cos(theta) ┐\n",
    "        #   + D_theta|             | theta_dot\n",
    "        #            └ -sin(theta) ┘\n",
    "\n",
    "        if self.theta is None or self.theta_dot is None:\n",
    "            raise RuntimeError(self.no_input_error_text)\n",
    "        if self.K_alpha is None:\n",
    "            self._eval_K_alpha()\n",
    "        if self.K_alpha_dot is None:\n",
    "            self._eval_K_alpha_dot()\n",
    "        if self.alpha is None:\n",
    "            self._eval_alpha()\n",
    "\n",
    "        self.D_dot = self.D_norm * np.array([-np.sin(self.alpha), np.cos(self.alpha)]) * self.K_alpha_dot + \\\n",
    "            self.D_norm * np.array([-np.cos(self.alpha), -np.sin(self.alpha)]) * self.K_alpha**2 * self.theta_dot + \\\n",
    "            self.D_theta * np.array([-np.cos(self.theta), -np.sin(self.theta)]) * self.theta_dot\n",
    "\n",
    "\n",
    "    def _eval_I_r(self):\n",
    "        # Evaluate inertia of the rod around point B\n",
    "        #       m_AD ╭ 1                    ╮    1\n",
    "        # I_r = ---- |--- l_AD^2 + 3 l_com^2| + --- m_BE l_BE^2 + I_E + m_E l_BE^2\n",
    "        #        3   ╰ 4                    ╯    3\n",
    "\n",
    "        if self.l_com is None:\n",
    "            self._eval_l_com()\n",
    "        \n",
    "        self.I_r = self.m_AD * (self.l_AD ** 2 / 4 + 3 * self.l_com**2) / 3 + \\\n",
    "            self.m_BE * self.l_BE ** 2 / 3 + self.I_e + self.m_E * self.l_BE**2\n",
    "\n",
    "\n",
    "    def _eval_I_r_dot(self):\n",
    "        # Evaluate time derivative of I_r\n",
    "        #\n",
    "        # I_r_dot = 2 m_AD * l_com * l_com_dot\n",
    "        \n",
    "        if self.l_com is None:\n",
    "            self._eval_l_com()\n",
    "        if self.l_com_dot is None:\n",
    "            self._eval_l_com_dot()\n",
    "        \n",
    "        self.I_r_dot = 2 * self.m_AD * self.l_com * self.l_com_dot\n",
    "\n",
    "\n",
    "    def _eval_M(self):\n",
    "        # TODO: check this formula\n",
    "        #\n",
    "        # Evaluate generalized mass M\n",
    "        #\n",
    "        # M = m_rod * D^T D + I_d + I_r * K_alpha^2\n",
    "        \n",
    "        if self.D is None:\n",
    "            self._eval_D()\n",
    "        if self.I_r is None:\n",
    "            self._eval_I_r()\n",
    "        if self.K_alpha is None:\n",
    "            self._eval_K_alpha()\n",
    "\n",
    "        self.M = self.m_rod * self.D.T @ self.D + self.I_d + self.I_r * self.K_alpha ** 2\n",
    "\n",
    "\n",
    "    def _eval_M_dot(self):\n",
    "        # Evaluate time derivative of M\n",
    "        #\n",
    "        # M_dot = 2 m_rod * D^T D_dot + I_r_dot * K_alpha**2 + 2 I_r * K_alpha * K_alpha_dot \n",
    "        #\n",
    "        if self.D is None:\n",
    "            self._eval_D()\n",
    "        if self.D_dot is None:\n",
    "            self._eval_D_dot()\n",
    "        if self.I_r is None:\n",
    "            self._eval_I_r()\n",
    "        if self.I_r_dot is None:\n",
    "            self._eval_I_r_dot()\n",
    "        if self.K_alpha is None:\n",
    "            self._eval_K_alpha()\n",
    "        if self.K_alpha_dot is None:\n",
    "            self._eval_K_alpha_dot()\n",
    "\n",
    "        self.M_dot =  2 * self.m_rod * self.D.T @ self.D_dot + self.I_r_dot * self.K_alpha**2 + 2 * self.I_r * self.K_alpha * self.K_alpha_dot \n",
    "\n",
    "\n",
    "    def _eval_P(self):\n",
    "        # Evaluates potential energy\n",
    "        #\n",
    "        # P = m_rod * g * y_com * cos(theta_g)\n",
    "\n",
    "        if self.r_com is None:\n",
    "            self._eval_r_com()\n",
    "\n",
    "        self.P = self.m_rod * self.g * self.r_com[1] * np.cos(self.theta_g)\n",
    "    \n",
    "    \n",
    "    def _eval_dP_dtheta(self):\n",
    "        # Evaluates derivative of P w.r.t. theta\n",
    "        #\n",
    "        # dP_dtheta = m_rod * g * D_y * cos(theta_g)\n",
    "\n",
    "        if self.D is None:\n",
    "            self._eval_D()\n",
    "\n",
    "        self.dP_dtheta = self.m_rod * self.g * self.D[1] * np.cos(self.theta_g)\n",
    "\n",
    "    def _eval_energy(self):\n",
    "        # Evaluates energy of the system\n",
    "        #      1\n",
    "        # E = --- M * D^T D * theta_dot^2 + P\n",
    "        #      2\n",
    "\n",
    "        if self.theta_dot is None:\n",
    "            raise RuntimeError(self.no_input_error_text)\n",
    "        if self.M is None:\n",
    "            self._eval_M()\n",
    "        if self.D is None:\n",
    "            self._eval_D()\n",
    "        if self.P is None:\n",
    "            self._eval_P()\n",
    "        \n",
    "        self.energy = self.M * self.D.T @ self.D * self.theta_dot**2 / 2 + self.P\n",
    "\n",
    "\n",
    "    def _eval_theta_ddot(self):\n",
    "        # Evaluate double time derivative of theta\n",
    "        #               1  ╭   1                                     ╮\n",
    "        # theta_ddot = --- |- --- M_dot * theta_dot - dP_dtheta + tau|\n",
    "        #               M  ╰   2                                     ╯\n",
    "\n",
    "        if self.theta_dot is None or self.tau is None:\n",
    "            raise RuntimeError(self.no_input_error_text)\n",
    "        if self.M_dot is None:\n",
    "            self._eval_M_dot()\n",
    "        if self.M is None:\n",
    "            self._eval_M()\n",
    "        if self.dP_dtheta is None:\n",
    "            self._eval_dP_dtheta()\n",
    "\n",
    "        self.theta_ddot = (-self.M_dot * self.theta_dot / 2 - self.dP_dtheta + self.tau) / self.M\n",
    "\n",
    "\n",
    "    def get_theta_ddot(self, params = None):\n",
    "        # (kinda) Getter for theta_ddot. Allows to pass \n",
    "        # the parameters not to initialize the system separately.\n",
    "\n",
    "        if not params is None:\n",
    "            if len(params) < 2 or len(params) > 3:\n",
    "                raise RuntimeError('Invalid parameters of the system')\n",
    "            if len(params) == 2:\n",
    "                self.set_system_state(params[0], params[1])\n",
    "            else:\n",
    "                self.set_system_state(params[0], params[1], params[2])\n",
    "        if self.theta_ddot is None:\n",
    "            self._eval_theta_ddot()\n",
    "\n",
    "        return self.theta_ddot\n",
    "\n",
    "    def get_energy(self, params = None):\n",
    "        # (kinda) Getter for energy. Allows to pass\n",
    "        # the parameters not to initialize the system separately\n",
    "        if not params is None:\n",
    "            if len(params) < 2 or len(params) > 3:\n",
    "                raise RuntimeError('Invalid parameters of the system')\n",
    "            if len(params) == 2:\n",
    "                self.set_system_state(params[0], params[1])\n",
    "            else:\n",
    "                self.set_system_state(params[0], params[1], params[2])\n",
    "        if self.energy is None:\n",
    "            self._eval_energy()\n",
    "        \n",
    "        return self.energy"
   ]
  },
  {
   "cell_type": "code",
   "execution_count": 22,
   "metadata": {},
   "outputs": [
    {
     "data": {
      "text/plain": [
       "-5.540676662772198"
      ]
     },
     "execution_count": 22,
     "metadata": {},
     "output_type": "execute_result"
    }
   ],
   "source": [
    "dynamics = ModelDynamics()\n",
    "dynamics.set_system_state(1, 2)\n",
    "dynamics.get_theta_ddot()"
   ]
  },
  {
   "cell_type": "code",
   "execution_count": 23,
   "metadata": {},
   "outputs": [
    {
     "data": {
      "text/plain": [
       "3.9745873241802454"
      ]
     },
     "execution_count": 23,
     "metadata": {},
     "output_type": "execute_result"
    }
   ],
   "source": [
    "dynamics = ModelDynamics()\n",
    "E = dynamics.get_energy((1, 2, 3))\n",
    "E"
   ]
  }
 ],
 "metadata": {
  "interpreter": {
   "hash": "297106f2e3c81013d26de461bed8940a29f10039963820eb6901595add81bfe2"
  },
  "kernelspec": {
   "display_name": "Python 3.10.10 ('mam')",
   "language": "python",
   "name": "python3"
  },
  "language_info": {
   "codemirror_mode": {
    "name": "ipython",
    "version": 3
   },
   "file_extension": ".py",
   "mimetype": "text/x-python",
   "name": "python",
   "nbconvert_exporter": "python",
   "pygments_lexer": "ipython3",
   "version": "3.10.10"
  },
  "orig_nbformat": 4
 },
 "nbformat": 4,
 "nbformat_minor": 2
}
