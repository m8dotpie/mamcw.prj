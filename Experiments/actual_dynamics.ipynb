{
 "cells": [
  {
   "cell_type": "markdown",
   "metadata": {},
   "source": [
    "# Dynamics of the system"
   ]
  },
  {
   "cell_type": "code",
   "execution_count": 47,
   "metadata": {},
   "outputs": [],
   "source": [
    "import sympy as sp\n",
    "from sympy.physics.mechanics import dynamicsymbols, vlatex\n",
    "import numpy as np\n",
    "from IPython.display import display, Math\n",
    "from phaseportrait import PhasePortrait2D"
   ]
  },
  {
   "cell_type": "markdown",
   "metadata": {},
   "source": [
    "# The equations"
   ]
  },
  {
   "cell_type": "markdown",
   "metadata": {},
   "source": [
    "<img src=\"assets/system_image.jpg\" alt=\"alt text\" width=\"600\"/>"
   ]
  },
  {
   "cell_type": "markdown",
   "metadata": {},
   "source": [
    "## Variables & symbolic constants  "
   ]
  },
  {
   "cell_type": "markdown",
   "metadata": {},
   "source": [
    "Constants:\n",
    "* $m_d, m_B, m_E, m_{BE}, m_{AD}$ -- masses of disk, connector, end-effector and rods $BE$ and $AD$ respectively\n",
    "* $R, l_{BE}, l_{AD}$ -- radius of the disk, length of $BE$ and $AD$ respectively\n",
    "* $I_e$ -- inertia of end-effector around center of mass\n",
    "* Coordinates of point $A$\n",
    "* Angle of rotation of gravity force $\\theta_g$ "
   ]
  },
  {
   "cell_type": "code",
   "execution_count": 48,
   "metadata": {},
   "outputs": [],
   "source": [
    "m_d, m_B, m_E, m_BE, m_AD = sp.symbols('m_d, m_B, m_E, m_{BE}, m_{AD}')\n",
    "m_rod = m_B + m_E + m_BE + m_AD\n",
    "R, l_BE, l_AD = sp.symbols('R, l_{BE}, l_{AD}')\n",
    "I_e = sp.symbols('I_e')\n",
    "x_A, y_A = sp.symbols('x_A, y_A')\n",
    "r_A = sp.Matrix([x_A, y_A])\n",
    "theta_g = sp.symbols('theta_g')\n",
    "g = sp.symbols('g')\n",
    "\n",
    "I_d = m_d * R**2 / 2"
   ]
  },
  {
   "cell_type": "markdown",
   "metadata": {},
   "source": [
    "Variables:\n",
    "* $\\theta(t)$ -- generalized coordinate, angle of rotations of the disk\n",
    "* $\\tau_{ext}$ -- external torque, applied to the disk"
   ]
  },
  {
   "cell_type": "code",
   "execution_count": 49,
   "metadata": {},
   "outputs": [],
   "source": [
    "t = sp.symbols('t')\n",
    "theta, tau_ext = dynamicsymbols('theta, tau_{ext}') \n",
    "dtheta = theta.diff(t)"
   ]
  },
  {
   "cell_type": "markdown",
   "metadata": {},
   "source": [
    "## System's points as function of coordinate"
   ]
  },
  {
   "cell_type": "markdown",
   "metadata": {},
   "source": [
    "There are many points & parameters in the system, which is important to derive from the system coordinates. These are:\n",
    "* $r_B, r_M, r_F, r_E$ -- coordinates of points $B, M, F, E$ respectively\n",
    "* Angle $\\alpha$ between rod and horizon\n",
    "* $l_{com}$ is a specific parameter, representing distance between point B and the center of mass of the inner rod\n",
    "* $\\frac{r_B - r_a}{||r_B - r_A||}$, represented as `r_AB_norm` is a normal vector, collinear with the rod"
   ]
  },
  {
   "cell_type": "code",
   "execution_count": 50,
   "metadata": {},
   "outputs": [],
   "source": [
    "x_B, y_B = R * sp.cos(theta), R * sp.sin(theta)\n",
    "r_B = sp.Matrix([x_B, y_B])\n",
    "\n",
    "alpha = sp.atan2(y_B - y_A, x_B - x_A)\n",
    "r_AB_norm = sp.Matrix([sp.cos(alpha), sp.sin(alpha)])\n",
    "\n",
    "r_M = r_A + r_AB_norm * l_AD / 2\n",
    "r_F = r_B + r_AB_norm * l_BE / 2\n",
    "r_E = r_B + r_AB_norm * l_BE\n",
    "\n",
    "l_com = (r_B - r_A).norm() - l_AD / 2"
   ]
  },
  {
   "cell_type": "markdown",
   "metadata": {},
   "source": [
    "It is also quite handy to have an angular velocity $\\dot{\\alpha}$ to calculate kinetic energy of the system. Moreover, the variable $K$ is introduced, such that:\n",
    "$$\\dot{\\alpha} = K_\\alpha \\dot{\\theta}$$"
   ]
  },
  {
   "cell_type": "code",
   "execution_count": 51,
   "metadata": {},
   "outputs": [
    {
     "data": {
      "text/latex": [
       "$\\displaystyle \\dot{\\alpha} = - \\frac{R \\left(- R \\sin{\\left(\\theta \\right)} + y_{A}\\right) \\sin{\\left(\\theta \\right)} \\dot{\\theta}}{\\left(R \\sin{\\left(\\theta \\right)} - y_{A}\\right)^{2} + \\left(R \\cos{\\left(\\theta \\right)} - x_{A}\\right)^{2}} + \\frac{R \\left(R \\cos{\\left(\\theta \\right)} - x_{A}\\right) \\cos{\\left(\\theta \\right)} \\dot{\\theta}}{\\left(R \\sin{\\left(\\theta \\right)} - y_{A}\\right)^{2} + \\left(R \\cos{\\left(\\theta \\right)} - x_{A}\\right)^{2}} = K \\dot{\\theta}$"
      ],
      "text/plain": [
       "<IPython.core.display.Math object>"
      ]
     },
     "metadata": {},
     "output_type": "display_data"
    }
   ],
   "source": [
    "dalpha = sp.diff(alpha, t)\n",
    "K_alpha = sp.diff(alpha, theta)\n",
    "\n",
    "display(Math(f'$\\dot{{\\\\alpha}} = {vlatex(dalpha)} = K \\dot{{\\\\theta}}$'))"
   ]
  },
  {
   "cell_type": "markdown",
   "metadata": {},
   "source": [
    "## Energy of the system"
   ]
  },
  {
   "cell_type": "markdown",
   "metadata": {},
   "source": [
    "### Velocity of rod's center of mass"
   ]
  },
  {
   "cell_type": "markdown",
   "metadata": {},
   "source": [
    "One of the key component of the kinetic energy of the system is the velocity of center of mass. "
   ]
  },
  {
   "cell_type": "markdown",
   "metadata": {},
   "source": [
    "The position itself could be expressed as follows:\n",
    "$$r_{com} = \\frac{1}{m_{rod}} (m_{AD} r_M + m_B r_B + m_{BE} r_F + m_E r_E)$$"
   ]
  },
  {
   "cell_type": "markdown",
   "metadata": {},
   "source": [
    "Despite the `sympy` is cabable of differentiating the velocity symbolically, it is useful to derive these equations manually:\n",
    "$$v_{com} = \\frac{1}{m_{rod}}\\left( (m_{AD} \\frac{l_{AD}}{2} + m_{BE} \\frac{l_{BE}}{2} + m_E l_{BE}) \\begin{bmatrix} -\\sin \\alpha \\\\ \\cos \\alpha \\end{bmatrix} K_\\alpha +  (m_B + m_{BE} + m_E) \\begin{bmatrix} -\\sin \\theta \\\\ \\cos \\theta \\end{bmatrix}\\right) \\dot{\\theta} = D \\dot{\\theta}$$"
   ]
  },
  {
   "cell_type": "code",
   "execution_count": 52,
   "metadata": {},
   "outputs": [],
   "source": [
    "r_com = (m_AD * r_M + m_B * r_B + m_BE * r_F + m_E * r_E) / m_rod\n",
    "D = ((m_AD * l_AD / 2 + m_BE * l_BE / 2 + m_E * l_BE) * sp.Matrix([-sp.sin(alpha), sp.cos(alpha)]) * K_alpha + (m_B + m_BE + m_E) * r_AB_norm.diff(theta)) / m_rod"
   ]
  },
  {
   "cell_type": "markdown",
   "metadata": {},
   "source": [
    "### Inertia of the rod"
   ]
  },
  {
   "cell_type": "markdown",
   "metadata": {},
   "source": [
    "The intertia of the rod around rotational point $B$ is as follows:\n",
    "$$I_r = \\frac{m_{AD}}{3} (\\frac{l_{AD}^2}{4} + 3 l_{com}^2) + \\frac{1}{3} m_{BE} l_{BE}^2 + I_E + m_E l_{BE}^2$$"
   ]
  },
  {
   "cell_type": "code",
   "execution_count": 53,
   "metadata": {},
   "outputs": [],
   "source": [
    "I_r = m_AD / 3 * (l_AD ** 2 / 4 + 3 * l_com**2) + m_BE * l_BE**2 / 3 + I_e + m_E * l_BE ** 2"
   ]
  },
  {
   "cell_type": "markdown",
   "metadata": {},
   "source": [
    "### Kinetic Energy"
   ]
  },
  {
   "cell_type": "markdown",
   "metadata": {},
   "source": [
    "Using all calculations above, the kinetic energy could be formulated as follows:\n",
    "$$K = \\frac{1}{2} m_{rod} v_{com}^T v_{com} + \\frac{1}{2} I_d \\dot{\\theta}^2 + \\frac{1}{2} I_r \\dot{\\alpha}^2 = \\frac{1}{2} M \\dot{\\theta}^2,$$\n",
    "where:\n",
    "$$M = m_{rod} D^T D  + I_d + I_r K^2_\\alpha$$"
   ]
  },
  {
   "cell_type": "code",
   "execution_count": 54,
   "metadata": {},
   "outputs": [
    {
     "data": {
      "text/latex": [
       "$\\displaystyle \\frac{R^{2} m_{d}}{2} + \\left(- \\frac{R \\left(- R \\sin{\\left(\\theta{\\left(t \\right)} \\right)} + y_{A}\\right) \\sin{\\left(\\theta{\\left(t \\right)} \\right)}}{\\left(R \\sin{\\left(\\theta{\\left(t \\right)} \\right)} - y_{A}\\right)^{2} + \\left(R \\cos{\\left(\\theta{\\left(t \\right)} \\right)} - x_{A}\\right)^{2}} + \\frac{R \\left(R \\cos{\\left(\\theta{\\left(t \\right)} \\right)} - x_{A}\\right) \\cos{\\left(\\theta{\\left(t \\right)} \\right)}}{\\left(R \\sin{\\left(\\theta{\\left(t \\right)} \\right)} - y_{A}\\right)^{2} + \\left(R \\cos{\\left(\\theta{\\left(t \\right)} \\right)} - x_{A}\\right)^{2}}\\right)^{2} \\left(I_{e} + l_{BE}^{2} m_{E} + \\frac{l_{BE}^{2} m_{BE}}{3} + \\frac{m_{AD} \\left(\\frac{l_{AD}^{2}}{4} + 3 \\left(- \\frac{l_{AD}}{2} + \\sqrt{\\left|{R \\sin{\\left(\\theta{\\left(t \\right)} \\right)} - y_{A}}\\right|^{2} + \\left|{R \\cos{\\left(\\theta{\\left(t \\right)} \\right)} - x_{A}}\\right|^{2}}\\right)^{2}\\right)}{3}\\right) + \\left(\\left|{\\frac{- \\frac{\\left(R \\sin{\\left(\\theta{\\left(t \\right)} \\right)} - y_{A}\\right) \\left(\\frac{R \\left(- R \\sin{\\left(\\theta{\\left(t \\right)} \\right)} + y_{A}\\right) \\sin{\\left(\\theta{\\left(t \\right)} \\right)}}{\\left(R \\sin{\\left(\\theta{\\left(t \\right)} \\right)} - y_{A}\\right)^{2} + \\left(R \\cos{\\left(\\theta{\\left(t \\right)} \\right)} - x_{A}\\right)^{2}} - \\frac{R \\left(R \\cos{\\left(\\theta{\\left(t \\right)} \\right)} - x_{A}\\right) \\cos{\\left(\\theta{\\left(t \\right)} \\right)}}{\\left(R \\sin{\\left(\\theta{\\left(t \\right)} \\right)} - y_{A}\\right)^{2} + \\left(R \\cos{\\left(\\theta{\\left(t \\right)} \\right)} - x_{A}\\right)^{2}}\\right) \\left(\\frac{l_{AD} m_{AD}}{2} + l_{BE} m_{E} + \\frac{l_{BE} m_{BE}}{2}\\right)}{\\sqrt{\\left(R \\sin{\\left(\\theta{\\left(t \\right)} \\right)} - y_{A}\\right)^{2} + \\left(R \\cos{\\left(\\theta{\\left(t \\right)} \\right)} - x_{A}\\right)^{2}}} + \\left(\\frac{R \\sin{\\left(\\theta{\\left(t \\right)} \\right)}}{\\sqrt{\\left(R \\sin{\\left(\\theta{\\left(t \\right)} \\right)} - y_{A}\\right)^{2} + \\left(R \\cos{\\left(\\theta{\\left(t \\right)} \\right)} - x_{A}\\right)^{2}}} - \\frac{\\left(R \\cos{\\left(\\theta{\\left(t \\right)} \\right)} - x_{A}\\right) \\left(- R \\left(R \\sin{\\left(\\theta{\\left(t \\right)} \\right)} - y_{A}\\right) \\cos{\\left(\\theta{\\left(t \\right)} \\right)} + R \\left(R \\cos{\\left(\\theta{\\left(t \\right)} \\right)} - x_{A}\\right) \\sin{\\left(\\theta{\\left(t \\right)} \\right)}\\right)}{\\left(\\left(R \\sin{\\left(\\theta{\\left(t \\right)} \\right)} - y_{A}\\right)^{2} + \\left(R \\cos{\\left(\\theta{\\left(t \\right)} \\right)} - x_{A}\\right)^{2}\\right)^{\\frac{3}{2}}}\\right) \\left(m_{B} + m_{E} + m_{BE}\\right)}{m_{B} + m_{E} + m_{AD} + m_{BE}}}\\right|^{2} + \\left|{\\frac{\\frac{\\left(R \\cos{\\left(\\theta{\\left(t \\right)} \\right)} - x_{A}\\right) \\left(\\frac{R \\left(- R \\sin{\\left(\\theta{\\left(t \\right)} \\right)} + y_{A}\\right) \\sin{\\left(\\theta{\\left(t \\right)} \\right)}}{\\left(R \\sin{\\left(\\theta{\\left(t \\right)} \\right)} - y_{A}\\right)^{2} + \\left(R \\cos{\\left(\\theta{\\left(t \\right)} \\right)} - x_{A}\\right)^{2}} - \\frac{R \\left(R \\cos{\\left(\\theta{\\left(t \\right)} \\right)} - x_{A}\\right) \\cos{\\left(\\theta{\\left(t \\right)} \\right)}}{\\left(R \\sin{\\left(\\theta{\\left(t \\right)} \\right)} - y_{A}\\right)^{2} + \\left(R \\cos{\\left(\\theta{\\left(t \\right)} \\right)} - x_{A}\\right)^{2}}\\right) \\left(\\frac{l_{AD} m_{AD}}{2} + l_{BE} m_{E} + \\frac{l_{BE} m_{BE}}{2}\\right)}{\\sqrt{\\left(R \\sin{\\left(\\theta{\\left(t \\right)} \\right)} - y_{A}\\right)^{2} + \\left(R \\cos{\\left(\\theta{\\left(t \\right)} \\right)} - x_{A}\\right)^{2}}} - \\left(\\frac{R \\cos{\\left(\\theta{\\left(t \\right)} \\right)}}{\\sqrt{\\left(R \\sin{\\left(\\theta{\\left(t \\right)} \\right)} - y_{A}\\right)^{2} + \\left(R \\cos{\\left(\\theta{\\left(t \\right)} \\right)} - x_{A}\\right)^{2}}} - \\frac{\\left(R \\sin{\\left(\\theta{\\left(t \\right)} \\right)} - y_{A}\\right) \\left(R \\left(R \\sin{\\left(\\theta{\\left(t \\right)} \\right)} - y_{A}\\right) \\cos{\\left(\\theta{\\left(t \\right)} \\right)} - R \\left(R \\cos{\\left(\\theta{\\left(t \\right)} \\right)} - x_{A}\\right) \\sin{\\left(\\theta{\\left(t \\right)} \\right)}\\right)}{\\left(\\left(R \\sin{\\left(\\theta{\\left(t \\right)} \\right)} - y_{A}\\right)^{2} + \\left(R \\cos{\\left(\\theta{\\left(t \\right)} \\right)} - x_{A}\\right)^{2}\\right)^{\\frac{3}{2}}}\\right) \\left(m_{B} + m_{E} + m_{BE}\\right)}{m_{B} + m_{E} + m_{AD} + m_{BE}}}\\right|^{2}\\right) \\left(m_{B} + m_{E} + m_{AD} + m_{BE}\\right)$"
      ],
      "text/plain": [
       "R**2*m_d/2 + (-R*(-R*sin(theta(t)) + y_A)*sin(theta(t))/((R*sin(theta(t)) - y_A)**2 + (R*cos(theta(t)) - x_A)**2) + R*(R*cos(theta(t)) - x_A)*cos(theta(t))/((R*sin(theta(t)) - y_A)**2 + (R*cos(theta(t)) - x_A)**2))**2*(I_e + l_{BE}**2*m_E + l_{BE}**2*m_{BE}/3 + m_{AD}*(l_{AD}**2/4 + 3*(-l_{AD}/2 + sqrt(Abs(R*sin(theta(t)) - y_A)**2 + Abs(R*cos(theta(t)) - x_A)**2))**2)/3) + (Abs((-(R*sin(theta(t)) - y_A)*(R*(-R*sin(theta(t)) + y_A)*sin(theta(t))/((R*sin(theta(t)) - y_A)**2 + (R*cos(theta(t)) - x_A)**2) - R*(R*cos(theta(t)) - x_A)*cos(theta(t))/((R*sin(theta(t)) - y_A)**2 + (R*cos(theta(t)) - x_A)**2))*(l_{AD}*m_{AD}/2 + l_{BE}*m_E + l_{BE}*m_{BE}/2)/sqrt((R*sin(theta(t)) - y_A)**2 + (R*cos(theta(t)) - x_A)**2) + (R*sin(theta(t))/sqrt((R*sin(theta(t)) - y_A)**2 + (R*cos(theta(t)) - x_A)**2) - (R*cos(theta(t)) - x_A)*(-R*(R*sin(theta(t)) - y_A)*cos(theta(t)) + R*(R*cos(theta(t)) - x_A)*sin(theta(t)))/((R*sin(theta(t)) - y_A)**2 + (R*cos(theta(t)) - x_A)**2)**(3/2))*(m_B + m_E + m_{BE}))/(m_B + m_E + m_{AD} + m_{BE}))**2 + Abs(((R*cos(theta(t)) - x_A)*(R*(-R*sin(theta(t)) + y_A)*sin(theta(t))/((R*sin(theta(t)) - y_A)**2 + (R*cos(theta(t)) - x_A)**2) - R*(R*cos(theta(t)) - x_A)*cos(theta(t))/((R*sin(theta(t)) - y_A)**2 + (R*cos(theta(t)) - x_A)**2))*(l_{AD}*m_{AD}/2 + l_{BE}*m_E + l_{BE}*m_{BE}/2)/sqrt((R*sin(theta(t)) - y_A)**2 + (R*cos(theta(t)) - x_A)**2) - (R*cos(theta(t))/sqrt((R*sin(theta(t)) - y_A)**2 + (R*cos(theta(t)) - x_A)**2) - (R*sin(theta(t)) - y_A)*(R*(R*sin(theta(t)) - y_A)*cos(theta(t)) - R*(R*cos(theta(t)) - x_A)*sin(theta(t)))/((R*sin(theta(t)) - y_A)**2 + (R*cos(theta(t)) - x_A)**2)**(3/2))*(m_B + m_E + m_{BE}))/(m_B + m_E + m_{AD} + m_{BE}))**2)*(m_B + m_E + m_{AD} + m_{BE})"
      ]
     },
     "execution_count": 54,
     "metadata": {},
     "output_type": "execute_result"
    }
   ],
   "source": [
    "M = m_rod * D.norm()**2 + I_d + I_r * K_alpha**2\n",
    "M"
   ]
  },
  {
   "cell_type": "markdown",
   "metadata": {},
   "source": [
    "### Potential energy"
   ]
  },
  {
   "cell_type": "markdown",
   "metadata": {},
   "source": [
    "The only source of potential energy in the system is a gravitational force, affecting . Hence, the equation for a potential energy is:\n",
    "$$P = m_{rod} g y_{com} \\cos \\theta_g$$"
   ]
  },
  {
   "cell_type": "code",
   "execution_count": 55,
   "metadata": {},
   "outputs": [
    {
     "data": {
      "text/latex": [
       "$\\displaystyle g \\left(R m_{B} \\sin{\\left(\\theta{\\left(t \\right)} \\right)} + m_{E} \\left(R \\sin{\\left(\\theta{\\left(t \\right)} \\right)} + \\frac{l_{BE} \\left(R \\sin{\\left(\\theta{\\left(t \\right)} \\right)} - y_{A}\\right)}{\\sqrt{\\left(R \\sin{\\left(\\theta{\\left(t \\right)} \\right)} - y_{A}\\right)^{2} + \\left(R \\cos{\\left(\\theta{\\left(t \\right)} \\right)} - x_{A}\\right)^{2}}}\\right) + m_{AD} \\left(\\frac{l_{AD} \\left(R \\sin{\\left(\\theta{\\left(t \\right)} \\right)} - y_{A}\\right)}{2 \\sqrt{\\left(R \\sin{\\left(\\theta{\\left(t \\right)} \\right)} - y_{A}\\right)^{2} + \\left(R \\cos{\\left(\\theta{\\left(t \\right)} \\right)} - x_{A}\\right)^{2}}} + y_{A}\\right) + m_{BE} \\left(R \\sin{\\left(\\theta{\\left(t \\right)} \\right)} + \\frac{l_{BE} \\left(R \\sin{\\left(\\theta{\\left(t \\right)} \\right)} - y_{A}\\right)}{2 \\sqrt{\\left(R \\sin{\\left(\\theta{\\left(t \\right)} \\right)} - y_{A}\\right)^{2} + \\left(R \\cos{\\left(\\theta{\\left(t \\right)} \\right)} - x_{A}\\right)^{2}}}\\right)\\right) \\cos{\\left(\\theta_{g} \\right)}$"
      ],
      "text/plain": [
       "g*(R*m_B*sin(theta(t)) + m_E*(R*sin(theta(t)) + l_{BE}*(R*sin(theta(t)) - y_A)/sqrt((R*sin(theta(t)) - y_A)**2 + (R*cos(theta(t)) - x_A)**2)) + m_{AD}*(l_{AD}*(R*sin(theta(t)) - y_A)/(2*sqrt((R*sin(theta(t)) - y_A)**2 + (R*cos(theta(t)) - x_A)**2)) + y_A) + m_{BE}*(R*sin(theta(t)) + l_{BE}*(R*sin(theta(t)) - y_A)/(2*sqrt((R*sin(theta(t)) - y_A)**2 + (R*cos(theta(t)) - x_A)**2))))*cos(theta_g)"
      ]
     },
     "execution_count": 55,
     "metadata": {},
     "output_type": "execute_result"
    }
   ],
   "source": [
    "P = m_rod * g * r_com[1] * sp.cos(theta_g)\n",
    "P"
   ]
  },
  {
   "cell_type": "markdown",
   "metadata": {},
   "source": [
    "## Resulting equation"
   ]
  },
  {
   "cell_type": "markdown",
   "metadata": {},
   "source": [
    "Given values of $M$, $P$, and external torque law $\\tau_{ext}$, one might formulate an equation:\n",
    "$$M \\ddot{\\theta} + \\dot{M} \\dot{\\theta} - \\frac{1}{2} \\frac{d}{d\\theta} (M\\dot{\\theta}^2) + \\frac{dP}{d\\theta} = \\tau_{ext}$$ "
   ]
  },
  {
   "cell_type": "code",
   "execution_count": 56,
   "metadata": {},
   "outputs": [
    {
     "ename": "KeyboardInterrupt",
     "evalue": "",
     "output_type": "error",
     "traceback": [
      "\u001b[0;31m---------------------------------------------------------------------------\u001b[0m",
      "\u001b[0;31mKeyboardInterrupt\u001b[0m                         Traceback (most recent call last)",
      "Cell \u001b[0;32mIn[56], line 2\u001b[0m\n\u001b[1;32m      1\u001b[0m M_dot \u001b[38;5;241m=\u001b[39m sp\u001b[38;5;241m.\u001b[39mdiff(M, t)\n\u001b[0;32m----> 2\u001b[0m dMtheta_dtheta \u001b[38;5;241m=\u001b[39m \u001b[43msp\u001b[49m\u001b[38;5;241;43m.\u001b[39;49m\u001b[43mdiff\u001b[49m\u001b[43m(\u001b[49m\u001b[43mM\u001b[49m\u001b[38;5;241;43m*\u001b[39;49m\u001b[43mdtheta\u001b[49m\u001b[38;5;241;43m*\u001b[39;49m\u001b[38;5;241;43m*\u001b[39;49m\u001b[38;5;241;43m2\u001b[39;49m\u001b[43m,\u001b[49m\u001b[43m \u001b[49m\u001b[43mtheta\u001b[49m\u001b[43m)\u001b[49m\n\u001b[1;32m      3\u001b[0m dP_dtheta \u001b[38;5;241m=\u001b[39m sp\u001b[38;5;241m.\u001b[39mdiff(P, theta)\n",
      "File \u001b[0;32m~/miniconda3/envs/mam/lib/python3.10/site-packages/sympy/core/function.py:2490\u001b[0m, in \u001b[0;36mdiff\u001b[0;34m(f, *symbols, **kwargs)\u001b[0m\n\u001b[1;32m   <a href='file:///home/dom_iva/miniconda3/envs/mam/lib/python3.10/site-packages/sympy/core/function.py?line=2425'>2426</a>\u001b[0m \u001b[39m\u001b[39m\u001b[39m\"\"\"\u001b[39;00m\n\u001b[1;32m   <a href='file:///home/dom_iva/miniconda3/envs/mam/lib/python3.10/site-packages/sympy/core/function.py?line=2426'>2427</a>\u001b[0m \u001b[39mDifferentiate f with respect to symbols.\u001b[39;00m\n\u001b[1;32m   <a href='file:///home/dom_iva/miniconda3/envs/mam/lib/python3.10/site-packages/sympy/core/function.py?line=2427'>2428</a>\u001b[0m \n\u001b[0;32m   (...)\u001b[0m\n\u001b[1;32m   <a href='file:///home/dom_iva/miniconda3/envs/mam/lib/python3.10/site-packages/sympy/core/function.py?line=2486'>2487</a>\u001b[0m \n\u001b[1;32m   <a href='file:///home/dom_iva/miniconda3/envs/mam/lib/python3.10/site-packages/sympy/core/function.py?line=2487'>2488</a>\u001b[0m \u001b[39m\"\"\"\u001b[39;00m\n\u001b[1;32m   <a href='file:///home/dom_iva/miniconda3/envs/mam/lib/python3.10/site-packages/sympy/core/function.py?line=2488'>2489</a>\u001b[0m \u001b[39mif\u001b[39;00m \u001b[39mhasattr\u001b[39m(f, \u001b[39m'\u001b[39m\u001b[39mdiff\u001b[39m\u001b[39m'\u001b[39m):\n\u001b[0;32m-> <a href='file:///home/dom_iva/miniconda3/envs/mam/lib/python3.10/site-packages/sympy/core/function.py?line=2489'>2490</a>\u001b[0m     \u001b[39mreturn\u001b[39;00m f\u001b[39m.\u001b[39;49mdiff(\u001b[39m*\u001b[39;49msymbols, \u001b[39m*\u001b[39;49m\u001b[39m*\u001b[39;49mkwargs)\n\u001b[1;32m   <a href='file:///home/dom_iva/miniconda3/envs/mam/lib/python3.10/site-packages/sympy/core/function.py?line=2490'>2491</a>\u001b[0m kwargs\u001b[39m.\u001b[39msetdefault(\u001b[39m'\u001b[39m\u001b[39mevaluate\u001b[39m\u001b[39m'\u001b[39m, \u001b[39mTrue\u001b[39;00m)\n\u001b[1;32m   <a href='file:///home/dom_iva/miniconda3/envs/mam/lib/python3.10/site-packages/sympy/core/function.py?line=2491'>2492</a>\u001b[0m \u001b[39mreturn\u001b[39;00m _derivative_dispatch(f, \u001b[39m*\u001b[39msymbols, \u001b[39m*\u001b[39m\u001b[39m*\u001b[39mkwargs)\n",
      "File \u001b[0;32m~/miniconda3/envs/mam/lib/python3.10/site-packages/sympy/core/expr.py:3555\u001b[0m, in \u001b[0;36mExpr.diff\u001b[0;34m(self, *symbols, **assumptions)\u001b[0m\n\u001b[1;32m   <a href='file:///home/dom_iva/miniconda3/envs/mam/lib/python3.10/site-packages/sympy/core/expr.py?line=3552'>3553</a>\u001b[0m \u001b[39mdef\u001b[39;00m \u001b[39mdiff\u001b[39m(\u001b[39mself\u001b[39m, \u001b[39m*\u001b[39msymbols, \u001b[39m*\u001b[39m\u001b[39m*\u001b[39massumptions):\n\u001b[1;32m   <a href='file:///home/dom_iva/miniconda3/envs/mam/lib/python3.10/site-packages/sympy/core/expr.py?line=3553'>3554</a>\u001b[0m     assumptions\u001b[39m.\u001b[39msetdefault(\u001b[39m\"\u001b[39m\u001b[39mevaluate\u001b[39m\u001b[39m\"\u001b[39m, \u001b[39mTrue\u001b[39;00m)\n\u001b[0;32m-> <a href='file:///home/dom_iva/miniconda3/envs/mam/lib/python3.10/site-packages/sympy/core/expr.py?line=3554'>3555</a>\u001b[0m     \u001b[39mreturn\u001b[39;00m _derivative_dispatch(\u001b[39mself\u001b[39;49m, \u001b[39m*\u001b[39;49msymbols, \u001b[39m*\u001b[39;49m\u001b[39m*\u001b[39;49massumptions)\n",
      "File \u001b[0;32m~/miniconda3/envs/mam/lib/python3.10/site-packages/sympy/core/function.py:1914\u001b[0m, in \u001b[0;36m_derivative_dispatch\u001b[0;34m(expr, *variables, **kwargs)\u001b[0m\n\u001b[1;32m   <a href='file:///home/dom_iva/miniconda3/envs/mam/lib/python3.10/site-packages/sympy/core/function.py?line=1911'>1912</a>\u001b[0m     \u001b[39mfrom\u001b[39;00m \u001b[39msympy\u001b[39;00m\u001b[39m.\u001b[39;00m\u001b[39mtensor\u001b[39;00m\u001b[39m.\u001b[39;00m\u001b[39marray\u001b[39;00m\u001b[39m.\u001b[39;00m\u001b[39marray_derivatives\u001b[39;00m \u001b[39mimport\u001b[39;00m ArrayDerivative\n\u001b[1;32m   <a href='file:///home/dom_iva/miniconda3/envs/mam/lib/python3.10/site-packages/sympy/core/function.py?line=1912'>1913</a>\u001b[0m     \u001b[39mreturn\u001b[39;00m ArrayDerivative(expr, \u001b[39m*\u001b[39mvariables, \u001b[39m*\u001b[39m\u001b[39m*\u001b[39mkwargs)\n\u001b[0;32m-> <a href='file:///home/dom_iva/miniconda3/envs/mam/lib/python3.10/site-packages/sympy/core/function.py?line=1913'>1914</a>\u001b[0m \u001b[39mreturn\u001b[39;00m Derivative(expr, \u001b[39m*\u001b[39;49mvariables, \u001b[39m*\u001b[39;49m\u001b[39m*\u001b[39;49mkwargs)\n",
      "File \u001b[0;32m~/miniconda3/envs/mam/lib/python3.10/site-packages/sympy/core/function.py:1451\u001b[0m, in \u001b[0;36mDerivative.__new__\u001b[0;34m(cls, expr, *variables, **kwargs)\u001b[0m\n\u001b[1;32m   <a href='file:///home/dom_iva/miniconda3/envs/mam/lib/python3.10/site-packages/sympy/core/function.py?line=1447'>1448</a>\u001b[0m \u001b[39mif\u001b[39;00m old_v \u001b[39mis\u001b[39;00m \u001b[39mnot\u001b[39;00m \u001b[39mNone\u001b[39;00m:\n\u001b[1;32m   <a href='file:///home/dom_iva/miniconda3/envs/mam/lib/python3.10/site-packages/sympy/core/function.py?line=1448'>1449</a>\u001b[0m     \u001b[39mif\u001b[39;00m obj \u001b[39mis\u001b[39;00m \u001b[39mnot\u001b[39;00m \u001b[39mNone\u001b[39;00m:\n\u001b[1;32m   <a href='file:///home/dom_iva/miniconda3/envs/mam/lib/python3.10/site-packages/sympy/core/function.py?line=1449'>1450</a>\u001b[0m         \u001b[39m# remove the dummy that was used\u001b[39;00m\n\u001b[0;32m-> <a href='file:///home/dom_iva/miniconda3/envs/mam/lib/python3.10/site-packages/sympy/core/function.py?line=1450'>1451</a>\u001b[0m         obj \u001b[39m=\u001b[39m obj\u001b[39m.\u001b[39;49msubs(v, old_v)\n\u001b[1;32m   <a href='file:///home/dom_iva/miniconda3/envs/mam/lib/python3.10/site-packages/sympy/core/function.py?line=1451'>1452</a>\u001b[0m     \u001b[39m# restore expr\u001b[39;00m\n\u001b[1;32m   <a href='file:///home/dom_iva/miniconda3/envs/mam/lib/python3.10/site-packages/sympy/core/function.py?line=1452'>1453</a>\u001b[0m     expr \u001b[39m=\u001b[39m old_expr\n",
      "File \u001b[0;32m~/miniconda3/envs/mam/lib/python3.10/site-packages/sympy/core/basic.py:997\u001b[0m, in \u001b[0;36mBasic.subs\u001b[0;34m(self, *args, **kwargs)\u001b[0m\n\u001b[1;32m    <a href='file:///home/dom_iva/miniconda3/envs/mam/lib/python3.10/site-packages/sympy/core/basic.py?line=994'>995</a>\u001b[0m rv \u001b[39m=\u001b[39m \u001b[39mself\u001b[39m\n\u001b[1;32m    <a href='file:///home/dom_iva/miniconda3/envs/mam/lib/python3.10/site-packages/sympy/core/basic.py?line=995'>996</a>\u001b[0m \u001b[39mfor\u001b[39;00m old, new \u001b[39min\u001b[39;00m sequence:\n\u001b[0;32m--> <a href='file:///home/dom_iva/miniconda3/envs/mam/lib/python3.10/site-packages/sympy/core/basic.py?line=996'>997</a>\u001b[0m     rv \u001b[39m=\u001b[39m rv\u001b[39m.\u001b[39;49m_subs(old, new, \u001b[39m*\u001b[39;49m\u001b[39m*\u001b[39;49mkwargs)\n\u001b[1;32m    <a href='file:///home/dom_iva/miniconda3/envs/mam/lib/python3.10/site-packages/sympy/core/basic.py?line=997'>998</a>\u001b[0m     \u001b[39mif\u001b[39;00m \u001b[39mnot\u001b[39;00m \u001b[39misinstance\u001b[39m(rv, Basic):\n\u001b[1;32m    <a href='file:///home/dom_iva/miniconda3/envs/mam/lib/python3.10/site-packages/sympy/core/basic.py?line=998'>999</a>\u001b[0m         \u001b[39mbreak\u001b[39;00m\n",
      "File \u001b[0;32m~/miniconda3/envs/mam/lib/python3.10/site-packages/sympy/core/cache.py:70\u001b[0m, in \u001b[0;36m__cacheit.<locals>.func_wrapper.<locals>.wrapper\u001b[0;34m(*args, **kwargs)\u001b[0m\n\u001b[1;32m     <a href='file:///home/dom_iva/miniconda3/envs/mam/lib/python3.10/site-packages/sympy/core/cache.py?line=66'>67</a>\u001b[0m \u001b[39m@wraps\u001b[39m(func)\n\u001b[1;32m     <a href='file:///home/dom_iva/miniconda3/envs/mam/lib/python3.10/site-packages/sympy/core/cache.py?line=67'>68</a>\u001b[0m \u001b[39mdef\u001b[39;00m \u001b[39mwrapper\u001b[39m(\u001b[39m*\u001b[39margs, \u001b[39m*\u001b[39m\u001b[39m*\u001b[39mkwargs):\n\u001b[1;32m     <a href='file:///home/dom_iva/miniconda3/envs/mam/lib/python3.10/site-packages/sympy/core/cache.py?line=68'>69</a>\u001b[0m     \u001b[39mtry\u001b[39;00m:\n\u001b[0;32m---> <a href='file:///home/dom_iva/miniconda3/envs/mam/lib/python3.10/site-packages/sympy/core/cache.py?line=69'>70</a>\u001b[0m         retval \u001b[39m=\u001b[39m cfunc(\u001b[39m*\u001b[39;49margs, \u001b[39m*\u001b[39;49m\u001b[39m*\u001b[39;49mkwargs)\n\u001b[1;32m     <a href='file:///home/dom_iva/miniconda3/envs/mam/lib/python3.10/site-packages/sympy/core/cache.py?line=70'>71</a>\u001b[0m     \u001b[39mexcept\u001b[39;00m \u001b[39mTypeError\u001b[39;00m \u001b[39mas\u001b[39;00m e:\n\u001b[1;32m     <a href='file:///home/dom_iva/miniconda3/envs/mam/lib/python3.10/site-packages/sympy/core/cache.py?line=71'>72</a>\u001b[0m         \u001b[39mif\u001b[39;00m \u001b[39mnot\u001b[39;00m e\u001b[39m.\u001b[39margs \u001b[39mor\u001b[39;00m \u001b[39mnot\u001b[39;00m e\u001b[39m.\u001b[39margs[\u001b[39m0\u001b[39m]\u001b[39m.\u001b[39mstartswith(\u001b[39m'\u001b[39m\u001b[39munhashable type:\u001b[39m\u001b[39m'\u001b[39m):\n",
      "File \u001b[0;32m~/miniconda3/envs/mam/lib/python3.10/site-packages/sympy/core/basic.py:1111\u001b[0m, in \u001b[0;36mBasic._subs\u001b[0;34m(self, old, new, **hints)\u001b[0m\n\u001b[1;32m   <a href='file:///home/dom_iva/miniconda3/envs/mam/lib/python3.10/site-packages/sympy/core/basic.py?line=1108'>1109</a>\u001b[0m rv \u001b[39m=\u001b[39m \u001b[39mself\u001b[39m\u001b[39m.\u001b[39m_eval_subs(old, new)\n\u001b[1;32m   <a href='file:///home/dom_iva/miniconda3/envs/mam/lib/python3.10/site-packages/sympy/core/basic.py?line=1109'>1110</a>\u001b[0m \u001b[39mif\u001b[39;00m rv \u001b[39mis\u001b[39;00m \u001b[39mNone\u001b[39;00m:\n\u001b[0;32m-> <a href='file:///home/dom_iva/miniconda3/envs/mam/lib/python3.10/site-packages/sympy/core/basic.py?line=1110'>1111</a>\u001b[0m     rv \u001b[39m=\u001b[39m fallback(\u001b[39mself\u001b[39;49m, old, new)\n\u001b[1;32m   <a href='file:///home/dom_iva/miniconda3/envs/mam/lib/python3.10/site-packages/sympy/core/basic.py?line=1111'>1112</a>\u001b[0m \u001b[39mreturn\u001b[39;00m rv\n",
      "File \u001b[0;32m~/miniconda3/envs/mam/lib/python3.10/site-packages/sympy/core/basic.py:1083\u001b[0m, in \u001b[0;36mBasic._subs.<locals>.fallback\u001b[0;34m(self, old, new)\u001b[0m\n\u001b[1;32m   <a href='file:///home/dom_iva/miniconda3/envs/mam/lib/python3.10/site-packages/sympy/core/basic.py?line=1080'>1081</a>\u001b[0m \u001b[39mif\u001b[39;00m \u001b[39mnot\u001b[39;00m \u001b[39mhasattr\u001b[39m(arg, \u001b[39m'\u001b[39m\u001b[39m_eval_subs\u001b[39m\u001b[39m'\u001b[39m):\n\u001b[1;32m   <a href='file:///home/dom_iva/miniconda3/envs/mam/lib/python3.10/site-packages/sympy/core/basic.py?line=1081'>1082</a>\u001b[0m     \u001b[39mcontinue\u001b[39;00m\n\u001b[0;32m-> <a href='file:///home/dom_iva/miniconda3/envs/mam/lib/python3.10/site-packages/sympy/core/basic.py?line=1082'>1083</a>\u001b[0m arg \u001b[39m=\u001b[39m arg\u001b[39m.\u001b[39;49m_subs(old, new, \u001b[39m*\u001b[39;49m\u001b[39m*\u001b[39;49mhints)\n\u001b[1;32m   <a href='file:///home/dom_iva/miniconda3/envs/mam/lib/python3.10/site-packages/sympy/core/basic.py?line=1083'>1084</a>\u001b[0m \u001b[39mif\u001b[39;00m \u001b[39mnot\u001b[39;00m _aresame(arg, args[i]):\n\u001b[1;32m   <a href='file:///home/dom_iva/miniconda3/envs/mam/lib/python3.10/site-packages/sympy/core/basic.py?line=1084'>1085</a>\u001b[0m     hit \u001b[39m=\u001b[39m \u001b[39mTrue\u001b[39;00m\n",
      "File \u001b[0;32m~/miniconda3/envs/mam/lib/python3.10/site-packages/sympy/core/cache.py:70\u001b[0m, in \u001b[0;36m__cacheit.<locals>.func_wrapper.<locals>.wrapper\u001b[0;34m(*args, **kwargs)\u001b[0m\n\u001b[1;32m     <a href='file:///home/dom_iva/miniconda3/envs/mam/lib/python3.10/site-packages/sympy/core/cache.py?line=66'>67</a>\u001b[0m \u001b[39m@wraps\u001b[39m(func)\n\u001b[1;32m     <a href='file:///home/dom_iva/miniconda3/envs/mam/lib/python3.10/site-packages/sympy/core/cache.py?line=67'>68</a>\u001b[0m \u001b[39mdef\u001b[39;00m \u001b[39mwrapper\u001b[39m(\u001b[39m*\u001b[39margs, \u001b[39m*\u001b[39m\u001b[39m*\u001b[39mkwargs):\n\u001b[1;32m     <a href='file:///home/dom_iva/miniconda3/envs/mam/lib/python3.10/site-packages/sympy/core/cache.py?line=68'>69</a>\u001b[0m     \u001b[39mtry\u001b[39;00m:\n\u001b[0;32m---> <a href='file:///home/dom_iva/miniconda3/envs/mam/lib/python3.10/site-packages/sympy/core/cache.py?line=69'>70</a>\u001b[0m         retval \u001b[39m=\u001b[39m cfunc(\u001b[39m*\u001b[39;49margs, \u001b[39m*\u001b[39;49m\u001b[39m*\u001b[39;49mkwargs)\n\u001b[1;32m     <a href='file:///home/dom_iva/miniconda3/envs/mam/lib/python3.10/site-packages/sympy/core/cache.py?line=70'>71</a>\u001b[0m     \u001b[39mexcept\u001b[39;00m \u001b[39mTypeError\u001b[39;00m \u001b[39mas\u001b[39;00m e:\n\u001b[1;32m     <a href='file:///home/dom_iva/miniconda3/envs/mam/lib/python3.10/site-packages/sympy/core/cache.py?line=71'>72</a>\u001b[0m         \u001b[39mif\u001b[39;00m \u001b[39mnot\u001b[39;00m e\u001b[39m.\u001b[39margs \u001b[39mor\u001b[39;00m \u001b[39mnot\u001b[39;00m e\u001b[39m.\u001b[39margs[\u001b[39m0\u001b[39m]\u001b[39m.\u001b[39mstartswith(\u001b[39m'\u001b[39m\u001b[39munhashable type:\u001b[39m\u001b[39m'\u001b[39m):\n",
      "File \u001b[0;32m~/miniconda3/envs/mam/lib/python3.10/site-packages/sympy/core/basic.py:1111\u001b[0m, in \u001b[0;36mBasic._subs\u001b[0;34m(self, old, new, **hints)\u001b[0m\n\u001b[1;32m   <a href='file:///home/dom_iva/miniconda3/envs/mam/lib/python3.10/site-packages/sympy/core/basic.py?line=1108'>1109</a>\u001b[0m rv \u001b[39m=\u001b[39m \u001b[39mself\u001b[39m\u001b[39m.\u001b[39m_eval_subs(old, new)\n\u001b[1;32m   <a href='file:///home/dom_iva/miniconda3/envs/mam/lib/python3.10/site-packages/sympy/core/basic.py?line=1109'>1110</a>\u001b[0m \u001b[39mif\u001b[39;00m rv \u001b[39mis\u001b[39;00m \u001b[39mNone\u001b[39;00m:\n\u001b[0;32m-> <a href='file:///home/dom_iva/miniconda3/envs/mam/lib/python3.10/site-packages/sympy/core/basic.py?line=1110'>1111</a>\u001b[0m     rv \u001b[39m=\u001b[39m fallback(\u001b[39mself\u001b[39;49m, old, new)\n\u001b[1;32m   <a href='file:///home/dom_iva/miniconda3/envs/mam/lib/python3.10/site-packages/sympy/core/basic.py?line=1111'>1112</a>\u001b[0m \u001b[39mreturn\u001b[39;00m rv\n",
      "File \u001b[0;32m~/miniconda3/envs/mam/lib/python3.10/site-packages/sympy/core/basic.py:1083\u001b[0m, in \u001b[0;36mBasic._subs.<locals>.fallback\u001b[0;34m(self, old, new)\u001b[0m\n\u001b[1;32m   <a href='file:///home/dom_iva/miniconda3/envs/mam/lib/python3.10/site-packages/sympy/core/basic.py?line=1080'>1081</a>\u001b[0m \u001b[39mif\u001b[39;00m \u001b[39mnot\u001b[39;00m \u001b[39mhasattr\u001b[39m(arg, \u001b[39m'\u001b[39m\u001b[39m_eval_subs\u001b[39m\u001b[39m'\u001b[39m):\n\u001b[1;32m   <a href='file:///home/dom_iva/miniconda3/envs/mam/lib/python3.10/site-packages/sympy/core/basic.py?line=1081'>1082</a>\u001b[0m     \u001b[39mcontinue\u001b[39;00m\n\u001b[0;32m-> <a href='file:///home/dom_iva/miniconda3/envs/mam/lib/python3.10/site-packages/sympy/core/basic.py?line=1082'>1083</a>\u001b[0m arg \u001b[39m=\u001b[39m arg\u001b[39m.\u001b[39;49m_subs(old, new, \u001b[39m*\u001b[39;49m\u001b[39m*\u001b[39;49mhints)\n\u001b[1;32m   <a href='file:///home/dom_iva/miniconda3/envs/mam/lib/python3.10/site-packages/sympy/core/basic.py?line=1083'>1084</a>\u001b[0m \u001b[39mif\u001b[39;00m \u001b[39mnot\u001b[39;00m _aresame(arg, args[i]):\n\u001b[1;32m   <a href='file:///home/dom_iva/miniconda3/envs/mam/lib/python3.10/site-packages/sympy/core/basic.py?line=1084'>1085</a>\u001b[0m     hit \u001b[39m=\u001b[39m \u001b[39mTrue\u001b[39;00m\n",
      "    \u001b[0;31m[... skipping similar frames: Basic._subs at line 1111 (9 times), __cacheit.<locals>.func_wrapper.<locals>.wrapper at line 70 (9 times), Basic._subs.<locals>.fallback at line 1083 (8 times)]\u001b[0m\n",
      "File \u001b[0;32m~/miniconda3/envs/mam/lib/python3.10/site-packages/sympy/core/basic.py:1083\u001b[0m, in \u001b[0;36mBasic._subs.<locals>.fallback\u001b[0;34m(self, old, new)\u001b[0m\n\u001b[1;32m   <a href='file:///home/dom_iva/miniconda3/envs/mam/lib/python3.10/site-packages/sympy/core/basic.py?line=1080'>1081</a>\u001b[0m \u001b[39mif\u001b[39;00m \u001b[39mnot\u001b[39;00m \u001b[39mhasattr\u001b[39m(arg, \u001b[39m'\u001b[39m\u001b[39m_eval_subs\u001b[39m\u001b[39m'\u001b[39m):\n\u001b[1;32m   <a href='file:///home/dom_iva/miniconda3/envs/mam/lib/python3.10/site-packages/sympy/core/basic.py?line=1081'>1082</a>\u001b[0m     \u001b[39mcontinue\u001b[39;00m\n\u001b[0;32m-> <a href='file:///home/dom_iva/miniconda3/envs/mam/lib/python3.10/site-packages/sympy/core/basic.py?line=1082'>1083</a>\u001b[0m arg \u001b[39m=\u001b[39m arg\u001b[39m.\u001b[39;49m_subs(old, new, \u001b[39m*\u001b[39;49m\u001b[39m*\u001b[39;49mhints)\n\u001b[1;32m   <a href='file:///home/dom_iva/miniconda3/envs/mam/lib/python3.10/site-packages/sympy/core/basic.py?line=1083'>1084</a>\u001b[0m \u001b[39mif\u001b[39;00m \u001b[39mnot\u001b[39;00m _aresame(arg, args[i]):\n\u001b[1;32m   <a href='file:///home/dom_iva/miniconda3/envs/mam/lib/python3.10/site-packages/sympy/core/basic.py?line=1084'>1085</a>\u001b[0m     hit \u001b[39m=\u001b[39m \u001b[39mTrue\u001b[39;00m\n",
      "File \u001b[0;32m~/miniconda3/envs/mam/lib/python3.10/site-packages/sympy/core/cache.py:70\u001b[0m, in \u001b[0;36m__cacheit.<locals>.func_wrapper.<locals>.wrapper\u001b[0;34m(*args, **kwargs)\u001b[0m\n\u001b[1;32m     <a href='file:///home/dom_iva/miniconda3/envs/mam/lib/python3.10/site-packages/sympy/core/cache.py?line=66'>67</a>\u001b[0m \u001b[39m@wraps\u001b[39m(func)\n\u001b[1;32m     <a href='file:///home/dom_iva/miniconda3/envs/mam/lib/python3.10/site-packages/sympy/core/cache.py?line=67'>68</a>\u001b[0m \u001b[39mdef\u001b[39;00m \u001b[39mwrapper\u001b[39m(\u001b[39m*\u001b[39margs, \u001b[39m*\u001b[39m\u001b[39m*\u001b[39mkwargs):\n\u001b[1;32m     <a href='file:///home/dom_iva/miniconda3/envs/mam/lib/python3.10/site-packages/sympy/core/cache.py?line=68'>69</a>\u001b[0m     \u001b[39mtry\u001b[39;00m:\n\u001b[0;32m---> <a href='file:///home/dom_iva/miniconda3/envs/mam/lib/python3.10/site-packages/sympy/core/cache.py?line=69'>70</a>\u001b[0m         retval \u001b[39m=\u001b[39m cfunc(\u001b[39m*\u001b[39;49margs, \u001b[39m*\u001b[39;49m\u001b[39m*\u001b[39;49mkwargs)\n\u001b[1;32m     <a href='file:///home/dom_iva/miniconda3/envs/mam/lib/python3.10/site-packages/sympy/core/cache.py?line=70'>71</a>\u001b[0m     \u001b[39mexcept\u001b[39;00m \u001b[39mTypeError\u001b[39;00m \u001b[39mas\u001b[39;00m e:\n\u001b[1;32m     <a href='file:///home/dom_iva/miniconda3/envs/mam/lib/python3.10/site-packages/sympy/core/cache.py?line=71'>72</a>\u001b[0m         \u001b[39mif\u001b[39;00m \u001b[39mnot\u001b[39;00m e\u001b[39m.\u001b[39margs \u001b[39mor\u001b[39;00m \u001b[39mnot\u001b[39;00m e\u001b[39m.\u001b[39margs[\u001b[39m0\u001b[39m]\u001b[39m.\u001b[39mstartswith(\u001b[39m'\u001b[39m\u001b[39munhashable type:\u001b[39m\u001b[39m'\u001b[39m):\n",
      "File \u001b[0;32m~/miniconda3/envs/mam/lib/python3.10/site-packages/sympy/core/basic.py:1111\u001b[0m, in \u001b[0;36mBasic._subs\u001b[0;34m(self, old, new, **hints)\u001b[0m\n\u001b[1;32m   <a href='file:///home/dom_iva/miniconda3/envs/mam/lib/python3.10/site-packages/sympy/core/basic.py?line=1108'>1109</a>\u001b[0m rv \u001b[39m=\u001b[39m \u001b[39mself\u001b[39m\u001b[39m.\u001b[39m_eval_subs(old, new)\n\u001b[1;32m   <a href='file:///home/dom_iva/miniconda3/envs/mam/lib/python3.10/site-packages/sympy/core/basic.py?line=1109'>1110</a>\u001b[0m \u001b[39mif\u001b[39;00m rv \u001b[39mis\u001b[39;00m \u001b[39mNone\u001b[39;00m:\n\u001b[0;32m-> <a href='file:///home/dom_iva/miniconda3/envs/mam/lib/python3.10/site-packages/sympy/core/basic.py?line=1110'>1111</a>\u001b[0m     rv \u001b[39m=\u001b[39m fallback(\u001b[39mself\u001b[39;49m, old, new)\n\u001b[1;32m   <a href='file:///home/dom_iva/miniconda3/envs/mam/lib/python3.10/site-packages/sympy/core/basic.py?line=1111'>1112</a>\u001b[0m \u001b[39mreturn\u001b[39;00m rv\n",
      "File \u001b[0;32m~/miniconda3/envs/mam/lib/python3.10/site-packages/sympy/core/basic.py:1088\u001b[0m, in \u001b[0;36mBasic._subs.<locals>.fallback\u001b[0;34m(self, old, new)\u001b[0m\n\u001b[1;32m   <a href='file:///home/dom_iva/miniconda3/envs/mam/lib/python3.10/site-packages/sympy/core/basic.py?line=1085'>1086</a>\u001b[0m         args[i] \u001b[39m=\u001b[39m arg\n\u001b[1;32m   <a href='file:///home/dom_iva/miniconda3/envs/mam/lib/python3.10/site-packages/sympy/core/basic.py?line=1086'>1087</a>\u001b[0m \u001b[39mif\u001b[39;00m hit:\n\u001b[0;32m-> <a href='file:///home/dom_iva/miniconda3/envs/mam/lib/python3.10/site-packages/sympy/core/basic.py?line=1087'>1088</a>\u001b[0m     rv \u001b[39m=\u001b[39m \u001b[39mself\u001b[39;49m\u001b[39m.\u001b[39;49mfunc(\u001b[39m*\u001b[39;49margs)\n\u001b[1;32m   <a href='file:///home/dom_iva/miniconda3/envs/mam/lib/python3.10/site-packages/sympy/core/basic.py?line=1088'>1089</a>\u001b[0m     hack2 \u001b[39m=\u001b[39m hints\u001b[39m.\u001b[39mget(\u001b[39m'\u001b[39m\u001b[39mhack2\u001b[39m\u001b[39m'\u001b[39m, \u001b[39mFalse\u001b[39;00m)\n\u001b[1;32m   <a href='file:///home/dom_iva/miniconda3/envs/mam/lib/python3.10/site-packages/sympy/core/basic.py?line=1089'>1090</a>\u001b[0m     \u001b[39mif\u001b[39;00m hack2 \u001b[39mand\u001b[39;00m \u001b[39mself\u001b[39m\u001b[39m.\u001b[39mis_Mul \u001b[39mand\u001b[39;00m \u001b[39mnot\u001b[39;00m rv\u001b[39m.\u001b[39mis_Mul:  \u001b[39m# 2-arg hack\u001b[39;00m\n",
      "File \u001b[0;32m~/miniconda3/envs/mam/lib/python3.10/site-packages/sympy/core/cache.py:70\u001b[0m, in \u001b[0;36m__cacheit.<locals>.func_wrapper.<locals>.wrapper\u001b[0;34m(*args, **kwargs)\u001b[0m\n\u001b[1;32m     <a href='file:///home/dom_iva/miniconda3/envs/mam/lib/python3.10/site-packages/sympy/core/cache.py?line=66'>67</a>\u001b[0m \u001b[39m@wraps\u001b[39m(func)\n\u001b[1;32m     <a href='file:///home/dom_iva/miniconda3/envs/mam/lib/python3.10/site-packages/sympy/core/cache.py?line=67'>68</a>\u001b[0m \u001b[39mdef\u001b[39;00m \u001b[39mwrapper\u001b[39m(\u001b[39m*\u001b[39margs, \u001b[39m*\u001b[39m\u001b[39m*\u001b[39mkwargs):\n\u001b[1;32m     <a href='file:///home/dom_iva/miniconda3/envs/mam/lib/python3.10/site-packages/sympy/core/cache.py?line=68'>69</a>\u001b[0m     \u001b[39mtry\u001b[39;00m:\n\u001b[0;32m---> <a href='file:///home/dom_iva/miniconda3/envs/mam/lib/python3.10/site-packages/sympy/core/cache.py?line=69'>70</a>\u001b[0m         retval \u001b[39m=\u001b[39m cfunc(\u001b[39m*\u001b[39;49margs, \u001b[39m*\u001b[39;49m\u001b[39m*\u001b[39;49mkwargs)\n\u001b[1;32m     <a href='file:///home/dom_iva/miniconda3/envs/mam/lib/python3.10/site-packages/sympy/core/cache.py?line=70'>71</a>\u001b[0m     \u001b[39mexcept\u001b[39;00m \u001b[39mTypeError\u001b[39;00m \u001b[39mas\u001b[39;00m e:\n\u001b[1;32m     <a href='file:///home/dom_iva/miniconda3/envs/mam/lib/python3.10/site-packages/sympy/core/cache.py?line=71'>72</a>\u001b[0m         \u001b[39mif\u001b[39;00m \u001b[39mnot\u001b[39;00m e\u001b[39m.\u001b[39margs \u001b[39mor\u001b[39;00m \u001b[39mnot\u001b[39;00m e\u001b[39m.\u001b[39margs[\u001b[39m0\u001b[39m]\u001b[39m.\u001b[39mstartswith(\u001b[39m'\u001b[39m\u001b[39munhashable type:\u001b[39m\u001b[39m'\u001b[39m):\n",
      "File \u001b[0;32m~/miniconda3/envs/mam/lib/python3.10/site-packages/sympy/core/operations.py:98\u001b[0m, in \u001b[0;36mAssocOp.__new__\u001b[0;34m(cls, evaluate, _sympify, *args)\u001b[0m\n\u001b[1;32m     <a href='file:///home/dom_iva/miniconda3/envs/mam/lib/python3.10/site-packages/sympy/core/operations.py?line=94'>95</a>\u001b[0m \u001b[39mif\u001b[39;00m \u001b[39mlen\u001b[39m(args) \u001b[39m==\u001b[39m \u001b[39m1\u001b[39m:\n\u001b[1;32m     <a href='file:///home/dom_iva/miniconda3/envs/mam/lib/python3.10/site-packages/sympy/core/operations.py?line=95'>96</a>\u001b[0m     \u001b[39mreturn\u001b[39;00m args[\u001b[39m0\u001b[39m]\n\u001b[0;32m---> <a href='file:///home/dom_iva/miniconda3/envs/mam/lib/python3.10/site-packages/sympy/core/operations.py?line=97'>98</a>\u001b[0m c_part, nc_part, order_symbols \u001b[39m=\u001b[39m \u001b[39mcls\u001b[39;49m\u001b[39m.\u001b[39;49mflatten(args)\n\u001b[1;32m     <a href='file:///home/dom_iva/miniconda3/envs/mam/lib/python3.10/site-packages/sympy/core/operations.py?line=98'>99</a>\u001b[0m is_commutative \u001b[39m=\u001b[39m \u001b[39mnot\u001b[39;00m nc_part\n\u001b[1;32m    <a href='file:///home/dom_iva/miniconda3/envs/mam/lib/python3.10/site-packages/sympy/core/operations.py?line=99'>100</a>\u001b[0m obj \u001b[39m=\u001b[39m \u001b[39mcls\u001b[39m\u001b[39m.\u001b[39m_from_args(c_part \u001b[39m+\u001b[39m nc_part, is_commutative)\n",
      "File \u001b[0;32m~/miniconda3/envs/mam/lib/python3.10/site-packages/sympy/core/add.py:381\u001b[0m, in \u001b[0;36mAdd.flatten\u001b[0;34m(cls, seq)\u001b[0m\n\u001b[1;32m    <a href='file:///home/dom_iva/miniconda3/envs/mam/lib/python3.10/site-packages/sympy/core/add.py?line=377'>378</a>\u001b[0m             \u001b[39mbreak\u001b[39;00m\n\u001b[1;32m    <a href='file:///home/dom_iva/miniconda3/envs/mam/lib/python3.10/site-packages/sympy/core/add.py?line=379'>380</a>\u001b[0m \u001b[39m# order args canonically\u001b[39;00m\n\u001b[0;32m--> <a href='file:///home/dom_iva/miniconda3/envs/mam/lib/python3.10/site-packages/sympy/core/add.py?line=380'>381</a>\u001b[0m _addsort(newseq)\n\u001b[1;32m    <a href='file:///home/dom_iva/miniconda3/envs/mam/lib/python3.10/site-packages/sympy/core/add.py?line=382'>383</a>\u001b[0m \u001b[39m# current code expects coeff to be first\u001b[39;00m\n\u001b[1;32m    <a href='file:///home/dom_iva/miniconda3/envs/mam/lib/python3.10/site-packages/sympy/core/add.py?line=383'>384</a>\u001b[0m \u001b[39mif\u001b[39;00m coeff \u001b[39mis\u001b[39;00m \u001b[39mnot\u001b[39;00m S\u001b[39m.\u001b[39mZero:\n",
      "File \u001b[0;32m~/miniconda3/envs/mam/lib/python3.10/site-packages/sympy/core/add.py:38\u001b[0m, in \u001b[0;36m_addsort\u001b[0;34m(args)\u001b[0m\n\u001b[1;32m     <a href='file:///home/dom_iva/miniconda3/envs/mam/lib/python3.10/site-packages/sympy/core/add.py?line=35'>36</a>\u001b[0m \u001b[39mdef\u001b[39;00m \u001b[39m_addsort\u001b[39m(args):\n\u001b[1;32m     <a href='file:///home/dom_iva/miniconda3/envs/mam/lib/python3.10/site-packages/sympy/core/add.py?line=36'>37</a>\u001b[0m     \u001b[39m# in-place sorting of args\u001b[39;00m\n\u001b[0;32m---> <a href='file:///home/dom_iva/miniconda3/envs/mam/lib/python3.10/site-packages/sympy/core/add.py?line=37'>38</a>\u001b[0m     args\u001b[39m.\u001b[39;49msort(key\u001b[39m=\u001b[39;49m_args_sortkey)\n",
      "File \u001b[0;32m~/miniconda3/envs/mam/lib/python3.10/site-packages/sympy/core/basic.py:243\u001b[0m, in \u001b[0;36mBasic.compare\u001b[0;34m(self, other)\u001b[0m\n\u001b[1;32m    <a href='file:///home/dom_iva/miniconda3/envs/mam/lib/python3.10/site-packages/sympy/core/basic.py?line=240'>241</a>\u001b[0m r \u001b[39m=\u001b[39m Basic(\u001b[39m*\u001b[39mr) \u001b[39mif\u001b[39;00m \u001b[39misinstance\u001b[39m(r, \u001b[39mfrozenset\u001b[39m) \u001b[39melse\u001b[39;00m r\n\u001b[1;32m    <a href='file:///home/dom_iva/miniconda3/envs/mam/lib/python3.10/site-packages/sympy/core/basic.py?line=241'>242</a>\u001b[0m \u001b[39mif\u001b[39;00m \u001b[39misinstance\u001b[39m(l, Basic):\n\u001b[0;32m--> <a href='file:///home/dom_iva/miniconda3/envs/mam/lib/python3.10/site-packages/sympy/core/basic.py?line=242'>243</a>\u001b[0m     c \u001b[39m=\u001b[39m l\u001b[39m.\u001b[39;49mcompare(r)\n\u001b[1;32m    <a href='file:///home/dom_iva/miniconda3/envs/mam/lib/python3.10/site-packages/sympy/core/basic.py?line=243'>244</a>\u001b[0m \u001b[39melse\u001b[39;00m:\n\u001b[1;32m    <a href='file:///home/dom_iva/miniconda3/envs/mam/lib/python3.10/site-packages/sympy/core/basic.py?line=244'>245</a>\u001b[0m     c \u001b[39m=\u001b[39m (l \u001b[39m>\u001b[39m r) \u001b[39m-\u001b[39m (l \u001b[39m<\u001b[39m r)\n",
      "File \u001b[0;32m~/miniconda3/envs/mam/lib/python3.10/site-packages/sympy/core/basic.py:243\u001b[0m, in \u001b[0;36mBasic.compare\u001b[0;34m(self, other)\u001b[0m\n\u001b[1;32m    <a href='file:///home/dom_iva/miniconda3/envs/mam/lib/python3.10/site-packages/sympy/core/basic.py?line=240'>241</a>\u001b[0m r \u001b[39m=\u001b[39m Basic(\u001b[39m*\u001b[39mr) \u001b[39mif\u001b[39;00m \u001b[39misinstance\u001b[39m(r, \u001b[39mfrozenset\u001b[39m) \u001b[39melse\u001b[39;00m r\n\u001b[1;32m    <a href='file:///home/dom_iva/miniconda3/envs/mam/lib/python3.10/site-packages/sympy/core/basic.py?line=241'>242</a>\u001b[0m \u001b[39mif\u001b[39;00m \u001b[39misinstance\u001b[39m(l, Basic):\n\u001b[0;32m--> <a href='file:///home/dom_iva/miniconda3/envs/mam/lib/python3.10/site-packages/sympy/core/basic.py?line=242'>243</a>\u001b[0m     c \u001b[39m=\u001b[39m l\u001b[39m.\u001b[39;49mcompare(r)\n\u001b[1;32m    <a href='file:///home/dom_iva/miniconda3/envs/mam/lib/python3.10/site-packages/sympy/core/basic.py?line=243'>244</a>\u001b[0m \u001b[39melse\u001b[39;00m:\n\u001b[1;32m    <a href='file:///home/dom_iva/miniconda3/envs/mam/lib/python3.10/site-packages/sympy/core/basic.py?line=244'>245</a>\u001b[0m     c \u001b[39m=\u001b[39m (l \u001b[39m>\u001b[39m r) \u001b[39m-\u001b[39m (l \u001b[39m<\u001b[39m r)\n",
      "    \u001b[0;31m[... skipping similar frames: Basic.compare at line 243 (1 times)]\u001b[0m\n",
      "File \u001b[0;32m~/miniconda3/envs/mam/lib/python3.10/site-packages/sympy/core/basic.py:243\u001b[0m, in \u001b[0;36mBasic.compare\u001b[0;34m(self, other)\u001b[0m\n\u001b[1;32m    <a href='file:///home/dom_iva/miniconda3/envs/mam/lib/python3.10/site-packages/sympy/core/basic.py?line=240'>241</a>\u001b[0m r \u001b[39m=\u001b[39m Basic(\u001b[39m*\u001b[39mr) \u001b[39mif\u001b[39;00m \u001b[39misinstance\u001b[39m(r, \u001b[39mfrozenset\u001b[39m) \u001b[39melse\u001b[39;00m r\n\u001b[1;32m    <a href='file:///home/dom_iva/miniconda3/envs/mam/lib/python3.10/site-packages/sympy/core/basic.py?line=241'>242</a>\u001b[0m \u001b[39mif\u001b[39;00m \u001b[39misinstance\u001b[39m(l, Basic):\n\u001b[0;32m--> <a href='file:///home/dom_iva/miniconda3/envs/mam/lib/python3.10/site-packages/sympy/core/basic.py?line=242'>243</a>\u001b[0m     c \u001b[39m=\u001b[39m l\u001b[39m.\u001b[39;49mcompare(r)\n\u001b[1;32m    <a href='file:///home/dom_iva/miniconda3/envs/mam/lib/python3.10/site-packages/sympy/core/basic.py?line=243'>244</a>\u001b[0m \u001b[39melse\u001b[39;00m:\n\u001b[1;32m    <a href='file:///home/dom_iva/miniconda3/envs/mam/lib/python3.10/site-packages/sympy/core/basic.py?line=244'>245</a>\u001b[0m     c \u001b[39m=\u001b[39m (l \u001b[39m>\u001b[39m r) \u001b[39m-\u001b[39m (l \u001b[39m<\u001b[39m r)\n",
      "File \u001b[0;32m~/miniconda3/envs/mam/lib/python3.10/site-packages/sympy/core/basic.py:235\u001b[0m, in \u001b[0;36mBasic.compare\u001b[0;34m(self, other)\u001b[0m\n\u001b[1;32m    <a href='file:///home/dom_iva/miniconda3/envs/mam/lib/python3.10/site-packages/sympy/core/basic.py?line=232'>233</a>\u001b[0m \u001b[39m#\u001b[39;00m\n\u001b[1;32m    <a href='file:///home/dom_iva/miniconda3/envs/mam/lib/python3.10/site-packages/sympy/core/basic.py?line=233'>234</a>\u001b[0m st \u001b[39m=\u001b[39m \u001b[39mself\u001b[39m\u001b[39m.\u001b[39m_hashable_content()\n\u001b[0;32m--> <a href='file:///home/dom_iva/miniconda3/envs/mam/lib/python3.10/site-packages/sympy/core/basic.py?line=234'>235</a>\u001b[0m ot \u001b[39m=\u001b[39m other\u001b[39m.\u001b[39;49m_hashable_content()\n\u001b[1;32m    <a href='file:///home/dom_iva/miniconda3/envs/mam/lib/python3.10/site-packages/sympy/core/basic.py?line=235'>236</a>\u001b[0m c \u001b[39m=\u001b[39m (\u001b[39mlen\u001b[39m(st) \u001b[39m>\u001b[39m \u001b[39mlen\u001b[39m(ot)) \u001b[39m-\u001b[39m (\u001b[39mlen\u001b[39m(st) \u001b[39m<\u001b[39m \u001b[39mlen\u001b[39m(ot))\n\u001b[1;32m    <a href='file:///home/dom_iva/miniconda3/envs/mam/lib/python3.10/site-packages/sympy/core/basic.py?line=236'>237</a>\u001b[0m \u001b[39mif\u001b[39;00m c:\n",
      "File \u001b[0;32m~/miniconda3/envs/mam/lib/python3.10/site-packages/sympy/core/symbol.py:342\u001b[0m, in \u001b[0;36mSymbol._hashable_content\u001b[0;34m(self)\u001b[0m\n\u001b[1;32m    <a href='file:///home/dom_iva/miniconda3/envs/mam/lib/python3.10/site-packages/sympy/core/symbol.py?line=339'>340</a>\u001b[0m \u001b[39mdef\u001b[39;00m \u001b[39m_hashable_content\u001b[39m(\u001b[39mself\u001b[39m):\n\u001b[1;32m    <a href='file:///home/dom_iva/miniconda3/envs/mam/lib/python3.10/site-packages/sympy/core/symbol.py?line=340'>341</a>\u001b[0m     \u001b[39m# Note: user-specified assumptions not hashed, just derived ones\u001b[39;00m\n\u001b[0;32m--> <a href='file:///home/dom_iva/miniconda3/envs/mam/lib/python3.10/site-packages/sympy/core/symbol.py?line=341'>342</a>\u001b[0m     \u001b[39mreturn\u001b[39;00m (\u001b[39mself\u001b[39m\u001b[39m.\u001b[39mname,) \u001b[39m+\u001b[39m \u001b[39mtuple\u001b[39m(\u001b[39msorted\u001b[39m(\u001b[39mself\u001b[39;49m\u001b[39m.\u001b[39;49massumptions0\u001b[39m.\u001b[39mitems()))\n",
      "File \u001b[0;32m~/miniconda3/envs/mam/lib/python3.10/site-packages/sympy/core/symbol.py:354\u001b[0m, in \u001b[0;36mSymbol.assumptions0\u001b[0;34m(self)\u001b[0m\n\u001b[1;32m    <a href='file:///home/dom_iva/miniconda3/envs/mam/lib/python3.10/site-packages/sympy/core/symbol.py?line=351'>352</a>\u001b[0m \u001b[39m@property\u001b[39m\n\u001b[1;32m    <a href='file:///home/dom_iva/miniconda3/envs/mam/lib/python3.10/site-packages/sympy/core/symbol.py?line=352'>353</a>\u001b[0m \u001b[39mdef\u001b[39;00m \u001b[39massumptions0\u001b[39m(\u001b[39mself\u001b[39m):\n\u001b[0;32m--> <a href='file:///home/dom_iva/miniconda3/envs/mam/lib/python3.10/site-packages/sympy/core/symbol.py?line=353'>354</a>\u001b[0m     \u001b[39mreturn\u001b[39;00m {key: value \u001b[39mfor\u001b[39;00m key, value\n\u001b[1;32m    <a href='file:///home/dom_iva/miniconda3/envs/mam/lib/python3.10/site-packages/sympy/core/symbol.py?line=354'>355</a>\u001b[0m             \u001b[39min\u001b[39;00m \u001b[39mself\u001b[39m\u001b[39m.\u001b[39m_assumptions\u001b[39m.\u001b[39mitems() \u001b[39mif\u001b[39;00m value \u001b[39mis\u001b[39;00m \u001b[39mnot\u001b[39;00m \u001b[39mNone\u001b[39;00m}\n",
      "File \u001b[0;32m~/miniconda3/envs/mam/lib/python3.10/site-packages/sympy/core/symbol.py:354\u001b[0m, in \u001b[0;36m<dictcomp>\u001b[0;34m(.0)\u001b[0m\n\u001b[1;32m    <a href='file:///home/dom_iva/miniconda3/envs/mam/lib/python3.10/site-packages/sympy/core/symbol.py?line=351'>352</a>\u001b[0m \u001b[39m@property\u001b[39m\n\u001b[1;32m    <a href='file:///home/dom_iva/miniconda3/envs/mam/lib/python3.10/site-packages/sympy/core/symbol.py?line=352'>353</a>\u001b[0m \u001b[39mdef\u001b[39;00m \u001b[39massumptions0\u001b[39m(\u001b[39mself\u001b[39m):\n\u001b[0;32m--> <a href='file:///home/dom_iva/miniconda3/envs/mam/lib/python3.10/site-packages/sympy/core/symbol.py?line=353'>354</a>\u001b[0m     \u001b[39mreturn\u001b[39;00m {key: value \u001b[39mfor\u001b[39;00m key, value\n\u001b[1;32m    <a href='file:///home/dom_iva/miniconda3/envs/mam/lib/python3.10/site-packages/sympy/core/symbol.py?line=354'>355</a>\u001b[0m             \u001b[39min\u001b[39;00m \u001b[39mself\u001b[39m\u001b[39m.\u001b[39m_assumptions\u001b[39m.\u001b[39mitems() \u001b[39mif\u001b[39;00m value \u001b[39mis\u001b[39;00m \u001b[39mnot\u001b[39;00m \u001b[39mNone\u001b[39;00m}\n",
      "\u001b[0;31mKeyboardInterrupt\u001b[0m: "
     ]
    }
   ],
   "source": [
    "M_dot = sp.diff(M, t)\n",
    "dMtheta_dtheta = sp.diff(M*dtheta**2, theta)\n",
    "dP_dtheta = sp.diff(P, theta)"
   ]
  },
  {
   "cell_type": "code",
   "execution_count": null,
   "metadata": {},
   "outputs": [],
   "source": [
    "ddtheta = (-M_dot * dtheta + dMtheta_dtheta / 2 + dP_dtheta - tau_ext) / M"
   ]
  },
  {
   "cell_type": "markdown",
   "metadata": {},
   "source": [
    "# Numerical computing"
   ]
  },
  {
   "cell_type": "markdown",
   "metadata": {},
   "source": [
    "Unfortunately, due to high complexity of the resulting dynamics, `sp.lambdify()` fails to treat them in reasonable time. Hence, the function for $\\ddot{\\theta}$ has to be written manually."
   ]
  },
  {
   "cell_type": "markdown",
   "metadata": {},
   "source": [
    "## Constant initialization"
   ]
  },
  {
   "cell_type": "code",
   "execution_count": null,
   "metadata": {},
   "outputs": [],
   "source": [
    "m_d, m_B, m_E, m_BE, m_AD = 0.1, 0.4, 0.6, 0.08, 0.05\n",
    "m_rod = m_B + m_E + m_BE + m_AD\n",
    "R, l_BE, l_AD = .12, .2, .3\n",
    "I_e = 0.5\n",
    "x_A, y_A = -0.09, -0.11\n",
    "r_A = sp.Matrix([x_A, y_A])\n",
    "theta_g = 0\n",
    "g = 9.81\n",
    "\n",
    "I_d = m_d * R**2 / 2"
   ]
  },
  {
   "cell_type": "code",
   "execution_count": 80,
   "metadata": {},
   "outputs": [],
   "source": [
    "class ModelDynamics():\n",
    "    def __init__(\n",
    "            self, \n",
    "            m_d=.1, \n",
    "            m_B=.4, \n",
    "            m_E=.6, \n",
    "            m_BE=.08, \n",
    "            m_AD=.05, \n",
    "            R=.12, \n",
    "            l_BE=.2, \n",
    "            l_AD=.3, \n",
    "            I_e=.5, \n",
    "            x_A=-0.09, \n",
    "            y_A=-0.11, \n",
    "            theta_g=0\n",
    "        ):\n",
    "        self.m_d, self.m_B, self.m_E, self.m_BE, self.m_AD = m_d, m_B, m_E, m_BE, m_AD\n",
    "        self.R, self.l_BE, self.l_AD = R, l_BE, l_AD\n",
    "        self.I_e = I_e\n",
    "        self.r_A = np.array([x_A, y_A])\n",
    "        self.theta_g = theta_g\n",
    "        self.g = 9.81\n",
    "\n",
    "        self.no_input_error_text = \"No input data is provided\"\n",
    "\n",
    "        self.t = None\n",
    "        self.theta = None\n",
    "        self.theta_dot = None\n",
    "        self.tau = None\n",
    "\n",
    "        self.update_constant_terms()\n",
    "        self.reset_internal_params()\n",
    "\n",
    "\n",
    "    def reset_internal_params(self):\n",
    "        self.r_B = None\n",
    "        self.r_B_dot = None\n",
    "        self.alpha = None\n",
    "        self.rod_norm = None\n",
    "        self.r_M = None\n",
    "        self.l_com = None\n",
    "        self.l_com_dot = None\n",
    "        self.r_F = None\n",
    "        self.r_E = None\n",
    "        \n",
    "        self.K_alpha = None\n",
    "        self.K_alpha_dot = None\n",
    "        self.D = None\n",
    "        self.D_dot = None\n",
    "        self.dD_dtheta = None\n",
    "        self.I_r = None\n",
    "        self.I_r_dot = None\n",
    "        self.M = None\n",
    "        self.M_dot = None\n",
    "        self.dM_dtheta = None\n",
    "        self.P = None\n",
    "        self.energy = None\n",
    "\n",
    "\n",
    "    def update_constant_terms(self):\n",
    "        self.m_rod = self.m_B + self.m_E + self.m_BE + self.m_AD\n",
    "        \n",
    "        self.I_d = self.m_d * self.R**2 / 2\n",
    "        \n",
    "        self.D_norm_component = (self.m_AD * self.l_AD / 2 + self.m_BE * self.l_BE / 2 + self.m_E * self.l_BE) / self.m_rod\n",
    "        self.D_theta_component = (self.m_B + self.m_BE + self.m_E) / self.m_rod\n",
    "\n",
    "    \n",
    "    def set_parameters(self, theta, theta_dot, tau=0):\n",
    "        self.theta = theta\n",
    "        self.theta_dot = theta_dot\n",
    "        self.tau = tau\n",
    "\n",
    "        self.reset_internal_params()\n",
    "    \n",
    "\n",
    "    def _eval_r_B(self):\n",
    "        if self.theta is None:\n",
    "            raise RuntimeError(self.no_input_error_text)\n",
    "\n",
    "        x_B = self.R * np.cos(self.theta)\n",
    "        y_B = self.R * np.sin(self.theta)\n",
    "\n",
    "        self.r_B = np.array([x_B, y_B])\n",
    "\n",
    "\n",
    "    def _eval_r_B_dot(self):\n",
    "        if self.theta is None or self.theta_dot is None:\n",
    "            raise RuntimeError(self.no_input_error_text)\n",
    "        x_B_dot = -self.R * np.sin(self.theta) * self.theta_dot\n",
    "        y_B_dot = self.R * np.cos(self.theta) * self.theta_dot\n",
    "\n",
    "        self.r_B_dot = np.array([x_B_dot, y_B_dot])\n",
    "\n",
    "\n",
    "    def _eval_alpha(self):\n",
    "        if self.r_B is None:\n",
    "            self._eval_r_B()\n",
    "\n",
    "        self.alpha = np.arctan2(self.r_B[1] - self.r_A[1], self.r_B[0] - self.r_A[0])\n",
    "\n",
    "\n",
    "    def _eval_rod_norm(self):\n",
    "        if self.alpha is None:\n",
    "            self._eval_alpha()\n",
    "        self.rod_norm = np.array([np.cos(self.alpha), np.sin(self.alpha)])\n",
    "\n",
    "    \n",
    "    def _eval_r_M(self):\n",
    "        if self.alpha is None:\n",
    "            self._eval_alpha()\n",
    "        if self.rod_norm is None:\n",
    "            self._eval_rod_norm()\n",
    "        \n",
    "        self.r_M = r_A + self.rod_norm * self.l_AD / 2\n",
    "\n",
    "    \n",
    "    def _eval_l_com(self):\n",
    "        if self.r_B is None:\n",
    "            self._eval_r_B()\n",
    "        \n",
    "        self.l_com = np.linalg.norm(self.r_B - self.r_A) - self.l_AD / 2\n",
    "    \n",
    "\n",
    "    def _eval_l_com_dot(self):\n",
    "        if self.r_B is None:\n",
    "            self._eval_r_B()\n",
    "        if self.r_B_dot is None:\n",
    "            self._eval_r_B_dot()\n",
    "        \n",
    "        self.l_com = (self.r_B[0] - self.r_A[0] + self.r_B[1] - self.r_A[1]) * (self.r_B_dot[0] + self.r_B_dot[1]) / np.linalg.norm(self.r_B - self.r_A)\n",
    "    \n",
    "\n",
    "    def _eval_r_F(self):\n",
    "        if self.r_B is None:\n",
    "            self._eval_r_B()\n",
    "        if self.rod_norm is None:\n",
    "            self._eval_rod_norm()\n",
    "        \n",
    "        self.r_F = self.r_B + self.rod_norm * self.l_BE/2\n",
    "    \n",
    "\n",
    "    def _eval_r_E(self):\n",
    "        if self.r_B is None:\n",
    "            self._eval_r_B()\n",
    "        if self.rod_norm is None:\n",
    "            self._eval_rod_norm()\n",
    "        \n",
    "        self.r_E = self.r_B + self.rod_norm * self.l_BE\n",
    "    \n",
    "\n",
    "    def _eval_K_alpha(self):\n",
    "        if self.theta is None:\n",
    "            raise RuntimeError(self.no_input_error_text)\n",
    "        if self.r_B is None:\n",
    "            self._eval_r_B\n",
    "\n",
    "        Rcos = R * np.cos(self.theta)\n",
    "        Rsin = R * np.sin(self.theta)\n",
    "\n",
    "        denom = np.linalg.norm(self.r_B - self.r_A)\n",
    "\n",
    "        self.K_alpha = (self.R**2 - self.r_B[1] - self.r_B[0]) / denom\n",
    "\n",
    "\n",
    "    def _eval_K_alpha_dot(self):\n",
    "        if self.theta is None or self.theta_dot is None:\n",
    "            raise RuntimeError(self.no_input_error_text)\n",
    "        if self.r_B is None:\n",
    "            self._eval_r_B()\n",
    "\n",
    "        sin_theta = np.sin(self.theta)\n",
    "        cos_theta = np.cos(self.theta)\n",
    "\n",
    "        denom = np.linalg.norm(self.r_B - self.r_A)**2\n",
    "        \n",
    "        self.K_alpha_dot = R * (-R**2 * self.x_A * sin_theta + \\\n",
    "            R**2 * self.y_A * cos_theta + \\\n",
    "                self.x_A**3 * sin_theta - \\\n",
    "                    self.x_A**2 * self.y_A * cos_theta + \\\n",
    "                        self.x_A * self.y_A**2 * sin_theta - \\\n",
    "                            self.y_A**3 * cos_theta) / denom * self.theta_dot\n",
    "\n",
    "\n",
    "    def _eval_D(self):\n",
    "        if self.theta is None:\n",
    "            raise RuntimeError(self.no_input_error_text)\n",
    "        if self.K_alpha is None:\n",
    "            self._eval_K_alpha()\n",
    "\n",
    "        self.D = self.D_norm_component * np.array([-np.sin(self.alpha), np.cos(self.theta)]) * K_alpha + \\\n",
    "            self.D_theta_component * np.array([-np.sin(self.theta), np.cos(self.theta)]) \n",
    "    \n",
    "\n",
    "    def _eval_D_dot(self):\n",
    "        if self.theta is None or self.theta_dot is None:\n",
    "            raise RuntimeError(self.no_input_error_text)\n",
    "        if self.K_alpha is None:\n",
    "            self._eval_K_alpha()\n",
    "        if self.K_alpha_dot is None:\n",
    "            self._eval_K_alpha_dot()\n",
    "\n",
    "        self.D_dot = self.D_norm_component * np.array([-np.sin(alpha), np.cos(alpha)]) * self.K_alpha_dot + \\\n",
    "            self.D_norm_component * np.array([-np.cos(alpha), -np.sin(alpha)]) * self.theta_dot * self.K_alpha + \\\n",
    "            self.D_theta_component * np.array([-np.cos(theta), -np.sin(theta)]) * self.theta_dot\n",
    "\n",
    "\n",
    "    def _eval_I_r(self):\n",
    "        if self.l_com is None:\n",
    "            self._eval_l_com()\n",
    "        \n",
    "        self.I_r = self.m_AD * (self.l_AD ** 2 / 4 + 3 * self.l_com**2) + \\\n",
    "            self.m_BE * self.l_BE ** 2 / 3 + self.I_e + self.m_E * l_BE**2\n",
    "\n",
    "\n",
    "    def _eval_I_r_dot(self):\n",
    "        if self.l_com is None:\n",
    "            self._eval_l_com()\n",
    "        \n",
    "        if self.l_com_dot is None:\n",
    "            self._eval_l_com_dot()\n",
    "        \n",
    "        self.I_r = 6 * self.m_AD * self.l_com*self.l_com_dot\n",
    "\n",
    "\n",
    "    def _eval_M(self):\n",
    "        if self.D is None:\n",
    "            self._eval_D()\n",
    "        if self.I_r is None:\n",
    "            self._eval_I_r()\n",
    "        if self.K_alpha is None:\n",
    "            self._eval_K_alpha()\n",
    "\n",
    "        self.M = self.m_rod * self.D.T @ D + self.I_d + self.I_r * self.K_alpha ** 2\n",
    "\n",
    "\n",
    "    def _eval_M_dot(self):\n",
    "        if self.D is None:\n",
    "            self._eval_D()\n",
    "        if self.D_dot is None:\n",
    "            self._eval_D_dot()\n",
    "        if self.I_r is None:\n",
    "            self._eval_I_r()\n",
    "        if self.I_r_dot is None:\n",
    "            self._eval_I_r_dot()\n",
    "        if self.K_alpha is None:\n",
    "            self._eval_K_alpha()\n",
    "        if self.K_alpha_dot is None:\n",
    "            self._eval_K_alpha_dot()\n",
    "\n",
    "        self.M_dot =  2 * self.m_dot * self.D.T @ self.D_dot + self.I_r * self.K_alpha_dot + self.I_r_dot * self.K_alpha\n"
   ]
  },
  {
   "cell_type": "code",
   "execution_count": null,
   "metadata": {},
   "outputs": [],
   "source": []
  },
  {
   "cell_type": "code",
   "execution_count": 81,
   "metadata": {},
   "outputs": [
    {
     "name": "stdout",
     "output_type": "stream",
     "text": [
      "0.08706539182259396\n"
     ]
    }
   ],
   "source": [
    "dynamics = ModelDynamics()\n",
    "dynamics.set_parameters(0, 4)\n",
    "dynamics.test_function()"
   ]
  },
  {
   "cell_type": "code",
   "execution_count": 70,
   "metadata": {},
   "outputs": [
    {
     "ename": "AttributeError",
     "evalue": "'ModelDynamics' object has no attribute 'l_com'",
     "output_type": "error",
     "traceback": [
      "\u001b[0;31m---------------------------------------------------------------------------\u001b[0m",
      "\u001b[0;31mAttributeError\u001b[0m                            Traceback (most recent call last)",
      "Cell \u001b[0;32mIn[70], line 1\u001b[0m\n\u001b[0;32m----> 1\u001b[0m dynamics \u001b[38;5;241m=\u001b[39m \u001b[43mModelDynamics\u001b[49m\u001b[43m(\u001b[49m\u001b[43m)\u001b[49m\n\u001b[1;32m      3\u001b[0m dynamics\u001b[38;5;241m.\u001b[39meval_M_dot(\u001b[38;5;241m0\u001b[39m, \u001b[38;5;241m2\u001b[39m)\n",
      "Cell \u001b[0;32mIn[69], line 23\u001b[0m, in \u001b[0;36mModelDynamics.__init__\u001b[0;34m(self, m_d, m_B, m_E, m_BE, m_AD, R, l_BE, l_AD, I_e, x_A, y_A, theta_g)\u001b[0m\n\u001b[1;32m     21\u001b[0m \u001b[38;5;28mself\u001b[39m\u001b[38;5;241m.\u001b[39mtheta_g \u001b[38;5;241m=\u001b[39m theta_g\n\u001b[1;32m     22\u001b[0m \u001b[38;5;28mself\u001b[39m\u001b[38;5;241m.\u001b[39mg \u001b[38;5;241m=\u001b[39m \u001b[38;5;241m9.81\u001b[39m\n\u001b[0;32m---> 23\u001b[0m \u001b[38;5;28;43mself\u001b[39;49m\u001b[38;5;241;43m.\u001b[39;49m\u001b[43mupdate_parameters\u001b[49m\u001b[43m(\u001b[49m\u001b[43m)\u001b[49m\n",
      "Cell \u001b[0;32mIn[69], line 35\u001b[0m, in \u001b[0;36mModelDynamics.update_parameters\u001b[0;34m(self)\u001b[0m\n\u001b[1;32m     31\u001b[0m \u001b[38;5;28mself\u001b[39m\u001b[38;5;241m.\u001b[39mmg_rod \u001b[38;5;241m=\u001b[39m \u001b[38;5;28mself\u001b[39m\u001b[38;5;241m.\u001b[39mm_rod \u001b[38;5;241m*\u001b[39m \u001b[38;5;28mself\u001b[39m\u001b[38;5;241m.\u001b[39mg \u001b[38;5;241m*\u001b[39m np\u001b[38;5;241m.\u001b[39mcos(\u001b[38;5;28mself\u001b[39m\u001b[38;5;241m.\u001b[39mtheta_g)\n\u001b[1;32m     33\u001b[0m \u001b[38;5;28mself\u001b[39m\u001b[38;5;241m.\u001b[39mr_A_norm \u001b[38;5;241m=\u001b[39m \u001b[38;5;28mself\u001b[39m\u001b[38;5;241m.\u001b[39mx_A\u001b[38;5;241m*\u001b[39m\u001b[38;5;241m*\u001b[39m\u001b[38;5;241m2\u001b[39m \u001b[38;5;241m+\u001b[39m \u001b[38;5;28mself\u001b[39m\u001b[38;5;241m.\u001b[39my_A\u001b[38;5;241m*\u001b[39m\u001b[38;5;241m*\u001b[39m\u001b[38;5;241m2\u001b[39m\n\u001b[0;32m---> 35\u001b[0m \u001b[38;5;28mself\u001b[39m\u001b[38;5;241m.\u001b[39mI_r \u001b[38;5;241m=\u001b[39m \u001b[38;5;28mself\u001b[39m\u001b[38;5;241m.\u001b[39mm_AD \u001b[38;5;241m/\u001b[39m \u001b[38;5;241m3\u001b[39m \u001b[38;5;241m*\u001b[39m (\u001b[38;5;28mself\u001b[39m\u001b[38;5;241m.\u001b[39ml_AD \u001b[38;5;241m*\u001b[39m\u001b[38;5;241m*\u001b[39m \u001b[38;5;241m2\u001b[39m \u001b[38;5;241m/\u001b[39m \u001b[38;5;241m4\u001b[39m \u001b[38;5;241m+\u001b[39m \u001b[38;5;241m3\u001b[39m \u001b[38;5;241m*\u001b[39m \u001b[38;5;28;43mself\u001b[39;49m\u001b[38;5;241;43m.\u001b[39;49m\u001b[43ml_com\u001b[49m\u001b[38;5;241m*\u001b[39m\u001b[38;5;241m*\u001b[39m\u001b[38;5;241m2\u001b[39m) \u001b[38;5;241m+\u001b[39m \\\n\u001b[1;32m     36\u001b[0m             \u001b[38;5;28mself\u001b[39m\u001b[38;5;241m.\u001b[39mm_BE \u001b[38;5;241m*\u001b[39m \u001b[38;5;28mself\u001b[39m\u001b[38;5;241m.\u001b[39ml_BE\u001b[38;5;241m*\u001b[39m\u001b[38;5;241m*\u001b[39m\u001b[38;5;241m2\u001b[39m \u001b[38;5;241m/\u001b[39m \u001b[38;5;241m3\u001b[39m \u001b[38;5;241m+\u001b[39m \\\n\u001b[1;32m     37\u001b[0m             \u001b[38;5;28mself\u001b[39m\u001b[38;5;241m.\u001b[39mI_e \u001b[38;5;241m+\u001b[39m \u001b[38;5;28mself\u001b[39m\u001b[38;5;241m.\u001b[39mm_E \u001b[38;5;241m*\u001b[39m \u001b[38;5;28mself\u001b[39m\u001b[38;5;241m.\u001b[39ml_BE \u001b[38;5;241m*\u001b[39m\u001b[38;5;241m*\u001b[39m \u001b[38;5;241m2\u001b[39m\n\u001b[1;32m     39\u001b[0m \u001b[38;5;28mself\u001b[39m\u001b[38;5;241m.\u001b[39mD_norm_component \u001b[38;5;241m=\u001b[39m (\u001b[38;5;28mself\u001b[39m\u001b[38;5;241m.\u001b[39mm_AD \u001b[38;5;241m*\u001b[39m \u001b[38;5;28mself\u001b[39m\u001b[38;5;241m.\u001b[39ml_AD \u001b[38;5;241m/\u001b[39m \u001b[38;5;241m2\u001b[39m \u001b[38;5;241m+\u001b[39m \u001b[38;5;28mself\u001b[39m\u001b[38;5;241m.\u001b[39mm_BE \u001b[38;5;241m*\u001b[39m \u001b[38;5;28mself\u001b[39m\u001b[38;5;241m.\u001b[39ml_BE \u001b[38;5;241m/\u001b[39m \u001b[38;5;241m2\u001b[39m \u001b[38;5;241m+\u001b[39m \u001b[38;5;28mself\u001b[39m\u001b[38;5;241m.\u001b[39mm_E \u001b[38;5;241m*\u001b[39m \u001b[38;5;28mself\u001b[39m\u001b[38;5;241m.\u001b[39ml_BE) \u001b[38;5;241m/\u001b[39m \u001b[38;5;28mself\u001b[39m\u001b[38;5;241m.\u001b[39mm_rod\n\u001b[1;32m     40\u001b[0m \u001b[38;5;28mself\u001b[39m\u001b[38;5;241m.\u001b[39mD_theta_component \u001b[38;5;241m=\u001b[39m (\u001b[38;5;28mself\u001b[39m\u001b[38;5;241m.\u001b[39mm_B \u001b[38;5;241m+\u001b[39m \u001b[38;5;28mself\u001b[39m\u001b[38;5;241m.\u001b[39mm_BE \u001b[38;5;241m+\u001b[39m \u001b[38;5;28mself\u001b[39m\u001b[38;5;241m.\u001b[39mm_E) \u001b[38;5;241m/\u001b[39m \u001b[38;5;28mself\u001b[39m\u001b[38;5;241m.\u001b[39mm_rod\n",
      "\u001b[0;31mAttributeError\u001b[0m: 'ModelDynamics' object has no attribute 'l_com'"
     ]
    }
   ],
   "source": [
    "dynamics = ModelDynamics()\n",
    "\n",
    "dynamics.eval_M_dot(0, 2)"
   ]
  },
  {
   "cell_type": "code",
   "execution_count": 66,
   "metadata": {},
   "outputs": [
    {
     "data": {
      "text/latex": [
       "$\\displaystyle \\frac{R \\left(- R^{2} x_{A} \\sin{\\left(\\theta{\\left(t \\right)} \\right)} + R^{2} y_{A} \\cos{\\left(\\theta{\\left(t \\right)} \\right)} + x_{A}^{3} \\sin{\\left(\\theta{\\left(t \\right)} \\right)} - x_{A}^{2} y_{A} \\cos{\\left(\\theta{\\left(t \\right)} \\right)} + x_{A} y_{A}^{2} \\sin{\\left(\\theta{\\left(t \\right)} \\right)} - y_{A}^{3} \\cos{\\left(\\theta{\\left(t \\right)} \\right)}\\right) \\frac{d}{d t} \\theta{\\left(t \\right)}}{\\left(\\left(R \\sin{\\left(\\theta{\\left(t \\right)} \\right)} - y_{A}\\right)^{2} + \\left(R \\cos{\\left(\\theta{\\left(t \\right)} \\right)} - x_{A}\\right)^{2}\\right)^{2}}$"
      ],
      "text/plain": [
       "R*(-R**2*x_A*sin(theta(t)) + R**2*y_A*cos(theta(t)) + x_A**3*sin(theta(t)) - x_A**2*y_A*cos(theta(t)) + x_A*y_A**2*sin(theta(t)) - y_A**3*cos(theta(t)))*Derivative(theta(t), t)/((R*sin(theta(t)) - y_A)**2 + (R*cos(theta(t)) - x_A)**2)**2"
      ]
     },
     "execution_count": 66,
     "metadata": {},
     "output_type": "execute_result"
    }
   ],
   "source": []
  }
 ],
 "metadata": {
  "interpreter": {
   "hash": "297106f2e3c81013d26de461bed8940a29f10039963820eb6901595add81bfe2"
  },
  "kernelspec": {
   "display_name": "Python 3.10.10 ('mam')",
   "language": "python",
   "name": "python3"
  },
  "language_info": {
   "codemirror_mode": {
    "name": "ipython",
    "version": 3
   },
   "file_extension": ".py",
   "mimetype": "text/x-python",
   "name": "python",
   "nbconvert_exporter": "python",
   "pygments_lexer": "ipython3",
   "version": "3.10.10"
  },
  "orig_nbformat": 4
 },
 "nbformat": 4,
 "nbformat_minor": 2
}
