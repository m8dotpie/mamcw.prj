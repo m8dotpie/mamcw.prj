{
 "cells": [
  {
   "cell_type": "markdown",
   "metadata": {},
   "source": [
    "# Dynamics of the system"
   ]
  },
  {
   "cell_type": "code",
   "execution_count": 16,
   "metadata": {},
   "outputs": [],
   "source": [
    "import sympy as sp\n",
    "from sympy.physics.mechanics import dynamicsymbols, vlatex\n",
    "import numpy as np\n",
    "from IPython.display import display, Math"
   ]
  },
  {
   "cell_type": "markdown",
   "metadata": {},
   "source": [
    "## Variables & symbolic constants  "
   ]
  },
  {
   "cell_type": "markdown",
   "metadata": {},
   "source": [
    "<img src=\"assets/system_image.jpg\" alt=\"alt text\" width=\"600\"/>"
   ]
  },
  {
   "cell_type": "markdown",
   "metadata": {},
   "source": [
    "Constants:\n",
    "* $m_d, m_B, m_E, m_{BE}, m_{AD}$ -- masses of disk, connector, end-effector and rods $BE$ and $AD$ respectively\n",
    "* $R, l_{BE}, l_{AD}$ -- radius of the disk, length of $BE$ and $AD$ respectively\n",
    "* $I_e$ -- inertia of end-effector around center of mass\n",
    "* Coordinates of point $A$\n",
    "* Angle of rotation of gravity force $\\theta_g$ "
   ]
  },
  {
   "cell_type": "code",
   "execution_count": 17,
   "metadata": {},
   "outputs": [],
   "source": [
    "m_d, m_B, m_E, m_BE, m_AD = sp.symbols('m_d, m_B, m_E, m_{BE}, m_{AD}')\n",
    "m_rod = m_B + m_E + m_BE + m_AD\n",
    "R, l_BE, l_AD = sp.symbols('R, l_{BE}, l_{AD}')\n",
    "I_e = sp.symbols('I_e')\n",
    "x_A, y_A = sp.symbols('x_A, y_A')\n",
    "r_A = sp.Matrix([x_A, y_A])\n",
    "theta_g = sp.symbols('theta_g')\n",
    "\n",
    "I_d = m_d * R**2 / 2"
   ]
  },
  {
   "cell_type": "markdown",
   "metadata": {},
   "source": [
    "Variables:\n",
    "* $\\theta(t)$ -- generalized coordinate, angle of rotations of the disk\n",
    "* $\\tau_{ext}$ -- external torque, applied to the disk"
   ]
  },
  {
   "cell_type": "code",
   "execution_count": 18,
   "metadata": {},
   "outputs": [],
   "source": [
    "t = sp.symbols('t')\n",
    "theta, tau_ext = dynamicsymbols('theta, tau_{ext}') \n",
    "dtheta = theta.diff(t)"
   ]
  },
  {
   "cell_type": "markdown",
   "metadata": {},
   "source": [
    "# System's points as function of coordinate"
   ]
  },
  {
   "cell_type": "markdown",
   "metadata": {},
   "source": [
    "There are many points & parameters in the system, which is important to derive from the system coordinates. These are:\n",
    "* $r_B, r_M, r_F, r_E$ -- coordinates of points $B, M, F, E$ respectively\n",
    "* Angle $\\alpha$ between rod and horizon\n",
    "* $l_{com}$ is a specific parameter, representing distance between point B and the center of mass of the inner rod\n",
    "* $\\frac{r_B - r_a}{||r_B - r_A||}$, represented as `r_AB_norm` is a normal vector, collinear with the rod"
   ]
  },
  {
   "cell_type": "code",
   "execution_count": 19,
   "metadata": {},
   "outputs": [],
   "source": [
    "x_B, y_B = R * sp.cos(theta), R * sp.sin(theta)\n",
    "r_B = sp.Matrix([x_B, y_B])\n",
    "\n",
    "alpha = sp.atan2(y_B - y_A, x_B - x_A)\n",
    "r_AB_norm = sp.Matrix([sp.cos(alpha), sp.sin(alpha)])\n",
    "\n",
    "r_M = r_A + r_AB_norm * l_AD / 2\n",
    "r_F = r_B + r_AB_norm * l_BE / 2\n",
    "r_E = r_B + r_AB_norm * l_BE\n",
    "\n",
    "l_com = (r_B - r_A).norm() - l_AD / 2"
   ]
  },
  {
   "cell_type": "markdown",
   "metadata": {},
   "source": [
    "It is also quite handy to have an angular velocity $\\dot{\\alpha}$ to calculate kinetic energy of the system. Moreover, the variable $K$ is introduced, such that:\n",
    "$$\\dot{\\alpha} = K \\dot{\\theta}$$"
   ]
  },
  {
   "cell_type": "code",
   "execution_count": 20,
   "metadata": {},
   "outputs": [
    {
     "data": {
      "text/latex": [
       "$\\displaystyle \\dot{\\alpha} = - \\frac{R \\left(- R \\sin{\\left(\\theta \\right)} + y_{A}\\right) \\sin{\\left(\\theta \\right)} \\dot{\\theta}}{\\left(R \\sin{\\left(\\theta \\right)} - y_{A}\\right)^{2} + \\left(R \\cos{\\left(\\theta \\right)} - x_{A}\\right)^{2}} + \\frac{R \\left(R \\cos{\\left(\\theta \\right)} - x_{A}\\right) \\cos{\\left(\\theta \\right)} \\dot{\\theta}}{\\left(R \\sin{\\left(\\theta \\right)} - y_{A}\\right)^{2} + \\left(R \\cos{\\left(\\theta \\right)} - x_{A}\\right)^{2}} = K \\dot{\\theta}$"
      ],
      "text/plain": [
       "<IPython.core.display.Math object>"
      ]
     },
     "metadata": {},
     "output_type": "display_data"
    }
   ],
   "source": [
    "dalpha = sp.diff(alpha, t)\n",
    "K = sp.diff(alpha, theta)\n",
    "\n",
    "display(Math(f'$\\dot{{\\\\alpha}} = {vlatex(dalpha)} = K \\dot{{\\\\theta}}$'))"
   ]
  },
  {
   "cell_type": "markdown",
   "metadata": {},
   "source": [
    "# Energy of the system"
   ]
  },
  {
   "cell_type": "markdown",
   "metadata": {},
   "source": [
    "## Velocity of rod's center of mass"
   ]
  },
  {
   "cell_type": "markdown",
   "metadata": {},
   "source": [
    "One of the key component of the kinetic energy of the system is the velocity of center of mass. "
   ]
  },
  {
   "cell_type": "markdown",
   "metadata": {},
   "source": [
    "The position itself could be expressed as follows:\n",
    "$$r_{com} = \\frac{1}{m_{rod}} (m_{AD} r_M + m_B r_B + m_{BE} r_F + m_E r_E)$$"
   ]
  },
  {
   "cell_type": "markdown",
   "metadata": {},
   "source": [
    "Despite the `sympy` is cabable of differentiating the velocity symbolically, it is useful to derive these equations manually:\n",
    "$$v_{com} = \\frac{1}{m_{rod}}\\left( (m_{AD} \\frac{l_{AD}}{2} + m_{BE} \\frac{l_{BE}}{2} + m_E l_{BE}) \\begin{bmatrix} -\\sin \\alpha \\\\ \\cos \\alpha \\end{bmatrix} K +  (m_B + m_{BE} + m_E) \\begin{bmatrix} -\\sin \\theta \\\\ \\cos \\theta \\end{bmatrix}\\right) \\dot{\\theta} = D \\dot{\\theta}$$"
   ]
  },
  {
   "cell_type": "code",
   "execution_count": 21,
   "metadata": {},
   "outputs": [],
   "source": [
    "r_com = (m_AD * r_M + m_B * r_B + m_BE * r_F + m_E * r_E) / m_rod\n",
    "D = ((m_AD * l_AD / 2 + m_BE * l_BE / 2 + m_E * l_BE) * sp.Matrix([-sp.sin(alpha), sp.cos(alpha)]) * K + (m_B + m_BE + m_E) * r_AB_norm.diff(theta)) / m_rod"
   ]
  },
  {
   "cell_type": "markdown",
   "metadata": {},
   "source": [
    "## Inertia of the rod"
   ]
  },
  {
   "cell_type": "markdown",
   "metadata": {},
   "source": [
    "The intertia of the rod around rotational point $B$ is as follows:\n",
    "$$I_r = \\frac{m_{AD}}{3} (\\frac{l_{AD}^2}{4} + 3 l_{com}^2) + \\frac{1}{3} m_{BE} l_{BE}^2 + I_E + m_E l_{BE}^2$$"
   ]
  },
  {
   "cell_type": "code",
   "execution_count": 22,
   "metadata": {},
   "outputs": [],
   "source": [
    "I_r = m_AD / 3 * (l_AD ** 2 / 4 + 3 * l_com**2) + m_BE * l_BE**2 / 3 + I_e + m_E * l_BE ** 2"
   ]
  },
  {
   "cell_type": "markdown",
   "metadata": {},
   "source": [
    "# Kinetic Energy"
   ]
  },
  {
   "cell_type": "markdown",
   "metadata": {},
   "source": [
    "Using all calculations above, the kinetic energy could be formulated as follows:\n",
    "$$K = \\frac{1}{2} m_{rod} v_{com}^T v_{com} + \\frac{1}{2} I_d \\dot{\\theta}^2 + \\frac{1}{2} I_r \\dot{\\alpha}^2 = \\frac{1}{2} M \\dot{\\theta}^2,$$\n",
    "where:\n",
    "$$M = m_{rod} D^T D  + I_d + I_r K^2$$"
   ]
  },
  {
   "cell_type": "code",
   "execution_count": 27,
   "metadata": {},
   "outputs": [
    {
     "data": {
      "text/latex": [
       "$\\displaystyle \\frac{R^{2} m_{d}}{2} + \\left(- \\frac{R \\left(- R \\sin{\\left(\\theta{\\left(t \\right)} \\right)} + y_{A}\\right) \\sin{\\left(\\theta{\\left(t \\right)} \\right)}}{\\left(R \\sin{\\left(\\theta{\\left(t \\right)} \\right)} - y_{A}\\right)^{2} + \\left(R \\cos{\\left(\\theta{\\left(t \\right)} \\right)} - x_{A}\\right)^{2}} + \\frac{R \\left(R \\cos{\\left(\\theta{\\left(t \\right)} \\right)} - x_{A}\\right) \\cos{\\left(\\theta{\\left(t \\right)} \\right)}}{\\left(R \\sin{\\left(\\theta{\\left(t \\right)} \\right)} - y_{A}\\right)^{2} + \\left(R \\cos{\\left(\\theta{\\left(t \\right)} \\right)} - x_{A}\\right)^{2}}\\right)^{2} \\left(I_{e} + l_{BE}^{2} m_{E} + \\frac{l_{BE}^{2} m_{BE}}{3} + \\frac{m_{AD} \\left(\\frac{l_{AD}^{2}}{4} + 3 \\left(- \\frac{l_{AD}}{2} + \\sqrt{\\left|{R \\sin{\\left(\\theta{\\left(t \\right)} \\right)} - y_{A}}\\right|^{2} + \\left|{R \\cos{\\left(\\theta{\\left(t \\right)} \\right)} - x_{A}}\\right|^{2}}\\right)^{2}\\right)}{3}\\right) + \\left(\\left|{\\frac{- \\frac{\\left(R \\sin{\\left(\\theta{\\left(t \\right)} \\right)} - y_{A}\\right) \\left(\\frac{R \\left(- R \\sin{\\left(\\theta{\\left(t \\right)} \\right)} + y_{A}\\right) \\sin{\\left(\\theta{\\left(t \\right)} \\right)}}{\\left(R \\sin{\\left(\\theta{\\left(t \\right)} \\right)} - y_{A}\\right)^{2} + \\left(R \\cos{\\left(\\theta{\\left(t \\right)} \\right)} - x_{A}\\right)^{2}} - \\frac{R \\left(R \\cos{\\left(\\theta{\\left(t \\right)} \\right)} - x_{A}\\right) \\cos{\\left(\\theta{\\left(t \\right)} \\right)}}{\\left(R \\sin{\\left(\\theta{\\left(t \\right)} \\right)} - y_{A}\\right)^{2} + \\left(R \\cos{\\left(\\theta{\\left(t \\right)} \\right)} - x_{A}\\right)^{2}}\\right) \\left(\\frac{l_{AD} m_{AD}}{2} + l_{BE} m_{E} + \\frac{l_{BE} m_{BE}}{2}\\right)}{\\sqrt{\\left(R \\sin{\\left(\\theta{\\left(t \\right)} \\right)} - y_{A}\\right)^{2} + \\left(R \\cos{\\left(\\theta{\\left(t \\right)} \\right)} - x_{A}\\right)^{2}}} + \\left(\\frac{R \\sin{\\left(\\theta{\\left(t \\right)} \\right)}}{\\sqrt{\\left(R \\sin{\\left(\\theta{\\left(t \\right)} \\right)} - y_{A}\\right)^{2} + \\left(R \\cos{\\left(\\theta{\\left(t \\right)} \\right)} - x_{A}\\right)^{2}}} - \\frac{\\left(R \\cos{\\left(\\theta{\\left(t \\right)} \\right)} - x_{A}\\right) \\left(- R \\left(R \\sin{\\left(\\theta{\\left(t \\right)} \\right)} - y_{A}\\right) \\cos{\\left(\\theta{\\left(t \\right)} \\right)} + R \\left(R \\cos{\\left(\\theta{\\left(t \\right)} \\right)} - x_{A}\\right) \\sin{\\left(\\theta{\\left(t \\right)} \\right)}\\right)}{\\left(\\left(R \\sin{\\left(\\theta{\\left(t \\right)} \\right)} - y_{A}\\right)^{2} + \\left(R \\cos{\\left(\\theta{\\left(t \\right)} \\right)} - x_{A}\\right)^{2}\\right)^{\\frac{3}{2}}}\\right) \\left(m_{B} + m_{E} + m_{BE}\\right)}{m_{B} + m_{E} + m_{AD} + m_{BE}}}\\right|^{2} + \\left|{\\frac{\\frac{\\left(R \\cos{\\left(\\theta{\\left(t \\right)} \\right)} - x_{A}\\right) \\left(\\frac{R \\left(- R \\sin{\\left(\\theta{\\left(t \\right)} \\right)} + y_{A}\\right) \\sin{\\left(\\theta{\\left(t \\right)} \\right)}}{\\left(R \\sin{\\left(\\theta{\\left(t \\right)} \\right)} - y_{A}\\right)^{2} + \\left(R \\cos{\\left(\\theta{\\left(t \\right)} \\right)} - x_{A}\\right)^{2}} - \\frac{R \\left(R \\cos{\\left(\\theta{\\left(t \\right)} \\right)} - x_{A}\\right) \\cos{\\left(\\theta{\\left(t \\right)} \\right)}}{\\left(R \\sin{\\left(\\theta{\\left(t \\right)} \\right)} - y_{A}\\right)^{2} + \\left(R \\cos{\\left(\\theta{\\left(t \\right)} \\right)} - x_{A}\\right)^{2}}\\right) \\left(\\frac{l_{AD} m_{AD}}{2} + l_{BE} m_{E} + \\frac{l_{BE} m_{BE}}{2}\\right)}{\\sqrt{\\left(R \\sin{\\left(\\theta{\\left(t \\right)} \\right)} - y_{A}\\right)^{2} + \\left(R \\cos{\\left(\\theta{\\left(t \\right)} \\right)} - x_{A}\\right)^{2}}} - \\left(\\frac{R \\cos{\\left(\\theta{\\left(t \\right)} \\right)}}{\\sqrt{\\left(R \\sin{\\left(\\theta{\\left(t \\right)} \\right)} - y_{A}\\right)^{2} + \\left(R \\cos{\\left(\\theta{\\left(t \\right)} \\right)} - x_{A}\\right)^{2}}} - \\frac{\\left(R \\sin{\\left(\\theta{\\left(t \\right)} \\right)} - y_{A}\\right) \\left(R \\left(R \\sin{\\left(\\theta{\\left(t \\right)} \\right)} - y_{A}\\right) \\cos{\\left(\\theta{\\left(t \\right)} \\right)} - R \\left(R \\cos{\\left(\\theta{\\left(t \\right)} \\right)} - x_{A}\\right) \\sin{\\left(\\theta{\\left(t \\right)} \\right)}\\right)}{\\left(\\left(R \\sin{\\left(\\theta{\\left(t \\right)} \\right)} - y_{A}\\right)^{2} + \\left(R \\cos{\\left(\\theta{\\left(t \\right)} \\right)} - x_{A}\\right)^{2}\\right)^{\\frac{3}{2}}}\\right) \\left(m_{B} + m_{E} + m_{BE}\\right)}{m_{B} + m_{E} + m_{AD} + m_{BE}}}\\right|^{2}\\right) \\left(m_{B} + m_{E} + m_{AD} + m_{BE}\\right)$"
      ],
      "text/plain": [
       "R**2*m_d/2 + (-R*(-R*sin(theta(t)) + y_A)*sin(theta(t))/((R*sin(theta(t)) - y_A)**2 + (R*cos(theta(t)) - x_A)**2) + R*(R*cos(theta(t)) - x_A)*cos(theta(t))/((R*sin(theta(t)) - y_A)**2 + (R*cos(theta(t)) - x_A)**2))**2*(I_e + l_{BE}**2*m_E + l_{BE}**2*m_{BE}/3 + m_{AD}*(l_{AD}**2/4 + 3*(-l_{AD}/2 + sqrt(Abs(R*sin(theta(t)) - y_A)**2 + Abs(R*cos(theta(t)) - x_A)**2))**2)/3) + (Abs((-(R*sin(theta(t)) - y_A)*(R*(-R*sin(theta(t)) + y_A)*sin(theta(t))/((R*sin(theta(t)) - y_A)**2 + (R*cos(theta(t)) - x_A)**2) - R*(R*cos(theta(t)) - x_A)*cos(theta(t))/((R*sin(theta(t)) - y_A)**2 + (R*cos(theta(t)) - x_A)**2))*(l_{AD}*m_{AD}/2 + l_{BE}*m_E + l_{BE}*m_{BE}/2)/sqrt((R*sin(theta(t)) - y_A)**2 + (R*cos(theta(t)) - x_A)**2) + (R*sin(theta(t))/sqrt((R*sin(theta(t)) - y_A)**2 + (R*cos(theta(t)) - x_A)**2) - (R*cos(theta(t)) - x_A)*(-R*(R*sin(theta(t)) - y_A)*cos(theta(t)) + R*(R*cos(theta(t)) - x_A)*sin(theta(t)))/((R*sin(theta(t)) - y_A)**2 + (R*cos(theta(t)) - x_A)**2)**(3/2))*(m_B + m_E + m_{BE}))/(m_B + m_E + m_{AD} + m_{BE}))**2 + Abs(((R*cos(theta(t)) - x_A)*(R*(-R*sin(theta(t)) + y_A)*sin(theta(t))/((R*sin(theta(t)) - y_A)**2 + (R*cos(theta(t)) - x_A)**2) - R*(R*cos(theta(t)) - x_A)*cos(theta(t))/((R*sin(theta(t)) - y_A)**2 + (R*cos(theta(t)) - x_A)**2))*(l_{AD}*m_{AD}/2 + l_{BE}*m_E + l_{BE}*m_{BE}/2)/sqrt((R*sin(theta(t)) - y_A)**2 + (R*cos(theta(t)) - x_A)**2) - (R*cos(theta(t))/sqrt((R*sin(theta(t)) - y_A)**2 + (R*cos(theta(t)) - x_A)**2) - (R*sin(theta(t)) - y_A)*(R*(R*sin(theta(t)) - y_A)*cos(theta(t)) - R*(R*cos(theta(t)) - x_A)*sin(theta(t)))/((R*sin(theta(t)) - y_A)**2 + (R*cos(theta(t)) - x_A)**2)**(3/2))*(m_B + m_E + m_{BE}))/(m_B + m_E + m_{AD} + m_{BE}))**2)*(m_B + m_E + m_{AD} + m_{BE})"
      ]
     },
     "execution_count": 27,
     "metadata": {},
     "output_type": "execute_result"
    }
   ],
   "source": [
    "M = m_rod * D.norm()**2 + I_d + I_r * K**2\n",
    "M"
   ]
  },
  {
   "cell_type": "markdown",
   "metadata": {},
   "source": [
    "## Potential energy"
   ]
  }
 ],
 "metadata": {
  "interpreter": {
   "hash": "d4d3f26143d840abd1f233ca3d50bb4a18cc55e7053878047af44a38a771fc13"
  },
  "kernelspec": {
   "display_name": "Python 3.10.10 ('base')",
   "language": "python",
   "name": "python3"
  },
  "language_info": {
   "codemirror_mode": {
    "name": "ipython",
    "version": 3
   },
   "file_extension": ".py",
   "mimetype": "text/x-python",
   "name": "python",
   "nbconvert_exporter": "python",
   "pygments_lexer": "ipython3",
   "version": "3.10.10"
  },
  "orig_nbformat": 4
 },
 "nbformat": 4,
 "nbformat_minor": 2
}
