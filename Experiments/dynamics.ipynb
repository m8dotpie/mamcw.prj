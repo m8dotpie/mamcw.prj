{
 "cells": [
  {
   "attachments": {},
   "cell_type": "markdown",
   "metadata": {},
   "source": [
    "# Dynamics experiments"
   ]
  },
  {
   "cell_type": "code",
   "execution_count": null,
   "metadata": {},
   "outputs": [],
   "source": [
    "%matplotlib inline"
   ]
  },
  {
   "cell_type": "code",
   "execution_count": null,
   "metadata": {},
   "outputs": [],
   "source": [
    "import numpy as np\n",
    "import matplotlib.pyplot as plt\n",
    "import numpy as np\n",
    "import sympy as sp\n",
    "import matplotlib.pyplot as plt\n",
    "import matplotlib.patches as pltp\n",
    "from matplotlib.animation import FuncAnimation, PillowWriter\n",
    "from numpy import exp, pi, array, asarray\n",
    "from sympy.solvers import solve\n",
    "from sympy import Symbol, Ellipse, Point, Line, Matrix, diff\n"
   ]
  },
  {
   "attachments": {},
   "cell_type": "markdown",
   "metadata": {},
   "source": [
    "## Analytical kinematics"
   ]
  },
  {
   "cell_type": "code",
   "execution_count": null,
   "metadata": {},
   "outputs": [],
   "source": [
    "def get_act(p1, p2, act_len):\n",
    "    '''Get coordinates of the actuator based on two joints' positions'''\n",
    "    dist = sp.sqrt((p1.x - p2.x) ** 2 + (p1.y - p2.y) ** 2)\n",
    "    new_len = dist + act_len\n",
    "    p12 = Point(new_len / dist * (p2 - p1) + p1)\n",
    "    return p12"
   ]
  },
  {
   "cell_type": "code",
   "execution_count": null,
   "metadata": {},
   "outputs": [],
   "source": [
    "t_begin = 0\n",
    "steps = 100\n",
    "t_end = np.abs(4 * np.pi / w)\n",
    "dt = (t_end - t_begin) / steps\n",
    "ts = np.linspace(t_begin, t_end, steps)\n",
    "t = sp.Symbol('t')\n",
    "\n",
    "delta12 = (12, 0,)               # Distance between two mechanisms\n",
    "\n",
    "w1 = 1\n",
    "a1 = 5*np.pi/6                                  \n",
    "l1 = .1                                      \n",
    "R1, R2 = 1, 1.5\n",
    "center1 = Point(0, 0)                            \n",
    "center2 = Point(\n",
    "    center1[0] + (R1 + R2 + l1)*np.cos(a1), \n",
    "    center1[1] + (R1 + R2 + l1)*np.sin(a1)\n",
    ")\n",
    "d1, d2 = 0.8, 1.4                                  \n",
    "phi11, phi12 = 0, np.pi                              \n",
    "act_len1 = 2\n"
   ]
  },
  {
   "cell_type": "code",
   "execution_count": null,
   "metadata": {},
   "outputs": [],
   "source": [
    "# Position of revolute joints and end effectors\n",
    "rev1 = Point(center1.x + d1 * sp.cos(w1 * t + phi11), center1.y + d1 * sp.sin(w1 * t + phi11))\n",
    "rev2 = Point(center2.x + d2 * sp.cos(w1 * t + phi12), center2.y + d2 * sp.sin(w1 * t + phi12))\n",
    "ee1 = get_act(rev1, rev2, act_len1)\n",
    "\n",
    "# Calculating angles of rods\n",
    "rod_angle1 = sp.atan2(rev2.y - rev1.y, rev2.x - rev1.x)"
   ]
  },
  {
   "cell_type": "code",
   "execution_count": null,
   "metadata": {},
   "outputs": [],
   "source": [
    "# Precalculate all trajectories via substitution\n",
    "rev1s = []\n",
    "rev2s = []\n",
    "ee1s = []\n",
    "ra1s = []\n",
    "\n",
    "for frame in ts:\n",
    "    rev1s.append(rev1.subs(t, frame))\n",
    "    rev2s.append(rev2.subs(t, frame))\n",
    "    ee1s.append(ee1.subs(t, frame))\n",
    "    ra1s.append(rod_angle1.subs(t, frame))\n",
    "rev1s = np.array(rev1s, dtype=np.float64)\n",
    "rev2s = np.array(rev2s, dtype=np.float64)\n",
    "ee1s = np.array(ee1s, dtype=np.float64)\n",
    "ra1s = np.array(ra1s, dtype=np.float64)"
   ]
  },
  {
   "cell_type": "code",
   "execution_count": null,
   "metadata": {},
   "outputs": [],
   "source": [
    "# Precisely calculate end-effector trajectory\n",
    "# For better velocity calculation\n",
    "# Not necessary\n",
    "\n",
    "ee1s_precise = []\n",
    "precision_dt = 0.07\n",
    "precision_steps = int((t_end - t_begin) / precision_dt)\n",
    "\n",
    "cur_time = 0\n",
    "for _ in range(precision_steps):\n",
    "    ee1s_precise.append(ee1.subs(t, cur_time))\n",
    "    if len(ee1s_precise) > 1 and ee1s_precise[-1] == ee1s_precise[0]:\n",
    "        break\n",
    "    cur_time += precision_dt\n",
    "\n",
    "ee1s_precise = np.array(ee1s_precise, dtype=np.float64)"
   ]
  },
  {
   "attachments": {},
   "cell_type": "markdown",
   "metadata": {},
   "source": [
    "## Dynamics\n"
   ]
  },
  {
   "attachments": {},
   "cell_type": "markdown",
   "metadata": {},
   "source": [
    "### First task"
   ]
  },
  {
   "cell_type": "markdown",
   "metadata": {},
   "source": []
  },
  {
   "attachments": {},
   "cell_type": "markdown",
   "metadata": {},
   "source": [
    "Task: we have initial torques $\\tau_1$ and $\\tau_2$ for each wheel. "
   ]
  }
 ],
 "metadata": {
  "kernelspec": {
   "display_name": "Python 3",
   "language": "python",
   "name": "python3"
  },
  "language_info": {
   "name": "python",
   "version": "3.10.6"
  },
  "orig_nbformat": 4,
  "vscode": {
   "interpreter": {
    "hash": "916dbcbb3f70747c44a77c7bcd40155683ae19c65e1c03b4aa3499c5328201f1"
   }
  }
 },
 "nbformat": 4,
 "nbformat_minor": 2
}
