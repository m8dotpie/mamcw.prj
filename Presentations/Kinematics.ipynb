{
 "cells": [
  {
   "cell_type": "markdown",
   "id": "6bc9826c",
   "metadata": {
    "slideshow": {
     "slide_type": "slide"
    }
   },
   "source": [
    "# Mechanics & Machines\n",
    "## Course Project\n",
    "## Kinematics\n",
    "Igor Alentev & Ivan Domrachev"
   ]
  },
  {
   "cell_type": "markdown",
   "id": "a2d06813",
   "metadata": {
    "slideshow": {
     "slide_type": "slide"
    }
   },
   "source": [
    "# Model Analysis\n",
    "<img src=\"assets/base_model_v1.jpeg\" width=\"250\" align=\"center\">"
   ]
  },
  {
   "cell_type": "markdown",
   "id": "148f219d",
   "metadata": {
    "slideshow": {
     "slide_type": "subslide"
    }
   },
   "source": [
    "## General Actions\n",
    "\n",
    "1. Follow predifined trajectory\n",
    "2. Catch an item\n",
    "3. Throw an item"
   ]
  },
  {
   "cell_type": "markdown",
   "id": "5bcaae96",
   "metadata": {
    "slideshow": {
     "slide_type": "subslide"
    }
   },
   "source": [
    "## Following a trajectory\n",
    "\n",
    "There are several approaches to the problem. One of them is with uncontrolled joints.\n",
    "We will need:\n",
    "1. One prismatic joint\n",
    "2. Two revolute joints"
   ]
  },
  {
   "attachments": {},
   "cell_type": "markdown",
   "id": "47622d3f",
   "metadata": {
    "slideshow": {
     "slide_type": "subslide"
    }
   },
   "source": [
    "## Example\n",
    "<img src=\"assets/ex1.gif\" width=\"600\" align=\"right\"> \n",
    "\n",
    "* Black bar is actuator bar\n",
    "* Red bar is prismatic bar\n",
    "* Red dots are revolute joints\n",
    "* Blue dots centers of gears\n",
    "* Green dot is end-effector itself\n",
    "\n",
    "## How to calculate end-effector velocity?"
   ]
  },
  {
   "attachments": {},
   "cell_type": "markdown",
   "id": "30f49c75",
   "metadata": {},
   "source": [
    "### Obvious assumption - ICV\n",
    "\n",
    "We know lines of actions of velocities, know perpendicular lines $\\Rightarrow$ can easily find velocity"
   ]
  },
  {
   "attachments": {},
   "cell_type": "markdown",
   "id": "7a6a6dd6",
   "metadata": {},
   "source": [
    "**No!** Since we have a prismatic joint, it deformes during the action, as a result, ICV does not apply."
   ]
  },
  {
   "attachments": {},
   "cell_type": "markdown",
   "id": "71f22824",
   "metadata": {},
   "source": [
    "The only solution which seems optimal for us is simple numerical integration.\n",
    "It gives precise result without complex analytics.\n",
    "\n",
    "<img src=\"assets/exp2.gif\" width=\"1000\" align=\"center\"> "
   ]
  },
  {
   "attachments": {},
   "cell_type": "markdown",
   "id": "55083356",
   "metadata": {},
   "source": [
    "# What about throw ballistics?"
   ]
  },
  {
   "attachments": {},
   "cell_type": "markdown",
   "id": "28662717",
   "metadata": {},
   "source": [
    "1. When does the ball leave end-effector?\n",
    "2. With which velocity?\n",
    "3. Which path does it travel?"
   ]
  },
  {
   "attachments": {},
   "cell_type": "markdown",
   "id": "425d9df2",
   "metadata": {},
   "source": [
    "Eventually it will start flying when gained velocity will be higher than velocity of end-effector.\n",
    "\n",
    "I.e. when acceleration (derivative of velocity) changes sign $\\Rightarrow$ we can find easilly needed point.\n",
    "\n",
    "<img src=\"assets/ballistics.gif\" width=\"800\" align=\"center\"> \n",
    "\n",
    "To calculate trajectory we need nothing except $g$.\n",
    "Therefore, we can easilly calculate all trajectories together!"
   ]
  },
  {
   "attachments": {},
   "cell_type": "markdown",
   "id": "84a4a0f2",
   "metadata": {},
   "source": [
    "# HERE GO SLIDES WITH ANGLES AND THROWS"
   ]
  },
  {
   "cell_type": "markdown",
   "id": "89a878e9",
   "metadata": {},
   "source": []
  }
 ],
 "metadata": {
  "celltoolbar": "Slideshow",
  "kernelspec": {
   "display_name": "Python 3",
   "language": "python",
   "name": "python3"
  },
  "language_info": {
   "codemirror_mode": {
    "name": "ipython",
    "version": 3
   },
   "file_extension": ".py",
   "mimetype": "text/x-python",
   "name": "python",
   "nbconvert_exporter": "python",
   "pygments_lexer": "ipython3",
   "version": "3.9.6"
  },
  "vscode": {
   "interpreter": {
    "hash": "31f2aee4e71d21fbe5cf8b01ff0e069b9275f58929596ceb00d14d90e3e16cd6"
   }
  }
 },
 "nbformat": 4,
 "nbformat_minor": 5
}
